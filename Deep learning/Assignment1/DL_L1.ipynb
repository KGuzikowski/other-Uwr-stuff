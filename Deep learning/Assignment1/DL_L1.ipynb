{
  "nbformat": 4,
  "nbformat_minor": 0,
  "metadata": {
    "colab": {
      "name": "DL_L1",
      "provenance": [],
      "collapsed_sections": []
    },
    "kernelspec": {
      "display_name": "Python 3",
      "language": "python",
      "name": "python3"
    },
    "language_info": {
      "codemirror_mode": {
        "name": "ipython",
        "version": 3
      },
      "file_extension": ".py",
      "mimetype": "text/x-python",
      "name": "python",
      "nbconvert_exporter": "python",
      "pygments_lexer": "ipython3",
      "version": "3.8.3"
    }
  },
  "cells": [
    {
      "cell_type": "markdown",
      "metadata": {
        "id": "CGXgWugfJ0Vl"
      },
      "source": [
        "## Assignment 1\n",
        "\n",
        "**Submission deadlines:** \n",
        "- get at least **2** points by Tuesday, 9.03.2021\n",
        "- remaining points: last lab session before or on Tuesday, 16.03.2021\n",
        "\n",
        "**Points:** Aim to get 8 out of 12 possible points\n",
        "\n",
        "## Submission instructions\n",
        "The class is held remotely. To sumbmit your solutions please show the notebook over the video call. Make sure you know all the questions and asnwers, and that the notebook contains results (before presentation do `Runtime -> Restar and run all`)\n",
        "\n",
        "We provide starter code, however you are not required to use it as long as you properly solve the tasks.\n",
        "\n",
        "As always, please submit corrections using GitHub's Pull Requests to https://github.com/janchorowski/dl_uwr."
      ]
    },
    {
      "cell_type": "markdown",
      "metadata": {
        "id": "5S8iRaCPyO2a"
      },
      "source": [
        "# Task description\r\n",
        "\r\n",
        "## TLDR\r\n",
        "Implement and train a neural network using pure numpy."
      ]
    },
    {
      "cell_type": "markdown",
      "metadata": {
        "id": "JHcz7I2V-bVM"
      },
      "source": [
        "\r\n",
        "## Problem 1 [2p]\r\n",
        "Implement a two-layer network, manually set weights and biases to solve the XOR task.\r\n",
        "\r\n",
        "A two-layer neural network implementes a function $f: \\mathbb{R}^D \\rightarrow \\mathbb{R}^O$ where $D$ is the input dimensionality and $O$ is the output dinemsionality. The output goes through an intermediate representation (the hidden layer) with dimensionality $H$. \r\n",
        "\r\n",
        "The computations are as follows:\r\n",
        "\\begin{equation}\r\n",
        "\\begin{split}\r\n",
        "A_1 &= x W_1^T + b_1  & \\qquad\\text{Total input to neurons in the hidden layer (network's first layer)} \\\\\r\n",
        "O_1 &= \\sigma_1(A_1)  & \\qquad\\text{Output of the hidden layer} \\\\\r\n",
        "A_2 &= O_1 W_2^T + b_2 & \\qquad\\text{Total input to neurons in the output layer (network's second layer)}\\\\\r\n",
        "O_2 &= \\sigma_2(A_2) & \\qquad\\text{Output of the network}\r\n",
        "\\end{split}\r\n",
        "\\end{equation}\r\n",
        "\r\n",
        "Where $W$ are weight matrices, $b$ are bias vectors, $\\sigma$ are non-linear activation functions (e.g. the logistic sigmoid applied element-wise, or softmax).\r\n",
        "\r\n",
        "For the 2D xor problem the network will:\r\n",
        "- have 2 inputs, 2 hidden neurons, one output\r\n",
        "- use the logistic sigmoid everywhere (that way we, when hand-designig the weights, we can assume that neurons' outputs are binary).\r\n",
        "\r\n",
        "Therrefore the shapes of the data floing through the network will be:\r\n",
        "- input: $x\\in\\mathbb{}R^{2}$\r\n",
        "- hidden layer parameters: $W_1\\in\\mathbb{}R^{2\\times 2}$ and $b_1\\in\\mathbb{}R^{2}$\r\n",
        "- representations in the hidden layer: $A_1\\in\\mathbb{}R^{2}$ and $O_1\\in\\mathbb{}R^{2}$\r\n",
        "- output layer parameters: $W_2\\in\\mathbb{}R^{1\\times 2}$ and $b_1\\in\\mathbb{}R^{1}$\r\n",
        "- representations in the output layer: $A_2\\in\\mathbb{}R^{1}$ and $O_2\\in\\mathbb{}R^{1}$\r\n",
        "\r\n",
        "The network can be seen as a logistic regression model, prefixed by a nonlinear transformation of the data.\r\n",
        "\r\n",
        "The first tasks consists of:\r\n",
        "- implementing the network\r\n",
        "- selecting parametwrs ($W_1, b_1, W_2, b_2$) such that $f(x)\\approx XOR(x_1, x_2)$ where the approximation is die to the sigmoids - the output may be close to 0 or 1, but doesn't need to saturate at 0 or 1.\r\n",
        "\r\n",
        "NB: the convention on weight matrix shapes follows linear [layers in PyTorch](https://pytorch.org/docs/stable/generated/torch.nn.Linear.html).\r\n"
      ]
    },
    {
      "cell_type": "markdown",
      "metadata": {
        "id": "0QSpZxuH-bLe"
      },
      "source": [
        "## Problem 2 [2p]\r\n",
        "1. Add a backward pass.\r\n",
        "2. Use a sensible random initialization for weights and biases.\r\n",
        "3. Numerically check the correctness of your gradient computation.\r\n",
        "\r\n",
        "There is nice article about taking derivative over vectors and vector chain rule: https://explained.ai/matrix-calculus/ if someone don't have experience with suchr calculus.\r\n"
      ]
    },
    {
      "cell_type": "markdown",
      "metadata": {
        "id": "s1Tn8j0m-bAy"
      },
      "source": [
        "## Problem 3 [2p]\r\n",
        "1. Implement gradient descent\r\n",
        "2. Train your network to solve 3D XOR\r\n",
        "3. Try several hidden layer sizes, for each size record the fracton of successful trainings. Then answer:\r\n",
        "    - What is the minimal hidden size required to solve 3D XOR (even with low reliability, when the training has to be repeated multiple times)\r\n",
        "    - What is the minimal hidden size required to reliably solve 3D XOR\r\n",
        "    - Which networks are easier to train - small or large ones? Why?\r\n"
      ]
    },
    {
      "cell_type": "markdown",
      "metadata": {
        "id": "RP9Pvpmf-a2A"
      },
      "source": [
        "## Problem 4 [1p]\r\n",
        "Replace the first nonlinearity with the [ReLU](https://en.wikipedia.org/wiki/Rectifier_(neural_networks)) activation function. Find a network architecture which reliably learns the 3D XOR problem.\r\n"
      ]
    },
    {
      "cell_type": "markdown",
      "metadata": {
        "id": "cGgtpe-w-asB"
      },
      "source": [
        "## Problem 5 [1p]\r\n",
        "Add a second hidden layer to your network, implement the forward and backward pass, then demonstrate training.\r\n"
      ]
    },
    {
      "cell_type": "markdown",
      "metadata": {
        "id": "Pe-pcFeO-aiE"
      },
      "source": [
        "## Problem 6 [2p]\r\n",
        "Implement a way to have a _variable number_ of hidden layers. Check how deep sigmoid or ReLU networks you  can train. For simplicity you can assume that all hidden layers have the same number of neurons, and use the same activation function.\r\n"
      ]
    },
    {
      "cell_type": "markdown",
      "metadata": {
        "id": "kIpn17Cm-aW7"
      },
      "source": [
        "## Problem 7 [2p]\r\n",
        "For each weight matrix $w\\in\\mathbb{R}^{n\\times m}$, add a randomly initialized `backward weight` $w_b\\in\\mathbb{R}^{m\\times n}$, which will not change during training. Change the backward pass to use $w_b$ instead of $w^T$, getting an approxmatoin of the true gradient. Can you get your network to train?\r\n",
        "\r\n",
        "NB: this approach, dubbed [feedback alignment](https://www.nature.com/articles/ncomms13276), was proposed to make error backpropagation more biologically plausible, by providing a solution to the \"weight transport problem\". Regular backpropagation requires that neurons not only know their incoming weights (thet they control), but also their outgoing weights (that are controlled by neurons in the upper layers). This is nearly impossible in a real brain."
      ]
    },
    {
      "cell_type": "markdown",
      "metadata": {
        "id": "rXJaoHSH0DZO"
      },
      "source": [
        "# Solutions and starter code"
      ]
    },
    {
      "cell_type": "code",
      "metadata": {
        "id": "YiTEWD2oqW0Y"
      },
      "source": [
        "import matplotlib.pyplot as plt\n",
        "import numpy as np"
      ],
      "execution_count": 2,
      "outputs": []
    },
    {
      "cell_type": "markdown",
      "metadata": {
        "id": "eqtfJKR40J3x"
      },
      "source": [
        "XOR dataset creation"
      ]
    },
    {
      "cell_type": "code",
      "metadata": {
        "colab": {
          "base_uri": "https://localhost:8080/",
          "height": 296
        },
        "id": "lYEbCfbSpv5M",
        "outputId": "31af4969-5970-4e9a-d4d3-7546a1f03e2c"
      },
      "source": [
        "# Let's define a XOR dataset\n",
        "\n",
        "# X will be matrix of N 2-dimensional inputs\n",
        "X = np.array([[0, 0], [0, 1], [1, 0], [1, 1],], dtype=np.float32)\n",
        "# Y is a matrix of N numners - answers\n",
        "Y = np.array([[0], [1], [1], [0],], dtype=np.float32)\n",
        "\n",
        "plt.scatter(\n",
        "    X[:, 0], X[:, 1], c=Y[:, 0],\n",
        ")\n",
        "plt.xlabel(\"X[0]\")\n",
        "plt.ylabel(\"X[1]\")\n",
        "plt.axis(\"square\")"
      ],
      "execution_count": null,
      "outputs": [
        {
          "output_type": "execute_result",
          "data": {
            "text/plain": [
              "(-0.05, 1.05, -0.05, 1.05)"
            ]
          },
          "metadata": {
            "tags": []
          },
          "execution_count": 2
        },
        {
          "output_type": "display_data",
          "data": {
            "image/png": "[encoded data removed]",
            "text/plain": [
              "<Figure size 432x288 with 1 Axes>"
            ]
          },
          "metadata": {
            "tags": [],
            "needs_background": "light"
          }
        }
      ]
    },
    {
      "cell_type": "markdown",
      "metadata": {
        "id": "Rb3azMn929_I"
      },
      "source": [
        "## Problem 1"
      ]
    },
    {
      "cell_type": "markdown",
      "metadata": {
        "id": "RZCM_hdELE04"
      },
      "source": [
        "The code below contains a mock-up of a two-layer neural network. Fill in the code and manually set weights to solve the XOR problem.\n",
        "\n",
        "Please note: the shapes are set to be compatible with PyTorch's conventions:\n",
        "* a batch containing $N$ $D$-dimensional examples has shape $N\\times D$ (each example is a row!)\n",
        "* a weight matrix in a linear layer with $I$ inputs and $O$ outputs has shape $O \\times I$\n",
        "* a bias vector is a 1D vector. Please note that [broadcasting rules](https://docs.scipy.org/doc/numpy/user/basics.broadcasting.html) allow us to think about it as a $1 \\times D$ matrix."
      ]
    },
    {
      "cell_type": "code",
      "metadata": {
        "id": "lrrRuk6zLiF0"
      },
      "source": [
        "def sigmoid(x):\n",
        "    return 1 / (1 + np.exp(-x))\n",
        "\n",
        "def relu(x):\n",
        "    return np.maximum(x, 0)\n",
        "\n",
        "\n",
        "class SmallNet:\n",
        "    def __init__(self, in_features, num_hidden, dtype=np.float32):\n",
        "        self.W1 = np.zeros((num_hidden, in_features), dtype=dtype)\n",
        "        self.b1 = np.zeros((num_hidden,), dtype=dtype)\n",
        "        self.W2 = np.zeros((1, num_hidden), dtype=dtype)\n",
        "        self.b2 = np.zeros((1,), dtype=dtype)\n",
        "        self.init_params()\n",
        "\n",
        "    def init_params(self):\n",
        "        # TODO for Problem 2:\n",
        "        # set all parameters to small random values, e.g. from N(0, 0.5)\n",
        "        self.W1 =  np.random.normal(0, 0.5, self.W1.shape)\n",
        "        self.b1 =  np.random.normal(0, 0.5, self.b1.shape)\n",
        "        self.W2 =  np.random.normal(0, 0.5, self.W2.shape)\n",
        "        self.b2 =  np.random.normal(0, 0.5, self.b2.shape)\n",
        "\n",
        "    def forward(self, X, Y=None, do_backward=False, use_relu=False):\n",
        "        # TODO Problem 1: Fill in details of forward propagation\n",
        "        # Input to neurons in 1st layer\n",
        "        A1 = X @ self.W1.T + self.b1\n",
        "        # print('A1', A1)\n",
        "        # Outputs after the sigmoid non-linearity\n",
        "        O1 = relu(A1) if use_relu else sigmoid(A1)\n",
        "        # print('O1', O1)\n",
        "        # Inputs to neuron in the second layer\n",
        "        A2 = O1 @ self.W2.T + self.b2\n",
        "        # print('A2', A2)\n",
        "        # Outputs after the sigmoid non-linearity\n",
        "        O2 = sigmoid(A2)\n",
        "        # print('O2', O2)\n",
        "\n",
        "        # When Y is none, simply return the predictions. Else compute the loss\n",
        "        if Y is not None:\n",
        "            loss = -Y * np.log(O2) - (1 - Y) * np.log(1.0 - O2)\n",
        "            # normalize loss by batch size\n",
        "            loss = loss.sum() / X.shape[0]\n",
        "        else:\n",
        "            loss = np.nan\n",
        "\n",
        "        if do_backward:\n",
        "            # TODO in Problem 2:\n",
        "            # fill in the gradient computation\n",
        "            # Please note, that there is a correspondance between\n",
        "            # the forward and backward pass: with backward computations happening\n",
        "            # in reverse order.\n",
        "            # We save the gradients with respect to the parameters as fields of self.\n",
        "            # It is not very elegant, but simplifies training code later on.\n",
        "\n",
        "            # A2_grad is the gradient of loss with respect to A2\n",
        "            # Hint: there is a concise formula for the gradient\n",
        "            # of logistic sigmoid and cross-entropy loss\n",
        "            samples_no = X.shape[0]\n",
        "            A2_grad = O2 - Y\n",
        "            self.b2_grad = A2_grad.mean(0)\n",
        "            self.W2_grad = (A2_grad.T @ O1) / samples_no\n",
        "            O1_grad = A2_grad @ self.W2\n",
        "            A1_grad = O1_grad * (\n",
        "                np.heaviside(A1, 0) if use_relu else sigmoid(A1) * (1.0 - sigmoid(A1))\n",
        "            )\n",
        "            self.b1_grad = A1_grad.mean(0)\n",
        "            self.W1_grad = (A1_grad.T @ X) / samples_no\n",
        "\n",
        "        return O2, loss"
      ],
      "execution_count": 7,
      "outputs": []
    },
    {
      "cell_type": "code",
      "metadata": {
        "colab": {
          "base_uri": "https://localhost:8080/"
        },
        "id": "jJswvBk0oiIY",
        "outputId": "006d0d84-a857-4946-b7e5-282c72a1a800"
      },
      "source": [
        "# TODO Problem 1:\n",
        "# Set by hand the weight values to solve the XOR problem\n",
        "\n",
        "net = SmallNet(2, 2, dtype=np.float64)\n",
        "net.W1 = np.array([[10, 10], [10, 10]])\n",
        "net.b1 = np.array([-5, -15])\n",
        "net.W2 = np.array([[10, -10]])\n",
        "net.b2 = np.array([-5])\n",
        "\n",
        "# Hint: since we use the logistic sigmoid activation, the weights may need to\n",
        "# be fairly large\n",
        "\n",
        "\n",
        "predictions, loss = net.forward(X, Y, do_backward=True)\n",
        "for x, p in zip(X, predictions):\n",
        "    print(f\"XORnet({x}) = {p[0]}\")"
      ],
      "execution_count": null,
      "outputs": [
        {
          "output_type": "stream",
          "text": [
            "XORnet([0. 0.]) = 0.0071527881888964915\n",
            "XORnet([0. 1.]) = 0.9923558641717396\n",
            "XORnet([1. 0.]) = 0.9923558641717396\n",
            "XORnet([1. 1.]) = 0.0071527881888964785\n"
          ],
          "name": "stdout"
        }
      ]
    },
    {
      "cell_type": "markdown",
      "metadata": {
        "id": "wmxCi5Vl6_xB"
      },
      "source": [
        "## Problem 2"
      ]
    },
    {
      "cell_type": "code",
      "metadata": {
        "id": "eSM5hgJ1mrhY"
      },
      "source": [
        "def check_grad(net, param_name, X, Y, eps=1e-5):\n",
        "    \"\"\"A gradient checking routine\"\"\"\n",
        "\n",
        "    param = getattr(net, param_name)\n",
        "    param_flat_accessor = param.reshape(-1)\n",
        "\n",
        "    grad = np.empty_like(param)\n",
        "    grad_flat_accessor = grad.reshape(-1)\n",
        "\n",
        "    net.forward(X, Y, do_backward=True)\n",
        "    orig_grad = getattr(net, param_name + \"_grad\")\n",
        "    assert param.shape == orig_grad.shape\n",
        "\n",
        "    for i in range(param_flat_accessor.shape[0]):\n",
        "        orig_val = param_flat_accessor[i]\n",
        "        param_flat_accessor[i] = orig_val + eps\n",
        "        _, loss_positive = net.forward(X, Y)\n",
        "        param_flat_accessor[i] = orig_val - eps\n",
        "        _, loss_negative = net.forward(X, Y)\n",
        "        param_flat_accessor[i] = orig_val\n",
        "        grad_flat_accessor[i] = (loss_positive - loss_negative) / (2 * eps)\n",
        "    assert np.allclose(grad, orig_grad)\n",
        "    return grad, orig_grad"
      ],
      "execution_count": null,
      "outputs": []
    },
    {
      "cell_type": "code",
      "metadata": {
        "id": "TTZu0jFEvgXF"
      },
      "source": [
        "# Hint: use float64 for checking the correctness of the gradient\n",
        "net = SmallNet(2, 2, dtype=np.float64)\n",
        "\n",
        "for param_name in [\"W1\", \"b1\", \"W2\", \"b2\"]:\n",
        "    check_grad(net, param_name, X, Y)"
      ],
      "execution_count": null,
      "outputs": []
    },
    {
      "cell_type": "markdown",
      "metadata": {
        "id": "8mUOs3cVvjM2"
      },
      "source": [
        "## Problem 3"
      ]
    },
    {
      "cell_type": "code",
      "metadata": {
        "colab": {
          "base_uri": "https://localhost:8080/"
        },
        "id": "nn2AAoZo0vjU",
        "outputId": "6e4d5d26-881c-4cfe-c89b-34a0147ee06b"
      },
      "source": [
        "alpha = [0.01, 0.1, 1, 2, 10]  # set a learning rate\n",
        "min_loss = np.inf\n",
        "best_a = None\n",
        "\n",
        "for a in alpha:\n",
        "    net = SmallNet(2, 10, dtype=np.float64)\n",
        "    for i in range(100000):\n",
        "        _, loss = net.forward(X, Y, do_backward=True)\n",
        "        # if (i % 5000) == 0:\n",
        "        #     print(f\"after {i} steps \\tloss={loss}\")\n",
        "        for param_name in [\"W1\", \"b1\", \"W2\", \"b2\"]:\n",
        "            param = getattr(net, param_name)\n",
        "            # Hint: use the construct `param[:]` to change the contents of the array!\n",
        "            # Doing instead `param = new_val` simply changes to what the variable\n",
        "            # param points to, without affecting the network!\n",
        "            # alternatively, you could do setattr(net, param_name, new_value)\n",
        "            param[:] = param - a * getattr(net, param_name + \"_grad\")\n",
        "    print(f\"for alpha {a} loss is {loss}\")\n",
        "    if loss <= min_loss and best_a and a > best_a:\n",
        "        best_a = a\n",
        "        min_loss = loss\n",
        "\n",
        "print(f\"Smallest loss is {loss} for alpha {a}\")"
      ],
      "execution_count": null,
      "outputs": [
        {
          "output_type": "stream",
          "text": [
            "for alpha 0.01 loss is 0.008903892446338199\n",
            "for alpha 0.1 loss is 0.0004677491284820883\n",
            "for alpha 1 loss is 5.558611308482275e-05\n",
            "for alpha 2 loss is 1.4524060772708552e-05\n",
            "for alpha 10 loss is 8.762609091830072e-06\n",
            "Smallest loss is 8.762609091830072e-06 for alpha 10\n"
          ],
          "name": "stdout"
        }
      ]
    },
    {
      "cell_type": "code",
      "metadata": {
        "colab": {
          "base_uri": "https://localhost:8080/"
        },
        "id": "TwpEjpkU1JvK",
        "outputId": "18dd245a-9600-46d7-d11a-e670fc04d06d"
      },
      "source": [
        "predictions, loss = net.forward(X, Y, do_backward=True)\n",
        "for x, p in zip(X, predictions):\n",
        "    print(f\"XORnet({x}) = {p[0]}\")"
      ],
      "execution_count": null,
      "outputs": [
        {
          "output_type": "stream",
          "text": [
            "XORnet([0. 0.]) = 6.075407153172187e-07\n",
            "XORnet([0. 1.]) = 0.9999926458878381\n",
            "XORnet([1. 0.]) = 0.9999920065099357\n",
            "XORnet([1. 1.]) = 1.909469187601215e-05\n"
          ],
          "name": "stdout"
        }
      ]
    },
    {
      "cell_type": "code",
      "metadata": {
        "id": "Eoa0BlEbwbtt"
      },
      "source": [
        "X3 = np.array([[0, 0, 0], [0, 0, 1], [1, 0, 1], [1, 1, 1],], dtype=np.float32)\n",
        "Y3 = np.array([[0], [1], [0], [1],], dtype=np.float32)"
      ],
      "execution_count": 3,
      "outputs": []
    },
    {
      "cell_type": "code",
      "metadata": {
        "id": "U0ZMyHqz8xrC",
        "colab": {
          "base_uri": "https://localhost:8080/"
        },
        "outputId": "837bcaf7-2509-44e2-b749-ee81980f1fba"
      },
      "source": [
        "# TODO:\n",
        "# Generate data for a 3D XOR task\n",
        "# Then estimate the success rate of training the network with diferent\n",
        "# hidden sizes.\n",
        "import itertools\n",
        "\n",
        "alpha = [0.01, 0.1, 1, 2, 10]  # set a learning rate\n",
        "min_loss = np.inf\n",
        "best_a = None\n",
        "best_hidden_dim = None\n",
        "\n",
        "for hidden_dim, a in itertools.product([2, 3, 5, 10, 20], alpha):\n",
        "    # TODO: run a few trainings and record the fraction of successful ones\n",
        "    net = SmallNet(3, hidden_dim, dtype=np.float64)\n",
        "\n",
        "    for i in range(100000):\n",
        "        _, loss = net.forward(X3, Y3, do_backward=True)\n",
        "        # if (i % 5000) == 0:\n",
        "        #     print(f\"after {i} steps \\tloss={loss}\")\n",
        "        for param_name in [\"W1\", \"b1\", \"W2\", \"b2\"]:\n",
        "            param = getattr(net, param_name)\n",
        "            param[:] = param - a * getattr(net, param_name + \"_grad\")\n",
        "\n",
        "    print(f\"For hidden_dim={hidden_dim} and alpha {a}, the loss is {loss}!\")\n",
        "    if loss < min_loss or (loss <= min_loss and best_a and a > best_a):\n",
        "        best_a = a\n",
        "        min_loss = loss\n",
        "        best_hidden_dim = hidden_dim\n",
        "\n",
        "print(f\"Best loss is {min_loss} for alpha {best_a} for hidden_dim={hidden_dim}\")"
      ],
      "execution_count": null,
      "outputs": [
        {
          "output_type": "stream",
          "text": [
            "For hidden_dim=2 and alpha 0.01, the loss is 0.003068809958297629!\n",
            "For hidden_dim=2 and alpha 0.1, the loss is 0.00034226316606232566!\n",
            "For hidden_dim=2 and alpha 1, the loss is 3.36366452999664e-05!\n",
            "For hidden_dim=2 and alpha 2, the loss is 1.5773077640445776e-05!\n",
            "For hidden_dim=2 and alpha 10, the loss is 2.1447702327670953e-06!\n",
            "For hidden_dim=3 and alpha 0.01, the loss is 0.003329102528954923!\n",
            "For hidden_dim=3 and alpha 0.1, the loss is 0.00020017680833995345!\n",
            "For hidden_dim=3 and alpha 1, the loss is 2.1203196844376303e-05!\n",
            "For hidden_dim=3 and alpha 2, the loss is 1.6097191082788452e-05!\n",
            "For hidden_dim=3 and alpha 10, the loss is 5.025297058566888e-06!\n",
            "For hidden_dim=5 and alpha 0.01, the loss is 0.0023292436978141744!\n",
            "For hidden_dim=5 and alpha 0.1, the loss is 0.00019428605376550526!\n",
            "For hidden_dim=5 and alpha 1, the loss is 1.3788688827357093e-05!\n",
            "For hidden_dim=5 and alpha 2, the loss is 7.205930177031421e-06!\n",
            "For hidden_dim=5 and alpha 10, the loss is 1.9154989967190173e-06!\n",
            "For hidden_dim=10 and alpha 0.01, the loss is 0.0018991038106381626!\n",
            "For hidden_dim=10 and alpha 0.1, the loss is 0.0001415582574415025!\n",
            "For hidden_dim=10 and alpha 1, the loss is 1.111197889084768e-05!\n",
            "For hidden_dim=10 and alpha 2, the loss is 5.610161750698735e-06!\n",
            "For hidden_dim=10 and alpha 10, the loss is 2.1925091016289208e-06!\n",
            "For hidden_dim=20 and alpha 0.01, the loss is 0.0018328463960043612!\n",
            "For hidden_dim=20 and alpha 0.1, the loss is 0.00011885254136116302!\n",
            "For hidden_dim=20 and alpha 1, the loss is 9.526662130859735e-06!\n",
            "For hidden_dim=20 and alpha 2, the loss is 4.5210667243861155e-06!\n",
            "For hidden_dim=20 and alpha 10, the loss is 1.2907230887321805e-06!\n",
            "Best loss is 1.2907230887321805e-06 for alpha 10 for hidden_dim=20\n"
          ],
          "name": "stdout"
        }
      ]
    },
    {
      "cell_type": "markdown",
      "metadata": {
        "id": "UuaLEoV-9DLG"
      },
      "source": [
        "## Problem 4\n"
      ]
    },
    {
      "cell_type": "code",
      "metadata": {
        "id": "w3lk9_TM-MvK",
        "colab": {
          "base_uri": "https://localhost:8080/"
        },
        "outputId": "3546a531-fe8b-4f88-a312-63bafea6bbbc"
      },
      "source": [
        "min_loss = np.inf\n",
        "best_a = None\n",
        "best_hidden_dim = None\n",
        "\n",
        "for hidden_dim, a in itertools.product([2, 3, 5, 10, 20], alpha):\n",
        "    # TODO: run a few trainings and record the fraction of successful ones\n",
        "    net = SmallNet(3, hidden_dim, dtype=np.float64)\n",
        "\n",
        "    for i in range(100000):\n",
        "        _, loss = net.forward(X3, Y3, do_backward=True, use_relu=True)\n",
        "        # if (i % 5000) == 0:\n",
        "        #     print(f\"after {i} steps \\tloss={loss}\")\n",
        "        for param_name in [\"W1\", \"b1\", \"W2\", \"b2\"]:\n",
        "            param = getattr(net, param_name)\n",
        "            param[:] = param - a * getattr(net, param_name + \"_grad\")\n",
        "\n",
        "    print(f\"For hidden_dim={hidden_dim} and alpha {a}, the loss is {loss}!\")\n",
        "    if loss < min_loss or (loss <= min_loss and best_a and a > best_a):\n",
        "        best_a = a\n",
        "        min_loss = loss\n",
        "        best_hidden_dim = hidden_dim\n",
        "\n",
        "print(f\"Best loss is {min_loss} for alpha {best_a} for hidden_dim={hidden_dim}\")"
      ],
      "execution_count": null,
      "outputs": [
        {
          "output_type": "stream",
          "text": [
            "For hidden_dim=2 and alpha 0.01, the loss is 0.3467957741972816!\n",
            "For hidden_dim=2 and alpha 0.1, the loss is 3.172625141838901e-05!\n",
            "For hidden_dim=2 and alpha 1, the loss is 1.1845259408753107e-05!\n",
            "For hidden_dim=2 and alpha 2, the loss is 0.6931471805599453!\n"
          ],
          "name": "stdout"
        },
        {
          "output_type": "stream",
          "text": [
            "/usr/local/lib/python3.7/dist-packages/ipykernel_launcher.py:41: RuntimeWarning: divide by zero encountered in log\n",
            "/usr/local/lib/python3.7/dist-packages/ipykernel_launcher.py:41: RuntimeWarning: invalid value encountered in multiply\n"
          ],
          "name": "stderr"
        },
        {
          "output_type": "stream",
          "text": [
            "For hidden_dim=2 and alpha 10, the loss is 1.0444277593378284!\n",
            "For hidden_dim=3 and alpha 0.01, the loss is 0.0013494564313930918!\n",
            "For hidden_dim=3 and alpha 0.1, the loss is 1.9284005527075793e-05!\n",
            "For hidden_dim=3 and alpha 1, the loss is 1.1591663880539234e-05!\n",
            "For hidden_dim=3 and alpha 2, the loss is 5.853826102745409e-06!\n",
            "For hidden_dim=3 and alpha 10, the loss is 1.0444277593378282!\n",
            "For hidden_dim=5 and alpha 0.01, the loss is 0.0003458209945047734!\n",
            "For hidden_dim=5 and alpha 0.1, the loss is 0.00012098840898664596!\n",
            "For hidden_dim=5 and alpha 1, the loss is 1.5467895646233955e-06!\n",
            "For hidden_dim=5 and alpha 2, the loss is 7.429731622940039e-07!\n",
            "For hidden_dim=5 and alpha 10, the loss is 1.0444277593378284!\n",
            "For hidden_dim=10 and alpha 0.01, the loss is 0.0002989102562927277!\n",
            "For hidden_dim=10 and alpha 0.1, the loss is 2.2562055068049643e-05!\n",
            "For hidden_dim=10 and alpha 1, the loss is 1.7305115288254157e-06!\n",
            "For hidden_dim=10 and alpha 2, the loss is 7.795030374519402e-07!\n",
            "For hidden_dim=10 and alpha 10, the loss is 1.0444277593378277!\n",
            "For hidden_dim=20 and alpha 0.01, the loss is 0.0002841518705868759!\n",
            "For hidden_dim=20 and alpha 0.1, the loss is 2.017520410280264e-05!\n",
            "For hidden_dim=20 and alpha 1, the loss is 1.7614235070920069e-06!\n",
            "For hidden_dim=20 and alpha 2, the loss is 8.039889753261406e-07!\n",
            "For hidden_dim=20 and alpha 10, the loss is 1.0444277593378277!\n",
            "Best loss is 7.429731622940039e-07 for alpha 2 for hidden_dim=20\n"
          ],
          "name": "stdout"
        }
      ]
    },
    {
      "cell_type": "markdown",
      "metadata": {
        "id": "DOzVQsNgEd31"
      },
      "source": [
        "A better architecture would learn to do XOR on pairs of inputs and then XOR their results."
      ]
    },
    {
      "cell_type": "markdown",
      "metadata": {
        "id": "_Hr_iAKX-ND1"
      },
      "source": [
        "## Problem 5"
      ]
    },
    {
      "cell_type": "code",
      "metadata": {
        "id": "rnz6CndQ-NRI"
      },
      "source": [
        "class SmallNet:\n",
        "    def __init__(self, in_features, num_hidden, dtype=np.float32):\n",
        "        self.W1 = np.zeros((num_hidden, in_features), dtype=dtype)\n",
        "        self.b1 = np.zeros((num_hidden,), dtype=dtype)\n",
        "        self.W2 = np.zeros((num_hidden, num_hidden), dtype=dtype)\n",
        "        self.b2 = np.zeros((num_hidden,), dtype=dtype)\n",
        "        self.W3 = np.zeros((1, num_hidden), dtype=dtype)\n",
        "        self.b3 = np.zeros((1,), dtype=dtype)\n",
        "        self.init_params()\n",
        "\n",
        "    def init_params(self):\n",
        "        # set all parameters to small random values, e.g. from N(0, 0.5)\n",
        "        self.W1 =  np.random.normal(0, 0.5, self.W1.shape)\n",
        "        self.b1 =  np.random.normal(0, 0.5, self.b1.shape)\n",
        "        self.W2 =  np.random.normal(0, 0.5, self.W2.shape)\n",
        "        self.b2 =  np.random.normal(0, 0.5, self.b2.shape)\n",
        "        self.W3 =  np.random.normal(0, 0.5, self.W3.shape)\n",
        "        self.b3 =  np.random.normal(0, 0.5, self.b3.shape)\n",
        "\n",
        "    def forward(self, X, Y=None, do_backward=False, use_relu=False):\n",
        "        # Input to neurons in 1st layer\n",
        "        A1 = X @ self.W1.T + self.b1\n",
        "        # Outputs after the non-linearity\n",
        "        O1 = relu(A1) if use_relu else sigmoid(A1)\n",
        "        # Inputs to neuron in the second layer\n",
        "        A2 = O1 @ self.W2.T + self.b2\n",
        "        # Outputs after the non-linearity\n",
        "        O2 = relu(A2) if use_relu else sigmoid(A2)\n",
        "        # Inputs to neuron in the third layer\n",
        "        A3 = O2 @ self.W3.T + self.b3\n",
        "        # Outputs after the sigmoid non-linearity\n",
        "        O3 = sigmoid(A3)\n",
        "\n",
        "        # When Y is none, simply return the predictions. Else compute the loss\n",
        "        if Y is not None:\n",
        "            loss = -Y * np.log(O3) - (1 - Y) * np.log(1.0 - O3)\n",
        "            # normalize loss by batch size\n",
        "            loss = loss.sum() / X.shape[0]\n",
        "        else:\n",
        "            loss = np.nan\n",
        "\n",
        "        if do_backward:\n",
        "            samples_no = X.shape[0]\n",
        "            A3_grad = O3 - Y\n",
        "            self.b3_grad = A3_grad.mean(0)\n",
        "            self.W3_grad = (A3_grad.T @ O2) / samples_no\n",
        "\n",
        "            O2_grad = A3_grad @ self.W3\n",
        "            A2_grad = O2_grad * (\n",
        "                np.heaviside(A2, 0) if use_relu else sigmoid(A2) * (1.0 - sigmoid(A2))\n",
        "            )\n",
        "            self.b2_grad = A2_grad.mean(0)\n",
        "            self.W2_grad = (A2_grad.T @ O1) / samples_no\n",
        "\n",
        "            O1_grad = A2_grad @ self.W2\n",
        "            A1_grad = O1_grad * (\n",
        "                np.heaviside(A1, 0) if use_relu else sigmoid(A1) * (1.0 - sigmoid(A1))\n",
        "            )\n",
        "            self.b1_grad = A1_grad.mean(0)\n",
        "            self.W1_grad = (A1_grad.T @ X) / samples_no\n",
        "\n",
        "        return O3, loss"
      ],
      "execution_count": null,
      "outputs": []
    },
    {
      "cell_type": "code",
      "metadata": {
        "colab": {
          "base_uri": "https://localhost:8080/"
        },
        "id": "DK76hAVHNmKs",
        "outputId": "b563e8e3-2e65-4260-dc8c-f121bc0f8231"
      },
      "source": [
        "net = SmallNet(3, 4, dtype=np.float64)\n",
        "alpha = 0.1\n",
        "\n",
        "for i in range(100000):\n",
        "    _, loss = net.forward(X3, Y3, do_backward=True, use_relu=True)\n",
        "    if (i % 5000) == 0:\n",
        "        print(f\"after {i} steps \\tloss={loss}\")\n",
        "    for param_name in [\"W1\", \"b1\", \"W2\", \"b2\", \"W3\", \"b3\"]:\n",
        "        param = getattr(net, param_name)\n",
        "        param[:] = param - alpha * getattr(net, param_name + \"_grad\")"
      ],
      "execution_count": null,
      "outputs": [
        {
          "output_type": "stream",
          "text": [
            "after 0 steps \tloss=0.711151426843322\n",
            "after 5000 steps \tloss=0.0022685550529173574\n",
            "after 10000 steps \tloss=0.0010976802809354726\n",
            "after 15000 steps \tloss=0.0007222773748799164\n",
            "after 20000 steps \tloss=0.0005372815764357329\n",
            "after 25000 steps \tloss=0.000426935457066918\n",
            "after 30000 steps \tloss=0.00035418472529282277\n",
            "after 35000 steps \tloss=0.0003025808827991499\n",
            "after 40000 steps \tloss=0.0002640919720705084\n",
            "after 45000 steps \tloss=0.00023426628150605562\n",
            "after 50000 steps \tloss=0.00021048776243334165\n",
            "after 55000 steps \tloss=0.00019107927975434792\n",
            "after 60000 steps \tloss=0.00017493764443483471\n",
            "after 65000 steps \tloss=0.00016130631899374855\n",
            "after 70000 steps \tloss=0.00014964515810182954\n",
            "after 75000 steps \tloss=0.00013955173112588728\n",
            "after 80000 steps \tloss=0.00013073259728265676\n",
            "after 85000 steps \tloss=0.00012295800151953498\n",
            "after 90000 steps \tloss=0.00011605523085252634\n",
            "after 95000 steps \tloss=0.00010988530449062802\n"
          ],
          "name": "stdout"
        }
      ]
    },
    {
      "cell_type": "markdown",
      "metadata": {
        "id": "4PcNxrCt-NcN"
      },
      "source": [
        "## Problem 6"
      ]
    },
    {
      "cell_type": "code",
      "metadata": {
        "id": "6Brepirl-Nln"
      },
      "source": [
        "class NN(object):\n",
        "    def __init__(self, hidden_layers_no, in_features, num_hidden):\n",
        "        # For the first layer\n",
        "        self.Wi = np.random.normal(0, 0.5, (num_hidden, in_features))\n",
        "        self.bi = np.random.normal(0, 0.5, (num_hidden,))\n",
        "\n",
        "        # All layers from the second one\n",
        "        W = []\n",
        "        b = []\n",
        "        for i in range(hidden_layers_no - 1):\n",
        "            W.append(np.random.normal(0, 0.5, (num_hidden, num_hidden)))\n",
        "            b.append(np.random.normal(0, 0.5, (num_hidden,)))\n",
        "\n",
        "        self.W = np.array(W)\n",
        "        self.b = np.array(b)\n",
        "\n",
        "        # For the output\n",
        "        self.Wo = np.random.normal(0, 0.5, (1, num_hidden))\n",
        "        self.bo = np.random.normal(0, 0.5, (1,))\n",
        "\n",
        "    def forward(self, X, Y=None, do_backward=False, use_relu=False):        \n",
        "        # Forward from the input layer to the first hidden layer\n",
        "        Ai = X @ self.Wi.T + self.bi\n",
        "        # Outputs after the non-linearity\n",
        "        Oi = relu(Ai) if use_relu else sigmoid(Ai)\n",
        "\n",
        "        # Forward for other hidden layers\n",
        "        prev_O = Oi\n",
        "        A = []\n",
        "        O = []\n",
        "        for i in range(self.W.shape[0]):\n",
        "            _A = prev_O @ self.W[i].T + self.b[i]\n",
        "            A.append(_A)\n",
        "            # Outputs after the non-linearity\n",
        "            _O = relu(_A) if use_relu else sigmoid(_A)\n",
        "            O.append(_O)\n",
        "            prev_O = _O\n",
        "\n",
        "        # Forward from the last hidden layer to the output layer\n",
        "        Ao = prev_O @ self.Wo.T + self.bo\n",
        "        # Outputs after the sigmoid non-linearity\n",
        "        Oo = sigmoid(Ao)\n",
        "\n",
        "        # When Y is none, simply return the predictions. Else compute the loss\n",
        "        if Y is not None:\n",
        "            loss = -Y * np.log(Oo) - (1 - Y) * np.log(1.0 - Oo)\n",
        "            # normalize loss by batch size\n",
        "            loss = loss.sum() / X.shape[0]\n",
        "        else:\n",
        "            loss = np.nan\n",
        "\n",
        "        if do_backward:\n",
        "            samples_no = X.shape[0]\n",
        "\n",
        "            # Grads for the output layer\n",
        "            Ao_grad = Oo - Y\n",
        "            self.Wo_grad = (Ao_grad.T @ prev_O) / samples_no\n",
        "            self.bo_grad = Ao_grad.mean(0)\n",
        "\n",
        "            # Grads for the hidden layers\n",
        "            prev_A_grad = Ao_grad\n",
        "            W_grad = []\n",
        "            b_grad = []          \n",
        "        \n",
        "            for i in range(self.W.shape[0] - 1, -1, -1):\n",
        "                if i == self.W.shape[0] - 1:\n",
        "                    prev_W = self.Wo\n",
        "                else:\n",
        "                    prev_W = self.W[i+1]\n",
        "\n",
        "                _O_grad = prev_A_grad @ prev_W\n",
        "                _A_grad = _O_grad * (\n",
        "                    np.heaviside(A[i], 0) if use_relu else sigmoid(A[i]) * (1.0 - sigmoid(A[i]))\n",
        "                )\n",
        "                _W_grad = (_A_grad.T @ O[i-1]) / samples_no\n",
        "                _b_grad = _A_grad.mean(0)\n",
        "                W_grad.append(_W_grad)\n",
        "                b_grad.append(_b_grad)\n",
        "                prev_A_grad = _A_grad\n",
        "\n",
        "            W_grad.reverse()\n",
        "            b_grad.reverse()\n",
        "            self.W_grad = np.array(W_grad)\n",
        "            self.b_grad = np.array(b_grad)\n",
        "\n",
        "            # Grads for the input layer\n",
        "            Oi_grad = prev_A_grad @ self.W[0]\n",
        "            Ai_grad = Oi_grad * (\n",
        "                np.heaviside(Ai, 0) if use_relu else sigmoid(Ai) * (1.0 - sigmoid(Ai))\n",
        "            )\n",
        "            self.bi_grad = Ai_grad.mean(0)\n",
        "            self.Wi_grad = (Ai_grad.T @ X) / samples_no\n",
        "            \n",
        "        return Oo, loss"
      ],
      "execution_count": 5,
      "outputs": []
    },
    {
      "cell_type": "code",
      "metadata": {
        "colab": {
          "base_uri": "https://localhost:8080/",
          "height": 401
        },
        "id": "cbpMFDV2Z3X5",
        "outputId": "4e8eeaae-05da-462f-b91c-8f7459005fcc"
      },
      "source": [
        "# Train that network\n",
        "alpha = 1\n",
        "\n",
        "results = {2: [], 3: [], 4: [], 5: [], 10: []}\n",
        "\n",
        "for i in range(100):\n",
        "    for layers in [2, 3, 4, 5, 10]:\n",
        "        net = NN(hidden_layers_no=layers, in_features=3, num_hidden=10)\n",
        "        for i in range(100000):\n",
        "            _, loss = net.forward(X3, Y3, do_backward=True, use_relu=True)\n",
        "            # if (i % 5000) == 0:\n",
        "            #     print(f\"after {i} steps \\tloss={loss}\")\n",
        "            # Update input and output layers.\n",
        "            for param_name in [\"Wi\", \"bi\", \"Wo\", \"bo\"]:\n",
        "                param = getattr(net, param_name)\n",
        "                param[:] = param - alpha * getattr(net, param_name + \"_grad\")\n",
        "            \n",
        "            # Update hidden layers.\n",
        "            param = getattr(net, \"W\")\n",
        "            param[:] = param - alpha * getattr(net, \"W_grad\")\n",
        "            param = getattr(net, \"b\")\n",
        "            param[:] = param - alpha * getattr(net, \"b_grad\")\n",
        "        results[layers].append(loss)"
      ],
      "execution_count": 12,
      "outputs": [
        {
          "output_type": "stream",
          "text": [
            "/usr/local/lib/python3.7/dist-packages/ipykernel_launcher.py:46: RuntimeWarning: divide by zero encountered in log\n",
            "/usr/local/lib/python3.7/dist-packages/ipykernel_launcher.py:46: RuntimeWarning: invalid value encountered in multiply\n",
            "/usr/local/lib/python3.7/dist-packages/ipykernel_launcher.py:2: RuntimeWarning: overflow encountered in exp\n",
            "  \n",
            "/usr/local/lib/python3.7/dist-packages/ipykernel_launcher.py:32: RuntimeWarning: overflow encountered in matmul\n",
            "/usr/local/lib/python3.7/dist-packages/ipykernel_launcher.py:57: RuntimeWarning: invalid value encountered in matmul\n",
            "/usr/local/lib/python3.7/dist-packages/ipykernel_launcher.py:75: RuntimeWarning: invalid value encountered in matmul\n",
            "/usr/local/lib/python3.7/dist-packages/ipykernel_launcher.py:75: RuntimeWarning: overflow encountered in matmul\n",
            "/usr/local/lib/python3.7/dist-packages/ipykernel_launcher.py:71: RuntimeWarning: overflow encountered in matmul\n",
            "/usr/local/lib/python3.7/dist-packages/ipykernel_launcher.py:73: RuntimeWarning: invalid value encountered in multiply\n",
            "/usr/local/lib/python3.7/dist-packages/ipykernel_launcher.py:71: RuntimeWarning: invalid value encountered in matmul\n"
          ],
          "name": "stderr"
        },
        {
          "output_type": "error",
          "ename": "KeyboardInterrupt",
          "evalue": "ignored",
          "traceback": [
            "\u001b[0;31m---------------------------------------------------------------------------\u001b[0m",
            "\u001b[0;31mKeyboardInterrupt\u001b[0m                         Traceback (most recent call last)",
            "\u001b[0;32m<ipython-input-12-8428117de3f1>\u001b[0m in \u001b[0;36m<module>\u001b[0;34m()\u001b[0m\n\u001b[1;32m     20\u001b[0m             \u001b[0mparam\u001b[0m\u001b[0;34m[\u001b[0m\u001b[0;34m:\u001b[0m\u001b[0;34m]\u001b[0m \u001b[0;34m=\u001b[0m \u001b[0mparam\u001b[0m \u001b[0;34m-\u001b[0m \u001b[0malpha\u001b[0m \u001b[0;34m*\u001b[0m \u001b[0mgetattr\u001b[0m\u001b[0;34m(\u001b[0m\u001b[0mnet\u001b[0m\u001b[0;34m,\u001b[0m \u001b[0;34m\"W_grad\"\u001b[0m\u001b[0;34m)\u001b[0m\u001b[0;34m\u001b[0m\u001b[0;34m\u001b[0m\u001b[0m\n\u001b[1;32m     21\u001b[0m             \u001b[0mparam\u001b[0m \u001b[0;34m=\u001b[0m \u001b[0mgetattr\u001b[0m\u001b[0;34m(\u001b[0m\u001b[0mnet\u001b[0m\u001b[0;34m,\u001b[0m \u001b[0;34m\"b\"\u001b[0m\u001b[0;34m)\u001b[0m\u001b[0;34m\u001b[0m\u001b[0;34m\u001b[0m\u001b[0m\n\u001b[0;32m---> 22\u001b[0;31m             \u001b[0mparam\u001b[0m\u001b[0;34m[\u001b[0m\u001b[0;34m:\u001b[0m\u001b[0;34m]\u001b[0m \u001b[0;34m=\u001b[0m \u001b[0mparam\u001b[0m \u001b[0;34m-\u001b[0m \u001b[0malpha\u001b[0m \u001b[0;34m*\u001b[0m \u001b[0mgetattr\u001b[0m\u001b[0;34m(\u001b[0m\u001b[0mnet\u001b[0m\u001b[0;34m,\u001b[0m \u001b[0;34m\"b_grad\"\u001b[0m\u001b[0;34m)\u001b[0m\u001b[0;34m\u001b[0m\u001b[0;34m\u001b[0m\u001b[0m\n\u001b[0m\u001b[1;32m     23\u001b[0m         \u001b[0mresults\u001b[0m\u001b[0;34m[\u001b[0m\u001b[0mlayers\u001b[0m\u001b[0;34m]\u001b[0m\u001b[0;34m.\u001b[0m\u001b[0mappend\u001b[0m\u001b[0;34m(\u001b[0m\u001b[0mloss\u001b[0m\u001b[0;34m)\u001b[0m\u001b[0;34m\u001b[0m\u001b[0;34m\u001b[0m\u001b[0m\n",
            "\u001b[0;31mKeyboardInterrupt\u001b[0m: "
          ]
        }
      ]
    },
    {
      "cell_type": "code",
      "metadata": {
        "colab": {
          "base_uri": "https://localhost:8080/"
        },
        "id": "PT9YrMDX3OFs",
        "outputId": "2412536f-01d9-4324-a13f-0f2b6e877d56"
      },
      "source": [
        "for layers, arr in results.items():\n",
        "    print(f\"For {layers} layers we have average loss of {np.mean(np.array(arr))}\")"
      ],
      "execution_count": 13,
      "outputs": [
        {
          "output_type": "stream",
          "text": [
            "For 2 layers we have average loss of 0.04036483662034009\n",
            "For 3 layers we have average loss of nan\n",
            "For 4 layers we have average loss of 0.5240551982147053\n",
            "For 5 layers we have average loss of 0.6817913101345066\n",
            "For 10 layers we have average loss of nan\n"
          ],
          "name": "stdout"
        }
      ]
    },
    {
      "cell_type": "markdown",
      "metadata": {
        "id": "nWuv7Q77-Nut"
      },
      "source": [
        "## Problem 7"
      ]
    },
    {
      "cell_type": "code",
      "metadata": {
        "id": "avuvSoWY-N4Z"
      },
      "source": [
        ""
      ],
      "execution_count": null,
      "outputs": []
    },
    {
      "cell_type": "code",
      "metadata": {
        "id": "5VFdMl2QqY_B"
      },
      "source": [
        ""
      ],
      "execution_count": null,
      "outputs": []
    }
  ]
}