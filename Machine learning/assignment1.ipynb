{
  "nbformat": 4,
  "nbformat_minor": 0,
  "metadata": {
    "colab": {
      "name": "myAssignment1.ipynb",
      "provenance": [],
      "collapsed_sections": [],
      "toc_visible": true
    },
    "kernelspec": {
      "display_name": "Python 3",
      "language": "python",
      "name": "python3"
    },
    "language_info": {
      "codemirror_mode": {
        "name": "ipython",
        "version": 3
      },
      "file_extension": ".py",
      "mimetype": "text/x-python",
      "name": "python",
      "nbconvert_exporter": "python",
      "pygments_lexer": "ipython3",
      "version": "3.8.3"
    },
    "widgets": {
      "application/vnd.jupyter.widget-state+json": {
        "4fb2758d651343ffa869e1dbd1c6577f": {
          "model_module": "@jupyter-widgets/controls",
          "model_name": "HBoxModel",
          "state": {
            "_view_name": "HBoxView",
            "_dom_classes": [],
            "_model_name": "HBoxModel",
            "_view_module": "@jupyter-widgets/controls",
            "_model_module_version": "1.5.0",
            "_view_count": null,
            "_view_module_version": "1.5.0",
            "box_style": "",
            "layout": "IPY_MODEL_ccf07e0c800d4ec093dea3cff1b8995a",
            "_model_module": "@jupyter-widgets/controls",
            "children": [
              "IPY_MODEL_4393dd2409234bb5a2997e1af5e4d24c",
              "IPY_MODEL_b64a5ec6504647f28dbd56d6effe493a"
            ]
          }
        },
        "ccf07e0c800d4ec093dea3cff1b8995a": {
          "model_module": "@jupyter-widgets/base",
          "model_name": "LayoutModel",
          "state": {
            "_view_name": "LayoutView",
            "grid_template_rows": null,
            "right": null,
            "justify_content": null,
            "_view_module": "@jupyter-widgets/base",
            "overflow": null,
            "_model_module_version": "1.2.0",
            "_view_count": null,
            "flex_flow": null,
            "width": null,
            "min_width": null,
            "border": null,
            "align_items": null,
            "bottom": null,
            "_model_module": "@jupyter-widgets/base",
            "top": null,
            "grid_column": null,
            "overflow_y": null,
            "overflow_x": null,
            "grid_auto_flow": null,
            "grid_area": null,
            "grid_template_columns": null,
            "flex": null,
            "_model_name": "LayoutModel",
            "justify_items": null,
            "grid_row": null,
            "max_height": null,
            "align_content": null,
            "visibility": null,
            "align_self": null,
            "height": null,
            "min_height": null,
            "padding": null,
            "grid_auto_rows": null,
            "grid_gap": null,
            "max_width": null,
            "order": null,
            "_view_module_version": "1.2.0",
            "grid_template_areas": null,
            "object_position": null,
            "object_fit": null,
            "grid_auto_columns": null,
            "margin": null,
            "display": null,
            "left": null
          }
        },
        "4393dd2409234bb5a2997e1af5e4d24c": {
          "model_module": "@jupyter-widgets/controls",
          "model_name": "FloatProgressModel",
          "state": {
            "_view_name": "ProgressView",
            "style": "IPY_MODEL_b6b5f217b5704baf93b19a0774b667ca",
            "_dom_classes": [],
            "description": "100%",
            "_model_name": "FloatProgressModel",
            "bar_style": "success",
            "max": 500,
            "_view_module": "@jupyter-widgets/controls",
            "_model_module_version": "1.5.0",
            "value": 500,
            "_view_count": null,
            "_view_module_version": "1.5.0",
            "orientation": "horizontal",
            "min": 0,
            "description_tooltip": null,
            "_model_module": "@jupyter-widgets/controls",
            "layout": "IPY_MODEL_8f7c739d3e2d4b0c95a6dc096ebe9333"
          }
        },
        "b64a5ec6504647f28dbd56d6effe493a": {
          "model_module": "@jupyter-widgets/controls",
          "model_name": "HTMLModel",
          "state": {
            "_view_name": "HTMLView",
            "style": "IPY_MODEL_7835bf2551774923adc8619225adebb5",
            "_dom_classes": [],
            "description": "",
            "_model_name": "HTMLModel",
            "placeholder": "​",
            "_view_module": "@jupyter-widgets/controls",
            "_model_module_version": "1.5.0",
            "value": " 500/500 [00:28&lt;00:00, 17.27it/s]",
            "_view_count": null,
            "_view_module_version": "1.5.0",
            "description_tooltip": null,
            "_model_module": "@jupyter-widgets/controls",
            "layout": "IPY_MODEL_d5b5a0e79efa41d3a862a8aa36a0d461"
          }
        },
        "b6b5f217b5704baf93b19a0774b667ca": {
          "model_module": "@jupyter-widgets/controls",
          "model_name": "ProgressStyleModel",
          "state": {
            "_view_name": "StyleView",
            "_model_name": "ProgressStyleModel",
            "description_width": "initial",
            "_view_module": "@jupyter-widgets/base",
            "_model_module_version": "1.5.0",
            "_view_count": null,
            "_view_module_version": "1.2.0",
            "bar_color": null,
            "_model_module": "@jupyter-widgets/controls"
          }
        },
        "8f7c739d3e2d4b0c95a6dc096ebe9333": {
          "model_module": "@jupyter-widgets/base",
          "model_name": "LayoutModel",
          "state": {
            "_view_name": "LayoutView",
            "grid_template_rows": null,
            "right": null,
            "justify_content": null,
            "_view_module": "@jupyter-widgets/base",
            "overflow": null,
            "_model_module_version": "1.2.0",
            "_view_count": null,
            "flex_flow": null,
            "width": null,
            "min_width": null,
            "border": null,
            "align_items": null,
            "bottom": null,
            "_model_module": "@jupyter-widgets/base",
            "top": null,
            "grid_column": null,
            "overflow_y": null,
            "overflow_x": null,
            "grid_auto_flow": null,
            "grid_area": null,
            "grid_template_columns": null,
            "flex": null,
            "_model_name": "LayoutModel",
            "justify_items": null,
            "grid_row": null,
            "max_height": null,
            "align_content": null,
            "visibility": null,
            "align_self": null,
            "height": null,
            "min_height": null,
            "padding": null,
            "grid_auto_rows": null,
            "grid_gap": null,
            "max_width": null,
            "order": null,
            "_view_module_version": "1.2.0",
            "grid_template_areas": null,
            "object_position": null,
            "object_fit": null,
            "grid_auto_columns": null,
            "margin": null,
            "display": null,
            "left": null
          }
        },
        "7835bf2551774923adc8619225adebb5": {
          "model_module": "@jupyter-widgets/controls",
          "model_name": "DescriptionStyleModel",
          "state": {
            "_view_name": "StyleView",
            "_model_name": "DescriptionStyleModel",
            "description_width": "",
            "_view_module": "@jupyter-widgets/base",
            "_model_module_version": "1.5.0",
            "_view_count": null,
            "_view_module_version": "1.2.0",
            "_model_module": "@jupyter-widgets/controls"
          }
        },
        "d5b5a0e79efa41d3a862a8aa36a0d461": {
          "model_module": "@jupyter-widgets/base",
          "model_name": "LayoutModel",
          "state": {
            "_view_name": "LayoutView",
            "grid_template_rows": null,
            "right": null,
            "justify_content": null,
            "_view_module": "@jupyter-widgets/base",
            "overflow": null,
            "_model_module_version": "1.2.0",
            "_view_count": null,
            "flex_flow": null,
            "width": null,
            "min_width": null,
            "border": null,
            "align_items": null,
            "bottom": null,
            "_model_module": "@jupyter-widgets/base",
            "top": null,
            "grid_column": null,
            "overflow_y": null,
            "overflow_x": null,
            "grid_auto_flow": null,
            "grid_area": null,
            "grid_template_columns": null,
            "flex": null,
            "_model_name": "LayoutModel",
            "justify_items": null,
            "grid_row": null,
            "max_height": null,
            "align_content": null,
            "visibility": null,
            "align_self": null,
            "height": null,
            "min_height": null,
            "padding": null,
            "grid_auto_rows": null,
            "grid_gap": null,
            "max_width": null,
            "order": null,
            "_view_module_version": "1.2.0",
            "grid_template_areas": null,
            "object_position": null,
            "object_fit": null,
            "grid_auto_columns": null,
            "margin": null,
            "display": null,
            "left": null
          }
        },
        "7cff80b64876479b84613598f5351b76": {
          "model_module": "@jupyter-widgets/controls",
          "model_name": "HBoxModel",
          "state": {
            "_view_name": "HBoxView",
            "_dom_classes": [],
            "_model_name": "HBoxModel",
            "_view_module": "@jupyter-widgets/controls",
            "_model_module_version": "1.5.0",
            "_view_count": null,
            "_view_module_version": "1.5.0",
            "box_style": "",
            "layout": "IPY_MODEL_6731050b6a8444b7a91ac47a1c4bad64",
            "_model_module": "@jupyter-widgets/controls",
            "children": [
              "IPY_MODEL_7c31acedb0604bddb4c9e41be2c36918",
              "IPY_MODEL_552543405a6740aab073e99410290b99"
            ]
          }
        },
        "6731050b6a8444b7a91ac47a1c4bad64": {
          "model_module": "@jupyter-widgets/base",
          "model_name": "LayoutModel",
          "state": {
            "_view_name": "LayoutView",
            "grid_template_rows": null,
            "right": null,
            "justify_content": null,
            "_view_module": "@jupyter-widgets/base",
            "overflow": null,
            "_model_module_version": "1.2.0",
            "_view_count": null,
            "flex_flow": null,
            "width": null,
            "min_width": null,
            "border": null,
            "align_items": null,
            "bottom": null,
            "_model_module": "@jupyter-widgets/base",
            "top": null,
            "grid_column": null,
            "overflow_y": null,
            "overflow_x": null,
            "grid_auto_flow": null,
            "grid_area": null,
            "grid_template_columns": null,
            "flex": null,
            "_model_name": "LayoutModel",
            "justify_items": null,
            "grid_row": null,
            "max_height": null,
            "align_content": null,
            "visibility": null,
            "align_self": null,
            "height": null,
            "min_height": null,
            "padding": null,
            "grid_auto_rows": null,
            "grid_gap": null,
            "max_width": null,
            "order": null,
            "_view_module_version": "1.2.0",
            "grid_template_areas": null,
            "object_position": null,
            "object_fit": null,
            "grid_auto_columns": null,
            "margin": null,
            "display": null,
            "left": null
          }
        },
        "7c31acedb0604bddb4c9e41be2c36918": {
          "model_module": "@jupyter-widgets/controls",
          "model_name": "FloatProgressModel",
          "state": {
            "_view_name": "ProgressView",
            "style": "IPY_MODEL_affc9f0b664743b792629d0bbb5de4e1",
            "_dom_classes": [],
            "description": "100%",
            "_model_name": "FloatProgressModel",
            "bar_style": "success",
            "max": 150,
            "_view_module": "@jupyter-widgets/controls",
            "_model_module_version": "1.5.0",
            "value": 150,
            "_view_count": null,
            "_view_module_version": "1.5.0",
            "orientation": "horizontal",
            "min": 0,
            "description_tooltip": null,
            "_model_module": "@jupyter-widgets/controls",
            "layout": "IPY_MODEL_2a901c3a2dab4be7a241785daedf77a1"
          }
        },
        "552543405a6740aab073e99410290b99": {
          "model_module": "@jupyter-widgets/controls",
          "model_name": "HTMLModel",
          "state": {
            "_view_name": "HTMLView",
            "style": "IPY_MODEL_6822ebe10f6b457eaaa2c91d3654f19b",
            "_dom_classes": [],
            "description": "",
            "_model_name": "HTMLModel",
            "placeholder": "​",
            "_view_module": "@jupyter-widgets/controls",
            "_model_module_version": "1.5.0",
            "value": " 150/150 [00:00&lt;00:00, 383.35it/s]",
            "_view_count": null,
            "_view_module_version": "1.5.0",
            "description_tooltip": null,
            "_model_module": "@jupyter-widgets/controls",
            "layout": "IPY_MODEL_4e4b539833704bf5afe8b1ba761c8c6b"
          }
        },
        "affc9f0b664743b792629d0bbb5de4e1": {
          "model_module": "@jupyter-widgets/controls",
          "model_name": "ProgressStyleModel",
          "state": {
            "_view_name": "StyleView",
            "_model_name": "ProgressStyleModel",
            "description_width": "initial",
            "_view_module": "@jupyter-widgets/base",
            "_model_module_version": "1.5.0",
            "_view_count": null,
            "_view_module_version": "1.2.0",
            "bar_color": null,
            "_model_module": "@jupyter-widgets/controls"
          }
        },
        "2a901c3a2dab4be7a241785daedf77a1": {
          "model_module": "@jupyter-widgets/base",
          "model_name": "LayoutModel",
          "state": {
            "_view_name": "LayoutView",
            "grid_template_rows": null,
            "right": null,
            "justify_content": null,
            "_view_module": "@jupyter-widgets/base",
            "overflow": null,
            "_model_module_version": "1.2.0",
            "_view_count": null,
            "flex_flow": null,
            "width": null,
            "min_width": null,
            "border": null,
            "align_items": null,
            "bottom": null,
            "_model_module": "@jupyter-widgets/base",
            "top": null,
            "grid_column": null,
            "overflow_y": null,
            "overflow_x": null,
            "grid_auto_flow": null,
            "grid_area": null,
            "grid_template_columns": null,
            "flex": null,
            "_model_name": "LayoutModel",
            "justify_items": null,
            "grid_row": null,
            "max_height": null,
            "align_content": null,
            "visibility": null,
            "align_self": null,
            "height": null,
            "min_height": null,
            "padding": null,
            "grid_auto_rows": null,
            "grid_gap": null,
            "max_width": null,
            "order": null,
            "_view_module_version": "1.2.0",
            "grid_template_areas": null,
            "object_position": null,
            "object_fit": null,
            "grid_auto_columns": null,
            "margin": null,
            "display": null,
            "left": null
          }
        },
        "6822ebe10f6b457eaaa2c91d3654f19b": {
          "model_module": "@jupyter-widgets/controls",
          "model_name": "DescriptionStyleModel",
          "state": {
            "_view_name": "StyleView",
            "_model_name": "DescriptionStyleModel",
            "description_width": "",
            "_view_module": "@jupyter-widgets/base",
            "_model_module_version": "1.5.0",
            "_view_count": null,
            "_view_module_version": "1.2.0",
            "_model_module": "@jupyter-widgets/controls"
          }
        },
        "4e4b539833704bf5afe8b1ba761c8c6b": {
          "model_module": "@jupyter-widgets/base",
          "model_name": "LayoutModel",
          "state": {
            "_view_name": "LayoutView",
            "grid_template_rows": null,
            "right": null,
            "justify_content": null,
            "_view_module": "@jupyter-widgets/base",
            "overflow": null,
            "_model_module_version": "1.2.0",
            "_view_count": null,
            "flex_flow": null,
            "width": null,
            "min_width": null,
            "border": null,
            "align_items": null,
            "bottom": null,
            "_model_module": "@jupyter-widgets/base",
            "top": null,
            "grid_column": null,
            "overflow_y": null,
            "overflow_x": null,
            "grid_auto_flow": null,
            "grid_area": null,
            "grid_template_columns": null,
            "flex": null,
            "_model_name": "LayoutModel",
            "justify_items": null,
            "grid_row": null,
            "max_height": null,
            "align_content": null,
            "visibility": null,
            "align_self": null,
            "height": null,
            "min_height": null,
            "padding": null,
            "grid_auto_rows": null,
            "grid_gap": null,
            "max_width": null,
            "order": null,
            "_view_module_version": "1.2.0",
            "grid_template_areas": null,
            "object_position": null,
            "object_fit": null,
            "grid_auto_columns": null,
            "margin": null,
            "display": null,
            "left": null
          }
        },
        "271a323602e94dae92c5c0ad2bc66fad": {
          "model_module": "@jupyter-widgets/controls",
          "model_name": "HBoxModel",
          "state": {
            "_view_name": "HBoxView",
            "_dom_classes": [],
            "_model_name": "HBoxModel",
            "_view_module": "@jupyter-widgets/controls",
            "_model_module_version": "1.5.0",
            "_view_count": null,
            "_view_module_version": "1.5.0",
            "box_style": "",
            "layout": "IPY_MODEL_dfb101a1cf7642a4b09bb394085cc44e",
            "_model_module": "@jupyter-widgets/controls",
            "children": [
              "IPY_MODEL_337a52ef0d9e46bea48340f510a38268",
              "IPY_MODEL_57128e2cfb3d447abb40d27aee959139"
            ]
          }
        },
        "dfb101a1cf7642a4b09bb394085cc44e": {
          "model_module": "@jupyter-widgets/base",
          "model_name": "LayoutModel",
          "state": {
            "_view_name": "LayoutView",
            "grid_template_rows": null,
            "right": null,
            "justify_content": null,
            "_view_module": "@jupyter-widgets/base",
            "overflow": null,
            "_model_module_version": "1.2.0",
            "_view_count": null,
            "flex_flow": null,
            "width": null,
            "min_width": null,
            "border": null,
            "align_items": null,
            "bottom": null,
            "_model_module": "@jupyter-widgets/base",
            "top": null,
            "grid_column": null,
            "overflow_y": null,
            "overflow_x": null,
            "grid_auto_flow": null,
            "grid_area": null,
            "grid_template_columns": null,
            "flex": null,
            "_model_name": "LayoutModel",
            "justify_items": null,
            "grid_row": null,
            "max_height": null,
            "align_content": null,
            "visibility": null,
            "align_self": null,
            "height": null,
            "min_height": null,
            "padding": null,
            "grid_auto_rows": null,
            "grid_gap": null,
            "max_width": null,
            "order": null,
            "_view_module_version": "1.2.0",
            "grid_template_areas": null,
            "object_position": null,
            "object_fit": null,
            "grid_auto_columns": null,
            "margin": null,
            "display": null,
            "left": null
          }
        },
        "337a52ef0d9e46bea48340f510a38268": {
          "model_module": "@jupyter-widgets/controls",
          "model_name": "FloatProgressModel",
          "state": {
            "_view_name": "ProgressView",
            "style": "IPY_MODEL_b8f4c8b73157474abf5b04fcd9f3629b",
            "_dom_classes": [],
            "description": "100%",
            "_model_name": "FloatProgressModel",
            "bar_style": "success",
            "max": 100,
            "_view_module": "@jupyter-widgets/controls",
            "_model_module_version": "1.5.0",
            "value": 100,
            "_view_count": null,
            "_view_module_version": "1.5.0",
            "orientation": "horizontal",
            "min": 0,
            "description_tooltip": null,
            "_model_module": "@jupyter-widgets/controls",
            "layout": "IPY_MODEL_61c7647634dc4132a7c91d3ad5cbe48f"
          }
        },
        "57128e2cfb3d447abb40d27aee959139": {
          "model_module": "@jupyter-widgets/controls",
          "model_name": "HTMLModel",
          "state": {
            "_view_name": "HTMLView",
            "style": "IPY_MODEL_63929d1d4e41469393f713c7cfb0e4e1",
            "_dom_classes": [],
            "description": "",
            "_model_name": "HTMLModel",
            "placeholder": "​",
            "_view_module": "@jupyter-widgets/controls",
            "_model_module_version": "1.5.0",
            "value": " 100/100 [00:28&lt;00:00,  3.52it/s]",
            "_view_count": null,
            "_view_module_version": "1.5.0",
            "description_tooltip": null,
            "_model_module": "@jupyter-widgets/controls",
            "layout": "IPY_MODEL_f085a2642f1e423ba62ad873b9d36a04"
          }
        },
        "b8f4c8b73157474abf5b04fcd9f3629b": {
          "model_module": "@jupyter-widgets/controls",
          "model_name": "ProgressStyleModel",
          "state": {
            "_view_name": "StyleView",
            "_model_name": "ProgressStyleModel",
            "description_width": "initial",
            "_view_module": "@jupyter-widgets/base",
            "_model_module_version": "1.5.0",
            "_view_count": null,
            "_view_module_version": "1.2.0",
            "bar_color": null,
            "_model_module": "@jupyter-widgets/controls"
          }
        },
        "61c7647634dc4132a7c91d3ad5cbe48f": {
          "model_module": "@jupyter-widgets/base",
          "model_name": "LayoutModel",
          "state": {
            "_view_name": "LayoutView",
            "grid_template_rows": null,
            "right": null,
            "justify_content": null,
            "_view_module": "@jupyter-widgets/base",
            "overflow": null,
            "_model_module_version": "1.2.0",
            "_view_count": null,
            "flex_flow": null,
            "width": null,
            "min_width": null,
            "border": null,
            "align_items": null,
            "bottom": null,
            "_model_module": "@jupyter-widgets/base",
            "top": null,
            "grid_column": null,
            "overflow_y": null,
            "overflow_x": null,
            "grid_auto_flow": null,
            "grid_area": null,
            "grid_template_columns": null,
            "flex": null,
            "_model_name": "LayoutModel",
            "justify_items": null,
            "grid_row": null,
            "max_height": null,
            "align_content": null,
            "visibility": null,
            "align_self": null,
            "height": null,
            "min_height": null,
            "padding": null,
            "grid_auto_rows": null,
            "grid_gap": null,
            "max_width": null,
            "order": null,
            "_view_module_version": "1.2.0",
            "grid_template_areas": null,
            "object_position": null,
            "object_fit": null,
            "grid_auto_columns": null,
            "margin": null,
            "display": null,
            "left": null
          }
        },
        "63929d1d4e41469393f713c7cfb0e4e1": {
          "model_module": "@jupyter-widgets/controls",
          "model_name": "DescriptionStyleModel",
          "state": {
            "_view_name": "StyleView",
            "_model_name": "DescriptionStyleModel",
            "description_width": "",
            "_view_module": "@jupyter-widgets/base",
            "_model_module_version": "1.5.0",
            "_view_count": null,
            "_view_module_version": "1.2.0",
            "_model_module": "@jupyter-widgets/controls"
          }
        },
        "f085a2642f1e423ba62ad873b9d36a04": {
          "model_module": "@jupyter-widgets/base",
          "model_name": "LayoutModel",
          "state": {
            "_view_name": "LayoutView",
            "grid_template_rows": null,
            "right": null,
            "justify_content": null,
            "_view_module": "@jupyter-widgets/base",
            "overflow": null,
            "_model_module_version": "1.2.0",
            "_view_count": null,
            "flex_flow": null,
            "width": null,
            "min_width": null,
            "border": null,
            "align_items": null,
            "bottom": null,
            "_model_module": "@jupyter-widgets/base",
            "top": null,
            "grid_column": null,
            "overflow_y": null,
            "overflow_x": null,
            "grid_auto_flow": null,
            "grid_area": null,
            "grid_template_columns": null,
            "flex": null,
            "_model_name": "LayoutModel",
            "justify_items": null,
            "grid_row": null,
            "max_height": null,
            "align_content": null,
            "visibility": null,
            "align_self": null,
            "height": null,
            "min_height": null,
            "padding": null,
            "grid_auto_rows": null,
            "grid_gap": null,
            "max_width": null,
            "order": null,
            "_view_module_version": "1.2.0",
            "grid_template_areas": null,
            "object_position": null,
            "object_fit": null,
            "grid_auto_columns": null,
            "margin": null,
            "display": null,
            "left": null
          }
        },
        "02f47b877f6f4d99a4d43300d5db7c7f": {
          "model_module": "@jupyter-widgets/controls",
          "model_name": "HBoxModel",
          "state": {
            "_view_name": "HBoxView",
            "_dom_classes": [],
            "_model_name": "HBoxModel",
            "_view_module": "@jupyter-widgets/controls",
            "_model_module_version": "1.5.0",
            "_view_count": null,
            "_view_module_version": "1.5.0",
            "box_style": "",
            "layout": "IPY_MODEL_bd65c95df090433eb5f16c0ddc004c15",
            "_model_module": "@jupyter-widgets/controls",
            "children": [
              "IPY_MODEL_f1bcaa6a56c846b1aed754044b1586ff",
              "IPY_MODEL_9c9fd89e4fea427ca69efb971d647f02"
            ]
          }
        },
        "bd65c95df090433eb5f16c0ddc004c15": {
          "model_module": "@jupyter-widgets/base",
          "model_name": "LayoutModel",
          "state": {
            "_view_name": "LayoutView",
            "grid_template_rows": null,
            "right": null,
            "justify_content": null,
            "_view_module": "@jupyter-widgets/base",
            "overflow": null,
            "_model_module_version": "1.2.0",
            "_view_count": null,
            "flex_flow": null,
            "width": null,
            "min_width": null,
            "border": null,
            "align_items": null,
            "bottom": null,
            "_model_module": "@jupyter-widgets/base",
            "top": null,
            "grid_column": null,
            "overflow_y": null,
            "overflow_x": null,
            "grid_auto_flow": null,
            "grid_area": null,
            "grid_template_columns": null,
            "flex": null,
            "_model_name": "LayoutModel",
            "justify_items": null,
            "grid_row": null,
            "max_height": null,
            "align_content": null,
            "visibility": null,
            "align_self": null,
            "height": null,
            "min_height": null,
            "padding": null,
            "grid_auto_rows": null,
            "grid_gap": null,
            "max_width": null,
            "order": null,
            "_view_module_version": "1.2.0",
            "grid_template_areas": null,
            "object_position": null,
            "object_fit": null,
            "grid_auto_columns": null,
            "margin": null,
            "display": null,
            "left": null
          }
        },
        "f1bcaa6a56c846b1aed754044b1586ff": {
          "model_module": "@jupyter-widgets/controls",
          "model_name": "FloatProgressModel",
          "state": {
            "_view_name": "ProgressView",
            "style": "IPY_MODEL_0e3be32bd99c4d4d99ba07e5a5de38e5",
            "_dom_classes": [],
            "description": "100%",
            "_model_name": "FloatProgressModel",
            "bar_style": "success",
            "max": 50,
            "_view_module": "@jupyter-widgets/controls",
            "_model_module_version": "1.5.0",
            "value": 50,
            "_view_count": null,
            "_view_module_version": "1.5.0",
            "orientation": "horizontal",
            "min": 0,
            "description_tooltip": null,
            "_model_module": "@jupyter-widgets/controls",
            "layout": "IPY_MODEL_382a504708ef4f96b46d4b409f8bb422"
          }
        },
        "9c9fd89e4fea427ca69efb971d647f02": {
          "model_module": "@jupyter-widgets/controls",
          "model_name": "HTMLModel",
          "state": {
            "_view_name": "HTMLView",
            "style": "IPY_MODEL_4175d18dd1c3481b8da869bf4ee78a76",
            "_dom_classes": [],
            "description": "",
            "_model_name": "HTMLModel",
            "placeholder": "​",
            "_view_module": "@jupyter-widgets/controls",
            "_model_module_version": "1.5.0",
            "value": " 50/50 [06:43&lt;00:00,  8.07s/it]",
            "_view_count": null,
            "_view_module_version": "1.5.0",
            "description_tooltip": null,
            "_model_module": "@jupyter-widgets/controls",
            "layout": "IPY_MODEL_fd14b24b8cce47e8bb2aaffd2ac6ebe8"
          }
        },
        "0e3be32bd99c4d4d99ba07e5a5de38e5": {
          "model_module": "@jupyter-widgets/controls",
          "model_name": "ProgressStyleModel",
          "state": {
            "_view_name": "StyleView",
            "_model_name": "ProgressStyleModel",
            "description_width": "initial",
            "_view_module": "@jupyter-widgets/base",
            "_model_module_version": "1.5.0",
            "_view_count": null,
            "_view_module_version": "1.2.0",
            "bar_color": null,
            "_model_module": "@jupyter-widgets/controls"
          }
        },
        "382a504708ef4f96b46d4b409f8bb422": {
          "model_module": "@jupyter-widgets/base",
          "model_name": "LayoutModel",
          "state": {
            "_view_name": "LayoutView",
            "grid_template_rows": null,
            "right": null,
            "justify_content": null,
            "_view_module": "@jupyter-widgets/base",
            "overflow": null,
            "_model_module_version": "1.2.0",
            "_view_count": null,
            "flex_flow": null,
            "width": null,
            "min_width": null,
            "border": null,
            "align_items": null,
            "bottom": null,
            "_model_module": "@jupyter-widgets/base",
            "top": null,
            "grid_column": null,
            "overflow_y": null,
            "overflow_x": null,
            "grid_auto_flow": null,
            "grid_area": null,
            "grid_template_columns": null,
            "flex": null,
            "_model_name": "LayoutModel",
            "justify_items": null,
            "grid_row": null,
            "max_height": null,
            "align_content": null,
            "visibility": null,
            "align_self": null,
            "height": null,
            "min_height": null,
            "padding": null,
            "grid_auto_rows": null,
            "grid_gap": null,
            "max_width": null,
            "order": null,
            "_view_module_version": "1.2.0",
            "grid_template_areas": null,
            "object_position": null,
            "object_fit": null,
            "grid_auto_columns": null,
            "margin": null,
            "display": null,
            "left": null
          }
        },
        "4175d18dd1c3481b8da869bf4ee78a76": {
          "model_module": "@jupyter-widgets/controls",
          "model_name": "DescriptionStyleModel",
          "state": {
            "_view_name": "StyleView",
            "_model_name": "DescriptionStyleModel",
            "description_width": "",
            "_view_module": "@jupyter-widgets/base",
            "_model_module_version": "1.5.0",
            "_view_count": null,
            "_view_module_version": "1.2.0",
            "_model_module": "@jupyter-widgets/controls"
          }
        },
        "fd14b24b8cce47e8bb2aaffd2ac6ebe8": {
          "model_module": "@jupyter-widgets/base",
          "model_name": "LayoutModel",
          "state": {
            "_view_name": "LayoutView",
            "grid_template_rows": null,
            "right": null,
            "justify_content": null,
            "_view_module": "@jupyter-widgets/base",
            "overflow": null,
            "_model_module_version": "1.2.0",
            "_view_count": null,
            "flex_flow": null,
            "width": null,
            "min_width": null,
            "border": null,
            "align_items": null,
            "bottom": null,
            "_model_module": "@jupyter-widgets/base",
            "top": null,
            "grid_column": null,
            "overflow_y": null,
            "overflow_x": null,
            "grid_auto_flow": null,
            "grid_area": null,
            "grid_template_columns": null,
            "flex": null,
            "_model_name": "LayoutModel",
            "justify_items": null,
            "grid_row": null,
            "max_height": null,
            "align_content": null,
            "visibility": null,
            "align_self": null,
            "height": null,
            "min_height": null,
            "padding": null,
            "grid_auto_rows": null,
            "grid_gap": null,
            "max_width": null,
            "order": null,
            "_view_module_version": "1.2.0",
            "grid_template_areas": null,
            "object_position": null,
            "object_fit": null,
            "grid_auto_columns": null,
            "margin": null,
            "display": null,
            "left": null
          }
        },
        "e1e2241ba2ce4155b0c22e25ab7b4c06": {
          "model_module": "@jupyter-widgets/controls",
          "model_name": "HBoxModel",
          "state": {
            "_view_name": "HBoxView",
            "_dom_classes": [],
            "_model_name": "HBoxModel",
            "_view_module": "@jupyter-widgets/controls",
            "_model_module_version": "1.5.0",
            "_view_count": null,
            "_view_module_version": "1.5.0",
            "box_style": "",
            "layout": "IPY_MODEL_b24e05bbcc8a49bb9638a74e665914af",
            "_model_module": "@jupyter-widgets/controls",
            "children": [
              "IPY_MODEL_017ae0bb879d40129fe5a543130fe473",
              "IPY_MODEL_0172f37055544de4accc6558e4acc826"
            ]
          }
        },
        "b24e05bbcc8a49bb9638a74e665914af": {
          "model_module": "@jupyter-widgets/base",
          "model_name": "LayoutModel",
          "state": {
            "_view_name": "LayoutView",
            "grid_template_rows": null,
            "right": null,
            "justify_content": null,
            "_view_module": "@jupyter-widgets/base",
            "overflow": null,
            "_model_module_version": "1.2.0",
            "_view_count": null,
            "flex_flow": null,
            "width": null,
            "min_width": null,
            "border": null,
            "align_items": null,
            "bottom": null,
            "_model_module": "@jupyter-widgets/base",
            "top": null,
            "grid_column": null,
            "overflow_y": null,
            "overflow_x": null,
            "grid_auto_flow": null,
            "grid_area": null,
            "grid_template_columns": null,
            "flex": null,
            "_model_name": "LayoutModel",
            "justify_items": null,
            "grid_row": null,
            "max_height": null,
            "align_content": null,
            "visibility": null,
            "align_self": null,
            "height": null,
            "min_height": null,
            "padding": null,
            "grid_auto_rows": null,
            "grid_gap": null,
            "max_width": null,
            "order": null,
            "_view_module_version": "1.2.0",
            "grid_template_areas": null,
            "object_position": null,
            "object_fit": null,
            "grid_auto_columns": null,
            "margin": null,
            "display": null,
            "left": null
          }
        },
        "017ae0bb879d40129fe5a543130fe473": {
          "model_module": "@jupyter-widgets/controls",
          "model_name": "FloatProgressModel",
          "state": {
            "_view_name": "ProgressView",
            "style": "IPY_MODEL_a013f0ef2b654f499ce447c0383b0fb7",
            "_dom_classes": [],
            "description": "100%",
            "_model_name": "FloatProgressModel",
            "bar_style": "success",
            "max": 50,
            "_view_module": "@jupyter-widgets/controls",
            "_model_module_version": "1.5.0",
            "value": 50,
            "_view_count": null,
            "_view_module_version": "1.5.0",
            "orientation": "horizontal",
            "min": 0,
            "description_tooltip": null,
            "_model_module": "@jupyter-widgets/controls",
            "layout": "IPY_MODEL_13f1d1aaa0674ec6ba51f97aa56c1e94"
          }
        },
        "0172f37055544de4accc6558e4acc826": {
          "model_module": "@jupyter-widgets/controls",
          "model_name": "HTMLModel",
          "state": {
            "_view_name": "HTMLView",
            "style": "IPY_MODEL_91c68c1a9a1049049e544c96ee8466bd",
            "_dom_classes": [],
            "description": "",
            "_model_name": "HTMLModel",
            "placeholder": "​",
            "_view_module": "@jupyter-widgets/controls",
            "_model_module_version": "1.5.0",
            "value": " 50/50 [12:33&lt;00:00, 15.07s/it]",
            "_view_count": null,
            "_view_module_version": "1.5.0",
            "description_tooltip": null,
            "_model_module": "@jupyter-widgets/controls",
            "layout": "IPY_MODEL_45b0a2303dbd447bae1e78ffc981d8da"
          }
        },
        "a013f0ef2b654f499ce447c0383b0fb7": {
          "model_module": "@jupyter-widgets/controls",
          "model_name": "ProgressStyleModel",
          "state": {
            "_view_name": "StyleView",
            "_model_name": "ProgressStyleModel",
            "description_width": "initial",
            "_view_module": "@jupyter-widgets/base",
            "_model_module_version": "1.5.0",
            "_view_count": null,
            "_view_module_version": "1.2.0",
            "bar_color": null,
            "_model_module": "@jupyter-widgets/controls"
          }
        },
        "13f1d1aaa0674ec6ba51f97aa56c1e94": {
          "model_module": "@jupyter-widgets/base",
          "model_name": "LayoutModel",
          "state": {
            "_view_name": "LayoutView",
            "grid_template_rows": null,
            "right": null,
            "justify_content": null,
            "_view_module": "@jupyter-widgets/base",
            "overflow": null,
            "_model_module_version": "1.2.0",
            "_view_count": null,
            "flex_flow": null,
            "width": null,
            "min_width": null,
            "border": null,
            "align_items": null,
            "bottom": null,
            "_model_module": "@jupyter-widgets/base",
            "top": null,
            "grid_column": null,
            "overflow_y": null,
            "overflow_x": null,
            "grid_auto_flow": null,
            "grid_area": null,
            "grid_template_columns": null,
            "flex": null,
            "_model_name": "LayoutModel",
            "justify_items": null,
            "grid_row": null,
            "max_height": null,
            "align_content": null,
            "visibility": null,
            "align_self": null,
            "height": null,
            "min_height": null,
            "padding": null,
            "grid_auto_rows": null,
            "grid_gap": null,
            "max_width": null,
            "order": null,
            "_view_module_version": "1.2.0",
            "grid_template_areas": null,
            "object_position": null,
            "object_fit": null,
            "grid_auto_columns": null,
            "margin": null,
            "display": null,
            "left": null
          }
        },
        "91c68c1a9a1049049e544c96ee8466bd": {
          "model_module": "@jupyter-widgets/controls",
          "model_name": "DescriptionStyleModel",
          "state": {
            "_view_name": "StyleView",
            "_model_name": "DescriptionStyleModel",
            "description_width": "",
            "_view_module": "@jupyter-widgets/base",
            "_model_module_version": "1.5.0",
            "_view_count": null,
            "_view_module_version": "1.2.0",
            "_model_module": "@jupyter-widgets/controls"
          }
        },
        "45b0a2303dbd447bae1e78ffc981d8da": {
          "model_module": "@jupyter-widgets/base",
          "model_name": "LayoutModel",
          "state": {
            "_view_name": "LayoutView",
            "grid_template_rows": null,
            "right": null,
            "justify_content": null,
            "_view_module": "@jupyter-widgets/base",
            "overflow": null,
            "_model_module_version": "1.2.0",
            "_view_count": null,
            "flex_flow": null,
            "width": null,
            "min_width": null,
            "border": null,
            "align_items": null,
            "bottom": null,
            "_model_module": "@jupyter-widgets/base",
            "top": null,
            "grid_column": null,
            "overflow_y": null,
            "overflow_x": null,
            "grid_auto_flow": null,
            "grid_area": null,
            "grid_template_columns": null,
            "flex": null,
            "_model_name": "LayoutModel",
            "justify_items": null,
            "grid_row": null,
            "max_height": null,
            "align_content": null,
            "visibility": null,
            "align_self": null,
            "height": null,
            "min_height": null,
            "padding": null,
            "grid_auto_rows": null,
            "grid_gap": null,
            "max_width": null,
            "order": null,
            "_view_module_version": "1.2.0",
            "grid_template_areas": null,
            "object_position": null,
            "object_fit": null,
            "grid_auto_columns": null,
            "margin": null,
            "display": null,
            "left": null
          }
        }
      }
    }
  },
  "cells": [
    {
      "cell_type": "markdown",
      "metadata": {
        "id": "P7IFJ5_Y33-8"
      },
      "source": [
        "# Lab Assignment 1\n"
      ]
    },
    {
      "cell_type": "code",
      "metadata": {
        "id": "onui8xrw5dKi"
      },
      "source": [
        "# Please note that this code needs only to be run in a fresh runtime.\n",
        "# However, it can be rerun afterwards too.\n",
        "# Here we download and install locally two libraries:\n",
        "# -  gdown is a library similar to curl and wget but it allows to download big files from google drive\n",
        "#    two previous apps have problem with this because of google warning that file is too big to scan it with antivirus.\n",
        "# -  httpimport allows to import modules from web using HTTP/HTTPS.\n",
        "!pip install -q gdown httpimport\n",
        "# If you don't use virtual env and you work on own computer, then you may want to install these packages\n",
        "# system wide, in such case you should use: 'sudo pip install gdown httpimport' in your shell.\n",
        "# Download MNIST data set, which we will be use in problem 5..\n",
        "# If you have installed gdown locally, then you probably want to change here 'gdown' to '~/.local/bin/gdown',\n",
        "# because ~/.local/bin is default directory for packages installed locally by pip.\n",
        "![ -e mnist.npz ] || gdown 'https://drive.google.com/uc?id=1QPaC3IKB_5tX6yIZgRgkpcqFrfVqPTXU' -O mnist.npz"
      ],
      "execution_count": null,
      "outputs": []
    },
    {
      "cell_type": "code",
      "metadata": {
        "id": "YxzWq6iO2KPm"
      },
      "source": [
        "# Standard IPython notebook imports\n",
        "%matplotlib inline\n",
        "\n",
        "import os\n",
        "\n",
        "import httpimport\n",
        "import matplotlib.pyplot as plt\n",
        "import numpy as np\n",
        "import pandas as pd\n",
        "from tqdm.auto import tqdm\n",
        "# import scipy.stats as sstatsgit@github.com:janchorowski/ml_uwr.git\n",
        "\n",
        "import seaborn as sns\n",
        "from sklearn import datasets\n",
        "\n",
        "# In this way we can import functions straight from github\n",
        "with httpimport.github_repo('janchorowski', 'nn_assignments', \n",
        "                            module='common', branch='nn18'):\n",
        "     from common.plotting import plot_mat\n",
        "\n",
        "sns.set_style('whitegrid')"
      ],
      "execution_count": null,
      "outputs": []
    },
    {
      "cell_type": "markdown",
      "metadata": {
        "id": "AfmjDoxi6JNA"
      },
      "source": [
        "### 4. Follow the notebook and solve problems posted below"
      ]
    },
    {
      "cell_type": "markdown",
      "metadata": {
        "id": "3hr81V8T8ccB"
      },
      "source": [
        "## Problems"
      ]
    },
    {
      "cell_type": "markdown",
      "metadata": {
        "id": "0eT1x_VG33_E"
      },
      "source": [
        "### Problem 0 [0p]\n",
        "\n",
        " \n",
        "1. To learn more about Jupyter,  read [Jupyter tutorial from Data Analysis in Biological Sciences course at Caltech](http://bebi103.caltech.edu/2015/tutorials/t0b_intro_to_jupyter_notebooks.html) (which itself can be downloaded as a Jupyter notebook). Feel free to skip the tutorial if you have some prior experience with Jupyter notebook.\n",
        "2. To learn more about basic Google Colab features, go to [Google Colab](https://colab.research.google.com) and select \"Overview of Colaboratory Features\" in \"EXAMPLES\" tab. To learn more about / set up useful keyboard shortcuts (e.g. to add a new cell without clicking \"\"+ code\"), go to \"Tools --> Keyboard shortcuts\""
      ]
    },
    {
      "cell_type": "markdown",
      "metadata": {
        "id": "AsOC0voR33_F"
      },
      "source": [
        "### Problem 1: NumPy [2p]\n",
        "\n",
        "First, get familiar with Python at https://docs.python.org/3/tutorial/. Then, get\n",
        "to know the capabilities of NumPy, the prime numerical library of Python http://www.numpy.org/, for instance with the tutorial at https://numpy.org/doc/stable/user/quickstart.html. Finally, look into Pandas at https://pandas.pydata.org/pandas-docs/stable/getting_started/tutorials.html.\n",
        "\n",
        "You might also need:\n",
        "  1. another intro to NumPy,\n",
        "http://people.duke.edu/~ccc14/pcfb/numerics.html\n",
        "  2. a better interactive shell for Python\n",
        "http://ipython.org/\n",
        "  3. a plotting library for Python\n",
        "http://matplotlib.org/\n",
        "  4. nice statistical plots for matplotlib https://seaborn.pydata.org/."
      ]
    },
    {
      "cell_type": "markdown",
      "metadata": {
        "id": "2ijCVw7reGbm"
      },
      "source": [
        "\n",
        "**a) Declare variables:**\n",
        "1. $a=10$,\n",
        "2. $b=2.5\\times 10^{23}$,\n",
        "3. $c=2+3i$, where $i$ is an imaginary unit,\n",
        "4. $d=e^{i2\\pi/3}$, where $i$ is an imaginary unit, $e$ is the Euler's number (use `exp`, `pi`)."
      ]
    },
    {
      "cell_type": "code",
      "metadata": {
        "id": "8sd7jJhd33_G",
        "outputId": "a58579cc-c068-4a05-e3f4-5642f5bb9b05",
        "colab": {
          "base_uri": "https://localhost:8080/",
          "height": 86
        }
      },
      "source": [
        "import math\n",
        "a = 10\n",
        "b = 2.5 * 10**23\n",
        "c = complex(2, 3)\n",
        "d = complex(0, math.exp(2*math.pi/3))\n",
        "print(a)\n",
        "print(b)\n",
        "print(c)\n",
        "print(d)"
      ],
      "execution_count": null,
      "outputs": [
        {
          "output_type": "stream",
          "text": [
            "10\n",
            "2.5e+23\n",
            "(2+3j)\n",
            "8.120527396669775j\n"
          ],
          "name": "stdout"
        }
      ]
    },
    {
      "cell_type": "markdown",
      "metadata": {
        "id": "bP0hAHvN33_K"
      },
      "source": [
        "**b) Declare vectors:**\n",
        "1. $aVec=\\begin{bmatrix} 3.14 & 15 & 9 & 26 \\end{bmatrix}$,\n",
        "2. $bVec=\\begin{bmatrix} 5 & 4.8 & \\cdots & -4.8 & -5 \\end{bmatrix}$ (vector of numbers from $5$ to $-5$ decreasing by $0.2$),\n",
        "3. $cVec=\\begin{bmatrix} 10^0 & 10^{0.01} & \\cdots & 10^{0.99} & 10^1 \\end{bmatrix}$ (logarithmically spaced numbers from 1 to 10, use `logspace` and make sure, that the result has correct length!),\n",
        "4. $dVec=Hello$ ($dVec$ is a string of characters, thus a vector)."
      ]
    },
    {
      "cell_type": "code",
      "metadata": {
        "id": "37RmkuW533_L",
        "outputId": "c4d0eb63-00e6-4d02-b231-c74779d94e4d",
        "colab": {
          "base_uri": "https://localhost:8080/",
          "height": 573
        }
      },
      "source": [
        "aVec = np.array([3.14, 15, 9, 26])\n",
        "bVec = np.arange(5, -5.2, -0.2)\n",
        "cVec = np.logspace(0, 1, 100)\n",
        "dVec = 'Hello'\n",
        "dVev = np.array(['H', 'e', 'l', 'l', 'o'], dtype=np.character)\n",
        "dVev = np.array('Hello')\n",
        "print(aVec)\n",
        "print(bVec)\n",
        "print(cVec)\n",
        "print(dVec)"
      ],
      "execution_count": null,
      "outputs": [
        {
          "output_type": "stream",
          "text": [
            "[ 3.14 15.    9.   26.  ]\n",
            "[ 5.0000000e+00  4.8000000e+00  4.6000000e+00  4.4000000e+00\n",
            "  4.2000000e+00  4.0000000e+00  3.8000000e+00  3.6000000e+00\n",
            "  3.4000000e+00  3.2000000e+00  3.0000000e+00  2.8000000e+00\n",
            "  2.6000000e+00  2.4000000e+00  2.2000000e+00  2.0000000e+00\n",
            "  1.8000000e+00  1.6000000e+00  1.4000000e+00  1.2000000e+00\n",
            "  1.0000000e+00  8.0000000e-01  6.0000000e-01  4.0000000e-01\n",
            "  2.0000000e-01 -4.4408921e-15 -2.0000000e-01 -4.0000000e-01\n",
            " -6.0000000e-01 -8.0000000e-01 -1.0000000e+00 -1.2000000e+00\n",
            " -1.4000000e+00 -1.6000000e+00 -1.8000000e+00 -2.0000000e+00\n",
            " -2.2000000e+00 -2.4000000e+00 -2.6000000e+00 -2.8000000e+00\n",
            " -3.0000000e+00 -3.2000000e+00 -3.4000000e+00 -3.6000000e+00\n",
            " -3.8000000e+00 -4.0000000e+00 -4.2000000e+00 -4.4000000e+00\n",
            " -4.6000000e+00 -4.8000000e+00 -5.0000000e+00]\n",
            "[ 1.          1.02353102  1.04761575  1.07226722  1.09749877  1.12332403\n",
            "  1.149757    1.17681195  1.20450354  1.23284674  1.26185688  1.29154967\n",
            "  1.32194115  1.35304777  1.38488637  1.41747416  1.45082878  1.48496826\n",
            "  1.51991108  1.55567614  1.59228279  1.62975083  1.66810054  1.70735265\n",
            "  1.7475284   1.78864953  1.83073828  1.87381742  1.91791026  1.96304065\n",
            "  2.009233    2.05651231  2.10490414  2.15443469  2.20513074  2.25701972\n",
            "  2.3101297   2.36448941  2.42012826  2.47707636  2.53536449  2.59502421\n",
            "  2.65608778  2.71858824  2.7825594   2.84803587  2.91505306  2.98364724\n",
            "  3.05385551  3.12571585  3.19926714  3.27454916  3.35160265  3.43046929\n",
            "  3.51119173  3.59381366  3.67837977  3.76493581  3.85352859  3.94420606\n",
            "  4.03701726  4.1320124   4.22924287  4.32876128  4.43062146  4.53487851\n",
            "  4.64158883  4.75081016  4.86260158  4.97702356  5.09413801  5.21400829\n",
            "  5.33669923  5.46227722  5.59081018  5.72236766  5.85702082  5.9948425\n",
            "  6.13590727  6.28029144  6.42807312  6.57933225  6.73415066  6.8926121\n",
            "  7.05480231  7.22080902  7.39072203  7.56463328  7.74263683  7.92482898\n",
            "  8.11130831  8.30217568  8.49753436  8.69749003  8.90215085  9.11162756\n",
            "  9.32603347  9.54548457  9.77009957 10.        ]\n",
            "Hello\n"
          ],
          "name": "stdout"
        }
      ]
    },
    {
      "cell_type": "markdown",
      "metadata": {
        "id": "C58YJtEU33_O"
      },
      "source": [
        "**c) Declare matrices:**\n",
        "1. \\begin{equation}aMat=\\begin{bmatrix}\n",
        "                    2      & \\cdots & 2 \\\\\n",
        "                    \\vdots & \\ddots & \\vdots \\\\\n",
        "                    2      & \\cdots & 2\n",
        "          \\end{bmatrix},\\end{equation}\n",
        "    matrix $9\\times 9$ filled with 2s (use `ones` or `zeros`),\n",
        "2. \\begin{equation}bMat=\\begin{bmatrix}\n",
        "                    1      & 0      & \\cdots &        & 0      \\\\\n",
        "                    0      & \\ddots & 0      &        & 0      \\\\\n",
        "                    \\vdots & 0      & 5      & 0      & \\vdots \\\\\n",
        "                           &        & 0      & \\ddots & 0      \\\\\n",
        "                    0      &        & \\cdots & 0      & 1\n",
        "                \\end{bmatrix},\\end{equation}\n",
        "    matrix $9\\times 9$ filled with zeros, with\n",
        "    $[ 1, 2, 3, 4, 5, 4, 3, 2, 1]$ on its diagonal (use `zeros`, `diag`),\n",
        "3. \\begin{equation}cMat=\\begin{bmatrix}\n",
        "                    1      & 11     & \\cdots & 91     \\\\\n",
        "                    2      & 12     & \\cdots & 92     \\\\\n",
        "                    \\vdots & \\vdots & \\ddots & \\vdots \\\\\n",
        "                    10     & 20     & \\cdots & 100\n",
        "                \\end{bmatrix},\\end{equation}\n",
        "    matrix $10\\times 10$, columns of which form the vector $1:100$ (use `reshape`),\n",
        "4. \\begin{equation}dMat=\\begin{bmatrix}\n",
        "                    NaN & NaN & NaN & NaN \\\\\n",
        "                    NaN & NaN & NaN & NaN \\\\\n",
        "                    NaN & NaN & NaN & NaN\n",
        "                \\end{bmatrix},\\end{equation}\n",
        "    matrix $3\\times 4$ filled with `NaN`s (use... `NaN`),\n",
        "5. \\begin{equation}eMat=\\begin{bmatrix}\n",
        "                    13  & -1  & 5  \\\\\n",
        "                    -22 & 10  & -87\n",
        "                \\end{bmatrix},\\end{equation}\n",
        "6. $fMat$ of shape $3\\times 3$ filled with random integers from $[-3,3]$ (use `rand` and `floor` or `ceil`)."
      ]
    },
    {
      "cell_type": "code",
      "metadata": {
        "id": "Bdd1oUeI33_P",
        "outputId": "cdafcddd-1306-42a1-edd2-8183f9d5f647",
        "colab": {
          "base_uri": "https://localhost:8080/",
          "height": 642
        }
      },
      "source": [
        "aMat = np.zeros((9, 9), dtype=int)+2\n",
        "bMat = np.diag(np.array([1,2,3,4,5,4,3,2,1]))\n",
        "cMat = np.arange(1, 101).reshape(10, 10).T\n",
        "dMat = np.full((3,4), np.NaN)\n",
        "eMat = np.array([[13, -1, 5], [-22, 10, -87]], dtype=int)\n",
        "fMat = np.floor(7 * np.random.rand(3, 3) - 3)\n",
        "print(aMat)\n",
        "print(bMat)\n",
        "print(cMat)\n",
        "print(dMat)\n",
        "print(eMat)\n",
        "print(fMat)"
      ],
      "execution_count": null,
      "outputs": [
        {
          "output_type": "stream",
          "text": [
            "[[2 2 2 2 2 2 2 2 2]\n",
            " [2 2 2 2 2 2 2 2 2]\n",
            " [2 2 2 2 2 2 2 2 2]\n",
            " [2 2 2 2 2 2 2 2 2]\n",
            " [2 2 2 2 2 2 2 2 2]\n",
            " [2 2 2 2 2 2 2 2 2]\n",
            " [2 2 2 2 2 2 2 2 2]\n",
            " [2 2 2 2 2 2 2 2 2]\n",
            " [2 2 2 2 2 2 2 2 2]]\n",
            "[[1 0 0 0 0 0 0 0 0]\n",
            " [0 2 0 0 0 0 0 0 0]\n",
            " [0 0 3 0 0 0 0 0 0]\n",
            " [0 0 0 4 0 0 0 0 0]\n",
            " [0 0 0 0 5 0 0 0 0]\n",
            " [0 0 0 0 0 4 0 0 0]\n",
            " [0 0 0 0 0 0 3 0 0]\n",
            " [0 0 0 0 0 0 0 2 0]\n",
            " [0 0 0 0 0 0 0 0 1]]\n",
            "[[  1  11  21  31  41  51  61  71  81  91]\n",
            " [  2  12  22  32  42  52  62  72  82  92]\n",
            " [  3  13  23  33  43  53  63  73  83  93]\n",
            " [  4  14  24  34  44  54  64  74  84  94]\n",
            " [  5  15  25  35  45  55  65  75  85  95]\n",
            " [  6  16  26  36  46  56  66  76  86  96]\n",
            " [  7  17  27  37  47  57  67  77  87  97]\n",
            " [  8  18  28  38  48  58  68  78  88  98]\n",
            " [  9  19  29  39  49  59  69  79  89  99]\n",
            " [ 10  20  30  40  50  60  70  80  90 100]]\n",
            "[[nan nan nan nan]\n",
            " [nan nan nan nan]\n",
            " [nan nan nan nan]]\n",
            "[[ 13  -1   5]\n",
            " [-22  10 -87]]\n",
            "[[-3. -3.  2.]\n",
            " [ 1. -1.  0.]\n",
            " [-3.  1. -3.]]\n"
          ],
          "name": "stdout"
        }
      ]
    },
    {
      "cell_type": "markdown",
      "metadata": {
        "id": "DqtKQi1Q33_T"
      },
      "source": [
        "**d) Declare a multiplication table**\n",
        "as a $10\\times 10$ matrix `mulMat`. Use matrix/vector multiplication."
      ]
    },
    {
      "cell_type": "code",
      "metadata": {
        "id": "OWqHq-vK33_U",
        "outputId": "fb784531-834a-441a-f92d-a70d49a6bc24",
        "colab": {
          "base_uri": "https://localhost:8080/",
          "height": 187
        }
      },
      "source": [
        "arr = np.arange(1, 11)\n",
        "mulMat = arr * arr.reshape(10, 1)\n",
        "\n",
        "mulMat"
      ],
      "execution_count": null,
      "outputs": [
        {
          "output_type": "execute_result",
          "data": {
            "text/plain": [
              "array([[  1,   2,   3,   4,   5,   6,   7,   8,   9,  10],\n",
              "       [  2,   4,   6,   8,  10,  12,  14,  16,  18,  20],\n",
              "       [  3,   6,   9,  12,  15,  18,  21,  24,  27,  30],\n",
              "       [  4,   8,  12,  16,  20,  24,  28,  32,  36,  40],\n",
              "       [  5,  10,  15,  20,  25,  30,  35,  40,  45,  50],\n",
              "       [  6,  12,  18,  24,  30,  36,  42,  48,  54,  60],\n",
              "       [  7,  14,  21,  28,  35,  42,  49,  56,  63,  70],\n",
              "       [  8,  16,  24,  32,  40,  48,  56,  64,  72,  80],\n",
              "       [  9,  18,  27,  36,  45,  54,  63,  72,  81,  90],\n",
              "       [ 10,  20,  30,  40,  50,  60,  70,  80,  90, 100]])"
            ]
          },
          "metadata": {
            "tags": []
          },
          "execution_count": 87
        }
      ]
    },
    {
      "cell_type": "markdown",
      "metadata": {
        "id": "0xIm6lT133_Y"
      },
      "source": [
        "**e) Compute element-wise using values from b).**\n",
        "\n",
        "For instance, the first element of $xVec[0]$ should be equal to\n",
        "\n",
        "\\begin{equation}\n",
        "1/(\\sqrt{2\\pi2.5^2}) e^{-cVec[0]^2 / (2\\cdot\\pi 2.5^2)}.\n",
        "\\end{equation}\n",
        "\n",
        "1. $xVec=1/(\\sqrt{2\\pi2.5^2}) e^{-cVec^2 / (2\\cdot\\pi 2.5^2)}$\n",
        "2. $yVec=\\log_{10}(1/cVec)$, using `log10`"
      ]
    },
    {
      "cell_type": "code",
      "metadata": {
        "id": "LtH-kSU733_Z",
        "outputId": "547a928d-892c-4fbd-c4d3-7e6e6d916dcc",
        "colab": {
          "base_uri": "https://localhost:8080/",
          "height": 607
        }
      },
      "source": [
        "xVec = 1/(math.sqrt(2*math.pi*2.5**2))*math.e**(-cVec**2/(2*math.pi*2.5**2))\n",
        "yVec = np.log10(1/cVec)\n",
        "print(xVec)\n",
        "print(yVec)"
      ],
      "execution_count": null,
      "outputs": [
        {
          "output_type": "stream",
          "text": [
            "[0.15556462 0.15537611 0.15517887 0.1549725  0.1547566  0.15453075\n",
            " 0.15429449 0.15404737 0.15378891 0.15351861 0.15323595 0.15294038\n",
            " 0.15263135 0.15230828 0.15197056 0.15161756 0.15124863 0.1508631\n",
            " 0.15046027 0.1500394  0.14959976 0.14914057 0.14866103 0.1481603\n",
            " 0.14763754 0.14709187 0.14652238 0.14592813 0.14530818 0.14466153\n",
            " 0.14398717 0.14328408 0.14255119 0.14178742 0.14099168 0.14016284\n",
            " 0.13929975 0.13840127 0.13746622 0.13649342 0.13548169 0.13442982\n",
            " 0.13333663 0.13220091 0.13102149 0.1297972  0.12852688 0.12720941\n",
            " 0.12584368 0.12442865 0.12296331 0.12144669 0.11987792 0.11825618\n",
            " 0.11658075 0.11485099 0.1130664  0.11122656 0.10933122 0.10738026\n",
            " 0.10537373 0.10331187 0.10119508 0.09902401 0.0967995  0.09452265\n",
            " 0.0921948  0.08981757 0.08739287 0.08492289 0.08241014 0.07985745\n",
            " 0.07726798 0.07464522 0.07199301 0.06931553 0.06661729 0.06390316\n",
            " 0.06117833 0.05844828 0.0557188  0.05299598 0.0502861  0.04759569\n",
            " 0.04493142 0.04230011 0.03970863 0.03716387 0.03467267 0.03224177\n",
            " 0.02987771 0.02758678 0.02537494 0.02324774 0.02121026 0.01926701\n",
            " 0.01742191 0.01567817 0.01403829 0.01250398]\n",
            "[ 0.         -0.01010101 -0.02020202 -0.03030303 -0.04040404 -0.05050505\n",
            " -0.06060606 -0.07070707 -0.08080808 -0.09090909 -0.1010101  -0.11111111\n",
            " -0.12121212 -0.13131313 -0.14141414 -0.15151515 -0.16161616 -0.17171717\n",
            " -0.18181818 -0.19191919 -0.2020202  -0.21212121 -0.22222222 -0.23232323\n",
            " -0.24242424 -0.25252525 -0.26262626 -0.27272727 -0.28282828 -0.29292929\n",
            " -0.3030303  -0.31313131 -0.32323232 -0.33333333 -0.34343434 -0.35353535\n",
            " -0.36363636 -0.37373737 -0.38383838 -0.39393939 -0.4040404  -0.41414141\n",
            " -0.42424242 -0.43434343 -0.44444444 -0.45454545 -0.46464646 -0.47474747\n",
            " -0.48484848 -0.49494949 -0.50505051 -0.51515152 -0.52525253 -0.53535354\n",
            " -0.54545455 -0.55555556 -0.56565657 -0.57575758 -0.58585859 -0.5959596\n",
            " -0.60606061 -0.61616162 -0.62626263 -0.63636364 -0.64646465 -0.65656566\n",
            " -0.66666667 -0.67676768 -0.68686869 -0.6969697  -0.70707071 -0.71717172\n",
            " -0.72727273 -0.73737374 -0.74747475 -0.75757576 -0.76767677 -0.77777778\n",
            " -0.78787879 -0.7979798  -0.80808081 -0.81818182 -0.82828283 -0.83838384\n",
            " -0.84848485 -0.85858586 -0.86868687 -0.87878788 -0.88888889 -0.8989899\n",
            " -0.90909091 -0.91919192 -0.92929293 -0.93939394 -0.94949495 -0.95959596\n",
            " -0.96969697 -0.97979798 -0.98989899 -1.        ]\n"
          ],
          "name": "stdout"
        }
      ]
    },
    {
      "cell_type": "markdown",
      "metadata": {
        "id": "EBhf74F_33_d"
      },
      "source": [
        "**f) Compute with matrix/vector operations.**\n",
        "\n",
        "**NOTE:** Every multiplication (and power) in this subtask is a [matrix multiplication](https://en.wikipedia.org/wiki/Matrix_multiplication).\n",
        "1. $xMat=[0,  1, ..., 6][0, 10, 20, ..., 60]^T$,\n",
        "2. $yMat=[0, 10, 20, ..., 60]^T[0,  1, ..., 6]$\n",
        "<br/>\n",
        "(remember, that matrix multiplication is not commutative)."
      ]
    },
    {
      "cell_type": "code",
      "metadata": {
        "id": "UjdLR34u33_e",
        "outputId": "f629299f-b60d-4657-e5cb-ee2e971b3213",
        "colab": {
          "base_uri": "https://localhost:8080/",
          "height": 52
        }
      },
      "source": [
        "xMat = np.matmul(np.arange(7), np.arange(0, 70, 10).transpose())\n",
        "yMat = 10 * np.arange(7).transpose() * np.arange(7)\n",
        "print(xMat)\n",
        "print(yMat)"
      ],
      "execution_count": null,
      "outputs": [
        {
          "output_type": "stream",
          "text": [
            "910\n",
            "910\n"
          ],
          "name": "stdout"
        }
      ]
    },
    {
      "cell_type": "markdown",
      "metadata": {
        "id": "QJ3xTXgV33_i"
      },
      "source": [
        "**g) Declare `ismagic(A)` function** \n",
        "which checks if matrix $A$ is a [magic square](https://en.wikipedia.org/wiki/Magic_square) and returns a boolean."
      ]
    },
    {
      "cell_type": "code",
      "metadata": {
        "id": "uCNJUx_G33_j"
      },
      "source": [
        "def ismagic(A):\n",
        "    if len(A.shape) > 2 or A.shape[0]!= A.shape[1]:\n",
        "        return False\n",
        "\n",
        "    rows_sums = np.sum(A, axis = 1)\n",
        "    cols_sums = np.sum(A, axis = 0)\n",
        "    diag1_sum = np.sum(A.diagonal())\n",
        "    diag2_sum = np.sum(np.fliplr(A).diagonal())\n",
        "    return np.all(rows_sums == rows_sums[0]) and np.all(cols_sums == rows_sums[0]) and diag1_sum == rows_sums[0] and diag2_sum == rows_sums[0]\n",
        "\n",
        "assert not ismagic(np.array([[1,1], [2,2]]))\n",
        "assert ismagic(np.array([[2,7,6],[9,5,1],[4,3,8]]))"
      ],
      "execution_count": null,
      "outputs": []
    },
    {
      "cell_type": "markdown",
      "metadata": {
        "id": "kl8_nizPeiNy"
      },
      "source": [
        "### Problem 2: Pandas and Seaborn [2p]\n",
        "\n",
        "1. Load the IRIS Data into a `DataFrame`"
      ]
    },
    {
      "cell_type": "code",
      "metadata": {
        "id": "FzhoE5MWerAf",
        "outputId": "bf07d0e0-ca26-46ab-82bc-8f35f6efcda2",
        "colab": {
          "base_uri": "https://localhost:8080/",
          "height": 363
        }
      },
      "source": [
        "iris_url = 'https://archive.ics.uci.edu/ml/machine-learning-databases/iris/iris.data'\n",
        "# Use read_csv to load the data. Make sure you get 150 examples!\n",
        "iris_df = pd.read_csv(iris_url, names=['sepal_length', 'sepal_width', 'petal_length', 'petal_width', 'target'])\n",
        "\n",
        "# Print the first 10 entries\n",
        "iris_df.head(10)"
      ],
      "execution_count": null,
      "outputs": [
        {
          "output_type": "execute_result",
          "data": {
            "text/html": [
              "<div>\n",
              "<style scoped>\n",
              "    .dataframe tbody tr th:only-of-type {\n",
              "        vertical-align: middle;\n",
              "    }\n",
              "\n",
              "    .dataframe tbody tr th {\n",
              "        vertical-align: top;\n",
              "    }\n",
              "\n",
              "    .dataframe thead th {\n",
              "        text-align: right;\n",
              "    }\n",
              "</style>\n",
              "<table border=\"1\" class=\"dataframe\">\n",
              "  <thead>\n",
              "    <tr style=\"text-align: right;\">\n",
              "      <th></th>\n",
              "      <th>sepal_length</th>\n",
              "      <th>sepal_width</th>\n",
              "      <th>petal_length</th>\n",
              "      <th>petal_width</th>\n",
              "      <th>target</th>\n",
              "    </tr>\n",
              "  </thead>\n",
              "  <tbody>\n",
              "    <tr>\n",
              "      <th>0</th>\n",
              "      <td>5.1</td>\n",
              "      <td>3.5</td>\n",
              "      <td>1.4</td>\n",
              "      <td>0.2</td>\n",
              "      <td>Iris-setosa</td>\n",
              "    </tr>\n",
              "    <tr>\n",
              "      <th>1</th>\n",
              "      <td>4.9</td>\n",
              "      <td>3.0</td>\n",
              "      <td>1.4</td>\n",
              "      <td>0.2</td>\n",
              "      <td>Iris-setosa</td>\n",
              "    </tr>\n",
              "    <tr>\n",
              "      <th>2</th>\n",
              "      <td>4.7</td>\n",
              "      <td>3.2</td>\n",
              "      <td>1.3</td>\n",
              "      <td>0.2</td>\n",
              "      <td>Iris-setosa</td>\n",
              "    </tr>\n",
              "    <tr>\n",
              "      <th>3</th>\n",
              "      <td>4.6</td>\n",
              "      <td>3.1</td>\n",
              "      <td>1.5</td>\n",
              "      <td>0.2</td>\n",
              "      <td>Iris-setosa</td>\n",
              "    </tr>\n",
              "    <tr>\n",
              "      <th>4</th>\n",
              "      <td>5.0</td>\n",
              "      <td>3.6</td>\n",
              "      <td>1.4</td>\n",
              "      <td>0.2</td>\n",
              "      <td>Iris-setosa</td>\n",
              "    </tr>\n",
              "    <tr>\n",
              "      <th>5</th>\n",
              "      <td>5.4</td>\n",
              "      <td>3.9</td>\n",
              "      <td>1.7</td>\n",
              "      <td>0.4</td>\n",
              "      <td>Iris-setosa</td>\n",
              "    </tr>\n",
              "    <tr>\n",
              "      <th>6</th>\n",
              "      <td>4.6</td>\n",
              "      <td>3.4</td>\n",
              "      <td>1.4</td>\n",
              "      <td>0.3</td>\n",
              "      <td>Iris-setosa</td>\n",
              "    </tr>\n",
              "    <tr>\n",
              "      <th>7</th>\n",
              "      <td>5.0</td>\n",
              "      <td>3.4</td>\n",
              "      <td>1.5</td>\n",
              "      <td>0.2</td>\n",
              "      <td>Iris-setosa</td>\n",
              "    </tr>\n",
              "    <tr>\n",
              "      <th>8</th>\n",
              "      <td>4.4</td>\n",
              "      <td>2.9</td>\n",
              "      <td>1.4</td>\n",
              "      <td>0.2</td>\n",
              "      <td>Iris-setosa</td>\n",
              "    </tr>\n",
              "    <tr>\n",
              "      <th>9</th>\n",
              "      <td>4.9</td>\n",
              "      <td>3.1</td>\n",
              "      <td>1.5</td>\n",
              "      <td>0.1</td>\n",
              "      <td>Iris-setosa</td>\n",
              "    </tr>\n",
              "  </tbody>\n",
              "</table>\n",
              "</div>"
            ],
            "text/plain": [
              "   sepal_length  sepal_width  petal_length  petal_width       target\n",
              "0           5.1          3.5           1.4          0.2  Iris-setosa\n",
              "1           4.9          3.0           1.4          0.2  Iris-setosa\n",
              "2           4.7          3.2           1.3          0.2  Iris-setosa\n",
              "3           4.6          3.1           1.5          0.2  Iris-setosa\n",
              "4           5.0          3.6           1.4          0.2  Iris-setosa\n",
              "5           5.4          3.9           1.7          0.4  Iris-setosa\n",
              "6           4.6          3.4           1.4          0.3  Iris-setosa\n",
              "7           5.0          3.4           1.5          0.2  Iris-setosa\n",
              "8           4.4          2.9           1.4          0.2  Iris-setosa\n",
              "9           4.9          3.1           1.5          0.1  Iris-setosa"
            ]
          },
          "metadata": {
            "tags": []
          },
          "execution_count": 10
        }
      ]
    },
    {
      "cell_type": "code",
      "metadata": {
        "id": "IRV7K0gNgb2r",
        "outputId": "ed1e9c72-61bf-4d93-c312-52598c2998ea",
        "colab": {
          "base_uri": "https://localhost:8080/",
          "height": 300
        }
      },
      "source": [
        "# Show numerical summary of the data, using DataFrame.describe()\n",
        "iris_df.describe()"
      ],
      "execution_count": null,
      "outputs": [
        {
          "output_type": "execute_result",
          "data": {
            "text/html": [
              "<div>\n",
              "<style scoped>\n",
              "    .dataframe tbody tr th:only-of-type {\n",
              "        vertical-align: middle;\n",
              "    }\n",
              "\n",
              "    .dataframe tbody tr th {\n",
              "        vertical-align: top;\n",
              "    }\n",
              "\n",
              "    .dataframe thead th {\n",
              "        text-align: right;\n",
              "    }\n",
              "</style>\n",
              "<table border=\"1\" class=\"dataframe\">\n",
              "  <thead>\n",
              "    <tr style=\"text-align: right;\">\n",
              "      <th></th>\n",
              "      <th>sepal_length</th>\n",
              "      <th>sepal_width</th>\n",
              "      <th>petal_length</th>\n",
              "      <th>petal_width</th>\n",
              "    </tr>\n",
              "  </thead>\n",
              "  <tbody>\n",
              "    <tr>\n",
              "      <th>count</th>\n",
              "      <td>150.000000</td>\n",
              "      <td>150.000000</td>\n",
              "      <td>150.000000</td>\n",
              "      <td>150.000000</td>\n",
              "    </tr>\n",
              "    <tr>\n",
              "      <th>mean</th>\n",
              "      <td>5.843333</td>\n",
              "      <td>3.054000</td>\n",
              "      <td>3.758667</td>\n",
              "      <td>1.198667</td>\n",
              "    </tr>\n",
              "    <tr>\n",
              "      <th>std</th>\n",
              "      <td>0.828066</td>\n",
              "      <td>0.433594</td>\n",
              "      <td>1.764420</td>\n",
              "      <td>0.763161</td>\n",
              "    </tr>\n",
              "    <tr>\n",
              "      <th>min</th>\n",
              "      <td>4.300000</td>\n",
              "      <td>2.000000</td>\n",
              "      <td>1.000000</td>\n",
              "      <td>0.100000</td>\n",
              "    </tr>\n",
              "    <tr>\n",
              "      <th>25%</th>\n",
              "      <td>5.100000</td>\n",
              "      <td>2.800000</td>\n",
              "      <td>1.600000</td>\n",
              "      <td>0.300000</td>\n",
              "    </tr>\n",
              "    <tr>\n",
              "      <th>50%</th>\n",
              "      <td>5.800000</td>\n",
              "      <td>3.000000</td>\n",
              "      <td>4.350000</td>\n",
              "      <td>1.300000</td>\n",
              "    </tr>\n",
              "    <tr>\n",
              "      <th>75%</th>\n",
              "      <td>6.400000</td>\n",
              "      <td>3.300000</td>\n",
              "      <td>5.100000</td>\n",
              "      <td>1.800000</td>\n",
              "    </tr>\n",
              "    <tr>\n",
              "      <th>max</th>\n",
              "      <td>7.900000</td>\n",
              "      <td>4.400000</td>\n",
              "      <td>6.900000</td>\n",
              "      <td>2.500000</td>\n",
              "    </tr>\n",
              "  </tbody>\n",
              "</table>\n",
              "</div>"
            ],
            "text/plain": [
              "       sepal_length  sepal_width  petal_length  petal_width\n",
              "count    150.000000   150.000000    150.000000   150.000000\n",
              "mean       5.843333     3.054000      3.758667     1.198667\n",
              "std        0.828066     0.433594      1.764420     0.763161\n",
              "min        4.300000     2.000000      1.000000     0.100000\n",
              "25%        5.100000     2.800000      1.600000     0.300000\n",
              "50%        5.800000     3.000000      4.350000     1.300000\n",
              "75%        6.400000     3.300000      5.100000     1.800000\n",
              "max        7.900000     4.400000      6.900000     2.500000"
            ]
          },
          "metadata": {
            "tags": []
          },
          "execution_count": 11
        }
      ]
    },
    {
      "cell_type": "code",
      "metadata": {
        "id": "vHa4zZNvg0jb",
        "outputId": "68e88571-8684-427b-d32f-ad1d564621bc",
        "colab": {
          "base_uri": "https://localhost:8080/",
          "height": 743
        }
      },
      "source": [
        "# Plot the data using seaborn's pairplot\n",
        "sns.pairplot(iris_df, hue=\"target\")"
      ],
      "execution_count": null,
      "outputs": [
        {
          "output_type": "execute_result",
          "data": {
            "text/plain": [
              "<seaborn.axisgrid.PairGrid at 0x7f1bd5edadd8>"
            ]
          },
          "metadata": {
            "tags": []
          },
          "execution_count": 12
        },
        {
          "output_type": "display_data",
          "data": {
            "image/png": "[encoded data removed]",
            "text/plain": [
              "<Figure size 823.25x720 with 20 Axes>"
            ]
          },
          "metadata": {
            "tags": []
          }
        }
      ]
    },
    {
      "cell_type": "markdown",
      "metadata": {
        "id": "2kDC5d82oaKo"
      },
      "source": [
        "The Iris data is in a so-called 'wide' format, in which each column corresponds to a variable and each row of the DataFrame corresponds to one observation. Turn it into a 'long' format in which each row is a measurement. \n",
        "\n",
        "Specifically, change the data layout of the IRIS dataFrame so that it has 3 columns:\n",
        "- variable (one of sepal_length, sepal_width, petal_length, petal_width)\n",
        "- value\n",
        "- target\n",
        "\n",
        "If you would like to learn more, [Tidy Data](https://www.jstatsoft.org/index.php/jss/article/view/v059i10/v59i10.pdf) by [Hadley Wickham](http://hadley.nz/) provides a very nice explanation of best practices for data formating.\n",
        "\n",
        "Hint: look at reshaping functions in [Pandas Cheat Sheet](https://github.com/pandas-dev/pandas/blob/master/doc/cheatsheet/Pandas_Cheat_Sheet.pdf)"
      ]
    },
    {
      "cell_type": "code",
      "metadata": {
        "id": "_VsSfAmwrNGu",
        "outputId": "122ed677-c091-4cd3-fe49-621abdcf2f42",
        "colab": {
          "base_uri": "https://localhost:8080/",
          "height": 363
        }
      },
      "source": [
        "iris_df_long = pd.melt(iris_df, id_vars=['target'])\n",
        "iris_df_long.head(10)"
      ],
      "execution_count": null,
      "outputs": [
        {
          "output_type": "execute_result",
          "data": {
            "text/html": [
              "<div>\n",
              "<style scoped>\n",
              "    .dataframe tbody tr th:only-of-type {\n",
              "        vertical-align: middle;\n",
              "    }\n",
              "\n",
              "    .dataframe tbody tr th {\n",
              "        vertical-align: top;\n",
              "    }\n",
              "\n",
              "    .dataframe thead th {\n",
              "        text-align: right;\n",
              "    }\n",
              "</style>\n",
              "<table border=\"1\" class=\"dataframe\">\n",
              "  <thead>\n",
              "    <tr style=\"text-align: right;\">\n",
              "      <th></th>\n",
              "      <th>target</th>\n",
              "      <th>variable</th>\n",
              "      <th>value</th>\n",
              "    </tr>\n",
              "  </thead>\n",
              "  <tbody>\n",
              "    <tr>\n",
              "      <th>0</th>\n",
              "      <td>Iris-setosa</td>\n",
              "      <td>sepal_length</td>\n",
              "      <td>5.1</td>\n",
              "    </tr>\n",
              "    <tr>\n",
              "      <th>1</th>\n",
              "      <td>Iris-setosa</td>\n",
              "      <td>sepal_length</td>\n",
              "      <td>4.9</td>\n",
              "    </tr>\n",
              "    <tr>\n",
              "      <th>2</th>\n",
              "      <td>Iris-setosa</td>\n",
              "      <td>sepal_length</td>\n",
              "      <td>4.7</td>\n",
              "    </tr>\n",
              "    <tr>\n",
              "      <th>3</th>\n",
              "      <td>Iris-setosa</td>\n",
              "      <td>sepal_length</td>\n",
              "      <td>4.6</td>\n",
              "    </tr>\n",
              "    <tr>\n",
              "      <th>4</th>\n",
              "      <td>Iris-setosa</td>\n",
              "      <td>sepal_length</td>\n",
              "      <td>5.0</td>\n",
              "    </tr>\n",
              "    <tr>\n",
              "      <th>5</th>\n",
              "      <td>Iris-setosa</td>\n",
              "      <td>sepal_length</td>\n",
              "      <td>5.4</td>\n",
              "    </tr>\n",
              "    <tr>\n",
              "      <th>6</th>\n",
              "      <td>Iris-setosa</td>\n",
              "      <td>sepal_length</td>\n",
              "      <td>4.6</td>\n",
              "    </tr>\n",
              "    <tr>\n",
              "      <th>7</th>\n",
              "      <td>Iris-setosa</td>\n",
              "      <td>sepal_length</td>\n",
              "      <td>5.0</td>\n",
              "    </tr>\n",
              "    <tr>\n",
              "      <th>8</th>\n",
              "      <td>Iris-setosa</td>\n",
              "      <td>sepal_length</td>\n",
              "      <td>4.4</td>\n",
              "    </tr>\n",
              "    <tr>\n",
              "      <th>9</th>\n",
              "      <td>Iris-setosa</td>\n",
              "      <td>sepal_length</td>\n",
              "      <td>4.9</td>\n",
              "    </tr>\n",
              "  </tbody>\n",
              "</table>\n",
              "</div>"
            ],
            "text/plain": [
              "        target      variable  value\n",
              "0  Iris-setosa  sepal_length    5.1\n",
              "1  Iris-setosa  sepal_length    4.9\n",
              "2  Iris-setosa  sepal_length    4.7\n",
              "3  Iris-setosa  sepal_length    4.6\n",
              "4  Iris-setosa  sepal_length    5.0\n",
              "5  Iris-setosa  sepal_length    5.4\n",
              "6  Iris-setosa  sepal_length    4.6\n",
              "7  Iris-setosa  sepal_length    5.0\n",
              "8  Iris-setosa  sepal_length    4.4\n",
              "9  Iris-setosa  sepal_length    4.9"
            ]
          },
          "metadata": {
            "tags": []
          },
          "execution_count": 48
        }
      ]
    },
    {
      "cell_type": "markdown",
      "metadata": {
        "id": "28A-QiuosBw8"
      },
      "source": [
        "Now create a box-plot of values that each variable takes, split by the target species."
      ]
    },
    {
      "cell_type": "code",
      "metadata": {
        "id": "51HhmH0msNdM",
        "outputId": "2d6e6968-7028-4747-e8dc-95bf85dcbb37",
        "colab": {
          "base_uri": "https://localhost:8080/",
          "height": 1000
        }
      },
      "source": [
        "sns.set_theme(style=\"ticks\")\n",
        "# Hint: use a `catplot`\n",
        "sns.catplot(x=\"target\", y=\"sepal_length\", kind=\"box\", data=iris_df)\n",
        "\n",
        "# TODO: create two more plots, using a boxenplot and a swarmplot.\n",
        "sns.catplot(x=\"target\", y=\"sepal_length\", kind=\"boxen\", data=iris_df)\n",
        "sns.catplot(x=\"target\", y=\"sepal_length\", kind=\"swarm\", data=iris_df)"
      ],
      "execution_count": null,
      "outputs": [
        {
          "output_type": "execute_result",
          "data": {
            "text/plain": [
              "<seaborn.axisgrid.FacetGrid at 0x7f1c00189d68>"
            ]
          },
          "metadata": {
            "tags": []
          },
          "execution_count": 14
        },
        {
          "output_type": "display_data",
          "data": {
            "image/png": "[encoded data removed]",
            "text/plain": [
              "<Figure size 360x360 with 1 Axes>"
            ]
          },
          "metadata": {
            "tags": []
          }
        },
        {
          "output_type": "display_data",
          "data": {
            "image/png": "[encoded data removed]",
            "text/plain": [
              "<Figure size 360x360 with 1 Axes>"
            ]
          },
          "metadata": {
            "tags": []
          }
        },
        {
          "output_type": "display_data",
          "data": {
            "image/png": "[encoded data removed]",
            "text/plain": [
              "<Figure size 360x360 with 1 Axes>"
            ]
          },
          "metadata": {
            "tags": []
          }
        }
      ]
    },
    {
      "cell_type": "markdown",
      "metadata": {
        "id": "Es80_WJM33_n"
      },
      "source": [
        "### k-Nearest Neighbors\n",
        "\n",
        "We will use the loaded Iris data describing iris flowers\n",
        "and shows relations between their length and petal width for three\n",
        "species (namely: setosa, versicolor, virginica).\n",
        "\n",
        "For this exercise we will restrict our analysis to just two variables: **petal length** and **petal width**."
      ]
    },
    {
      "cell_type": "code",
      "metadata": {
        "id": "e9dHQGslwvuc",
        "outputId": "1c510f6d-fee7-4795-da39-ffff90757a26",
        "colab": {
          "base_uri": "https://localhost:8080/",
          "height": 302
        }
      },
      "source": [
        "unknown_df = pd.DataFrame(\n",
        "    [[1.5, 0.3, 'unknown'],\n",
        "     [4.5, 1.2, 'unknown'],\n",
        "     [5.1, 1.7, 'unknown'],\n",
        "     [5.5, 2.3, 'unknown']],\n",
        "     columns=['petal_length', 'petal_width', 'target'])\n",
        "\n",
        "sns.scatterplot(x='petal_length', y='petal_width', hue='target', data=iris_df)\n",
        "sns.scatterplot(x='petal_length', y='petal_width', color='gray', marker='v',\n",
        "                label='unknown', s=70, data=unknown_df)"
      ],
      "execution_count": null,
      "outputs": [
        {
          "output_type": "execute_result",
          "data": {
            "text/plain": [
              "<matplotlib.axes._subplots.AxesSubplot at 0x7f1bcff61dd8>"
            ]
          },
          "metadata": {
            "tags": []
          },
          "execution_count": 15
        },
        {
          "output_type": "display_data",
          "data": {
            "image/png": "[encoded data removed]",
            "text/plain": [
              "<Figure size 432x288 with 1 Axes>"
            ]
          },
          "metadata": {
            "tags": []
          }
        }
      ]
    },
    {
      "cell_type": "markdown",
      "metadata": {
        "id": "s2khewKZ33_w"
      },
      "source": [
        "Based on these two features, it is easy to distinguish iris setosa from the two remaining species. Yet iris versicolor and virginica remain mixed together. \n",
        "\n",
        "Looking closely at the plot, we might estimate the species of the selected unknown irises (gray triangles). For three of them the answer seems obvious – they belong in uniformly-colored areas covered by one species only. Yet unknown iris flower in (5.1, 1.7) is troublesome – it lays on the boundary of versicolor and virginica clusters. We can assume, that its species is the one of the closest one to it, coming from the training set (and so having a label). \n",
        "\n",
        "K-Nearest Neighbors method (http://en.wikipedia.org/wiki/K-nearest_neighbors_algorithm) solves the classification problem, i.e. sets class labels (species in case of irises) of a previously unseen sample by choosing the most common class among the top k neighbors of the sample in question (for instance according to the Euclidean distance). Thus, the k-Nearest Neighbors algorithm works as follows. For each unlabeled sample x:\n",
        "1. Find k nearest neighbors among the labeled samples.\n",
        "2. Set the most common label among them as label of x."
      ]
    },
    {
      "cell_type": "markdown",
      "metadata": {
        "id": "dpyfaeVg72jo"
      },
      "source": [
        "#### Problem 3 [3p]"
      ]
    },
    {
      "cell_type": "markdown",
      "metadata": {
        "id": "F6sG0bxf33_y"
      },
      "source": [
        "##### Implement the k-Nearest Neighbors algorithm [1p].\n",
        "\n",
        "Take advantage of matrix calculus rather than using for loops.\n",
        "\n",
        "**Tip:** What is computed by \\begin{equation} \\sqrt{(X - Y)^T (X - Y)} \\end{equation} when both X and Y are vectors?\n",
        "\n",
        "**Tip:** Try to use broadcasting (NumPy: http://docs.scipy.org/doc/numpy/user/basics.broadcasting.html) and built-ins sort, numpy.sort, numpy.argsort (sorting), scipy.stats.mode (choosing the most common element of the set)."
      ]
    },
    {
      "cell_type": "code",
      "metadata": {
        "id": "hKhbqAUTz5yy"
      },
      "source": [
        "from scipy import stats\n",
        "\n",
        "def KNN(train_X, train_Y, test_X, ks, verbose=False):\n",
        "    \"\"\"\n",
        "    Compute predictions for various k\n",
        "    Args:\n",
        "        train_X: array of shape Ntrain x D\n",
        "        train_Y: array of shape Ntrain\n",
        "        test_X: array of shape Ntest x D\n",
        "        ks: list of integers\n",
        "    Returns:\n",
        "        preds: dict k: predictions for k\n",
        "    \"\"\"\n",
        "    # Cats data to float32\n",
        "    train_X = train_X.astype(np.float32)\n",
        "    test_X = test_X.astype(np.float32)\n",
        "\n",
        "    # Alloc space for results\n",
        "    preds = {}\n",
        "\n",
        "    if verbose:\n",
        "        print(\"Computing distances... \", end='')\n",
        "    #\n",
        "    # TODO: fill in an efficient distance matrix computation\n",
        "    # https://medium.com/@souravdey/l2-distance-matrix-vectorization-trick-26aa3247ac6c   \n",
        "    dists = -2 * np.dot(train_X, test_X.T) + np.sum(test_X**2, axis=1) + np.sum(train_X**2, axis=1)[:, np.newaxis]\n",
        "\n",
        "    if verbose:\n",
        "        print(\"Sorting... \", end='')\n",
        "    \n",
        "    # TODO: findes closest trainig points\n",
        "    # Hint: use argsort\n",
        "    closest = np.argsort(dists, axis=0)\n",
        "\n",
        "    if verbose:\n",
        "        print(\"Computing predictions...\", end='')\n",
        "    \n",
        "    targets = train_Y[closest]\n",
        "\n",
        "    for k in ks:\n",
        "        predictions = stats.mode(targets[:k])[0]\n",
        "        predictions = predictions.ravel()\n",
        "        preds[k] = predictions\n",
        "    if verbose:\n",
        "        print(\"Done\")\n",
        "    return preds"
      ],
      "execution_count": null,
      "outputs": []
    },
    {
      "cell_type": "code",
      "metadata": {
        "id": "RSiSLLke2K1r",
        "outputId": "0035034b-44fc-4ed1-a3e7-2e682ad21d55",
        "colab": {
          "base_uri": "https://localhost:8080/",
          "height": 156
        }
      },
      "source": [
        "# Now classify the 4 unknown points\n",
        "iris_x = np.array(iris_df[['petal_length', 'petal_width']])\n",
        "iris_y = np.array(iris_df['target'])\n",
        "\n",
        "unknown_x = np.array(unknown_df[['petal_length', 'petal_width']])\n",
        "\n",
        "KNN(iris_x, iris_y, unknown_x, [1, 3, 5, 7])"
      ],
      "execution_count": null,
      "outputs": [
        {
          "output_type": "execute_result",
          "data": {
            "text/plain": [
              "{1: array(['Iris-setosa', 'Iris-versicolor', 'Iris-versicolor',\n",
              "        'Iris-virginica'], dtype=object),\n",
              " 3: array(['Iris-setosa', 'Iris-versicolor', 'Iris-versicolor',\n",
              "        'Iris-virginica'], dtype=object),\n",
              " 5: array(['Iris-setosa', 'Iris-versicolor', 'Iris-virginica',\n",
              "        'Iris-virginica'], dtype=object),\n",
              " 7: array(['Iris-setosa', 'Iris-versicolor', 'Iris-virginica',\n",
              "        'Iris-virginica'], dtype=object)}"
            ]
          },
          "metadata": {
            "tags": []
          },
          "execution_count": 17
        }
      ]
    },
    {
      "cell_type": "markdown",
      "metadata": {
        "id": "wZ3Ef8Np7ZU8"
      },
      "source": [
        "##### Plot the Decision boundary [1p]\n",
        "\n",
        "\n",
        "Use meshgrid to generate the points in the space spanned by data.\n",
        "Then map the classes to numbers 0, 1, 2 and make a contour plot with the\n",
        "decision boundary."
      ]
    },
    {
      "cell_type": "code",
      "metadata": {
        "id": "w3aeNd0E3r8w",
        "outputId": "8c2089ed-3543-414d-dc5f-622ead99162c",
        "colab": {
          "base_uri": "https://localhost:8080/",
          "height": 1000
        }
      },
      "source": [
        "iris_x = np.array(iris_df[['petal_length', 'petal_width']])\n",
        "iris_y = np.array(iris_df['target'])\n",
        "\n",
        "space_x = np.linspace(0, 7, 150)\n",
        "space_y = np.linspace(0, 2.5, 150)\n",
        "\n",
        "mesh_x, mesh_y = np.meshgrid(space_x, space_y)\n",
        "\n",
        "#use np.unique with suitable options to map the class names to numbers\n",
        "target_names, iris_y_ids = np.unique(iris_y, return_inverse=True)\n",
        "\n",
        "mesh_data = np.hstack([mesh_x.reshape(-1, 1), mesh_y.reshape(-1, 1)])\n",
        "\n",
        "preds = KNN(iris_x, iris_y_ids, mesh_data, [1, 3, 5, 7])\n",
        "for k, preds_k in preds.items():\n",
        "    plt.figure()\n",
        "    plt.title(f\"Decision boundary for k={k}\")\n",
        "    plt.contourf(mesh_x, mesh_y, preds_k.reshape(150, 150), levels=2, cmap='Pastel1')\n",
        "    plt.scatter(iris_x[:, 0], iris_x[:, 1], c=iris_y_ids, s=4, cmap='Dark2_r')\n"
      ],
      "execution_count": null,
      "outputs": [
        {
          "output_type": "display_data",
          "data": {
            "image/png": "[encoded data removed]",
            "text/plain": [
              "<Figure size 432x288 with 1 Axes>"
            ]
          },
          "metadata": {
            "tags": []
          }
        },
        {
          "output_type": "display_data",
          "data": {
            "image/png": "[encoded data removed]",
            "text/plain": [
              "<Figure size 432x288 with 1 Axes>"
            ]
          },
          "metadata": {
            "tags": []
          }
        },
        {
          "output_type": "display_data",
          "data": {
            "image/png": "[encoded data removed]",
            "text/plain": [
              "<Figure size 432x288 with 1 Axes>"
            ]
          },
          "metadata": {
            "tags": []
          }
        },
        {
          "output_type": "display_data",
          "data": {
            "image/png": "[encoded data removed]",
            "text/plain": [
              "<Figure size 432x288 with 1 Axes>"
            ]
          },
          "metadata": {
            "tags": []
          }
        }
      ]
    },
    {
      "cell_type": "markdown",
      "metadata": {
        "id": "1iZtHs5A33_z"
      },
      "source": [
        "##### Estimate performance for various ks [1p]\n",
        "Consider the following experiment (bootsrap error estimation):\n",
        "1. We sample **with replacement** a dataset equal in size to the amount of data we have (i.e. for Iris, we pick 150 examples). This forms a trainign set. Since we have sampled with replacement, some samples were picked multiple times, and some were left out. Form a test set from the remaining ones.\n",
        "2. Based on the training set, we use the k-NN algorithm to predict the labels on the test set.\n",
        "3. We then check the number of errors and write it down.\n",
        "\n",
        "Do this 500 times for k ∈ {1, 3, 5, ..., 19}. Plot a function of the average number of errors as the function of k. It should be similar to one of the plots below."
      ]
    },
    {
      "cell_type": "code",
      "metadata": {
        "id": "24FeneG8A4Hi"
      },
      "source": [
        "#TODO: write a function to compute error rates\n",
        "def err_rates(preds, test_Y):\n",
        "    ret = {}\n",
        "    for k, preds_k in  preds.items():\n",
        "        # TODO: fill in error count computation\n",
        "        ret[k] = np.sum(preds_k != test_Y) / test_Y.shape[0]\n",
        "    return ret"
      ],
      "execution_count": null,
      "outputs": []
    },
    {
      "cell_type": "code",
      "metadata": {
        "id": "7U4ejQYy1BRT",
        "outputId": "1a034cd0-f99f-4996-f5cc-55c3d3627484",
        "colab": {
          "base_uri": "https://localhost:8080/",
          "height": 352,
          "referenced_widgets": [
            "4fb2758d651343ffa869e1dbd1c6577f",
            "ccf07e0c800d4ec093dea3cff1b8995a",
            "4393dd2409234bb5a2997e1af5e4d24c",
            "b64a5ec6504647f28dbd56d6effe493a",
            "b6b5f217b5704baf93b19a0774b667ca",
            "8f7c739d3e2d4b0c95a6dc096ebe9333",
            "7835bf2551774923adc8619225adebb5",
            "d5b5a0e79efa41d3a862a8aa36a0d461"
          ]
        }
      },
      "source": [
        "iris_x = np.array(iris_df[['sepal_length', 'sepal_width', 'petal_length', 'petal_width']])\n",
        "iris_y = np.array(iris_df['target'])\n",
        "\n",
        "ks = range(1, 30, 2)\n",
        "results = []\n",
        "\n",
        "for _rep in tqdm(range(500)):\n",
        "    #TODO\n",
        "    # Use np.random.randint to get training indices\n",
        "    # The find all unselected indices to form a test set \n",
        "    train_idx = np.random.randint(150, size=150)\n",
        "    test_idx = np.setdiff1d(np.arange(150), train_idx)\n",
        "\n",
        "    #TODO: apply your kNN classifier to data subset\n",
        "    preds = KNN(iris_x[train_idx], iris_y[train_idx], iris_x[test_idx], ks)\n",
        "    errs = err_rates(preds, iris_y[test_idx])\n",
        "    \n",
        "    for k, errs_k in errs.items():\n",
        "        results.append({'K':k, 'err_rate': errs_k})\n",
        "\n",
        "# results_df will be a data_frame in long format\n",
        "results_df = pd.DataFrame(results)\n",
        "\n",
        "plt.figure()\n",
        "sns.regplot(x='K', y='err_rate', data=results_df, order=2, x_estimator=np.mean)\n"
      ],
      "execution_count": null,
      "outputs": [
        {
          "output_type": "display_data",
          "data": {
            "application/vnd.jupyter.widget-view+json": {
              "model_id": "4fb2758d651343ffa869e1dbd1c6577f",
              "version_minor": 0,
              "version_major": 2
            },
            "text/plain": [
              "HBox(children=(FloatProgress(value=0.0, max=500.0), HTML(value='')))"
            ]
          },
          "metadata": {
            "tags": []
          }
        },
        {
          "output_type": "stream",
          "text": [
            "\n"
          ],
          "name": "stdout"
        },
        {
          "output_type": "execute_result",
          "data": {
            "text/plain": [
              "<matplotlib.axes._subplots.AxesSubplot at 0x7f1bcfb11518>"
            ]
          },
          "metadata": {
            "tags": []
          },
          "execution_count": 20
        },
        {
          "output_type": "display_data",
          "data": {
            "image/png": "[encoded data removed]",
            "text/plain": [
              "<Figure size 432x288 with 1 Axes>"
            ]
          },
          "metadata": {
            "tags": []
          }
        }
      ]
    },
    {
      "cell_type": "markdown",
      "metadata": {
        "id": "ozuWZxLXXxqa"
      },
      "source": [
        "#### Problem 4 [2p]"
      ]
    },
    {
      "cell_type": "markdown",
      "metadata": {
        "id": "f7C17WB7aEIo"
      },
      "source": [
        "Implement the k-NN algorithm with a leave-one-out error estimation (Note: it can be done very efficiently).\n",
        "\n",
        "Then perform two experiments:\n",
        "1. plot the leave-one-out error rate as a function of $K$\n",
        "2. choose K=15, plot the leave-one-out error rate as a function of training dataset size. For best results, repeath the experiment 100 times with different permutations of the dataset."
      ]
    },
    {
      "cell_type": "code",
      "metadata": {
        "id": "uhx4UjY4X3Sz"
      },
      "source": [
        "def err_rates(preds, test_Y, returns):\n",
        "    for k, preds_k in preds.items():\n",
        "        if preds_k != test_Y:\n",
        "            returns[k] += 1\n",
        "    return returns"
      ],
      "execution_count": null,
      "outputs": []
    },
    {
      "cell_type": "code",
      "metadata": {
        "id": "uhRGLfUmX4Op",
        "outputId": "2edda30f-928b-4fe7-f287-c205e779202e",
        "colab": {
          "base_uri": "https://localhost:8080/",
          "height": 352,
          "referenced_widgets": [
            "7cff80b64876479b84613598f5351b76",
            "6731050b6a8444b7a91ac47a1c4bad64",
            "7c31acedb0604bddb4c9e41be2c36918",
            "552543405a6740aab073e99410290b99",
            "affc9f0b664743b792629d0bbb5de4e1",
            "2a901c3a2dab4be7a241785daedf77a1",
            "6822ebe10f6b457eaaa2c91d3654f19b",
            "4e4b539833704bf5afe8b1ba761c8c6b"
          ]
        }
      },
      "source": [
        "iris_x = np.array(iris_df[['sepal_length', 'sepal_width', 'petal_length', 'petal_width']])\n",
        "iris_y = np.array(iris_df['target'])\n",
        "\n",
        "ks = range(1, 30, 2)\n",
        "returns = {}\n",
        "for k in ks:\n",
        "    returns[k] = 0\n",
        "\n",
        "for i in tqdm(range(iris_x.shape[0])):\n",
        "    all = np.arange(150)\n",
        "    train_idx = all != i\n",
        "    test_idx = [i]\n",
        "\n",
        "    preds = KNN(iris_x[train_idx], iris_y[train_idx], iris_x[test_idx], ks)\n",
        "    returns = err_rates(preds, iris_y[test_idx], returns)\n",
        "    \n",
        "for k in ks:\n",
        "    returns[k] /= iris_y.shape[0]\n",
        "\n",
        "results = []\n",
        "for k, errs_k in returns.items():\n",
        "    results.append({'K':k, 'err_rate': errs_k})\n",
        "\n",
        "results_df = pd.DataFrame(results)\n",
        "\n",
        "plt.figure()\n",
        "sns.regplot(x='K', y='err_rate', data=results_df, order=2, x_estimator=np.mean)"
      ],
      "execution_count": null,
      "outputs": [
        {
          "output_type": "display_data",
          "data": {
            "application/vnd.jupyter.widget-view+json": {
              "model_id": "7cff80b64876479b84613598f5351b76",
              "version_minor": 0,
              "version_major": 2
            },
            "text/plain": [
              "HBox(children=(FloatProgress(value=0.0, max=150.0), HTML(value='')))"
            ]
          },
          "metadata": {
            "tags": []
          }
        },
        {
          "output_type": "stream",
          "text": [
            "\n"
          ],
          "name": "stdout"
        },
        {
          "output_type": "execute_result",
          "data": {
            "text/plain": [
              "<matplotlib.axes._subplots.AxesSubplot at 0x7f1bcfff0b38>"
            ]
          },
          "metadata": {
            "tags": []
          },
          "execution_count": 34
        },
        {
          "output_type": "display_data",
          "data": {
            "image/png": "[encoded data removed]",
            "text/plain": [
              "<Figure size 432x288 with 1 Axes>"
            ]
          },
          "metadata": {
            "tags": []
          }
        }
      ]
    },
    {
      "cell_type": "code",
      "metadata": {
        "id": "XYGjasc_Y4Ac",
        "outputId": "f7e16001-0999-4371-f3fa-32c1d81df427",
        "colab": {
          "base_uri": "https://localhost:8080/",
          "height": 633,
          "referenced_widgets": [
            "271a323602e94dae92c5c0ad2bc66fad",
            "dfb101a1cf7642a4b09bb394085cc44e",
            "337a52ef0d9e46bea48340f510a38268",
            "57128e2cfb3d447abb40d27aee959139",
            "b8f4c8b73157474abf5b04fcd9f3629b",
            "61c7647634dc4132a7c91d3ad5cbe48f",
            "63929d1d4e41469393f713c7cfb0e4e1",
            "f085a2642f1e423ba62ad873b9d36a04"
          ]
        }
      },
      "source": [
        "def err_rates(preds, test_Y):\n",
        "    count = 0\n",
        "    for k, preds_k in preds.items():\n",
        "        if preds_k != test_Y:\n",
        "            count += 1\n",
        "    return count\n",
        "\n",
        "iris_x = np.array(iris_df[['sepal_length', 'sepal_width', 'petal_length', 'petal_width']])\n",
        "iris_y = np.array(iris_df['target'])\n",
        "N = 100\n",
        "ks = [15]\n",
        "returns = {}\n",
        "for i in range(10, iris_x.shape[0] + 10, 10):\n",
        "    returns[i] = 0\n",
        "\n",
        "for i in tqdm(range(N)):\n",
        "    for j in range(10, iris_x.shape[0] + 10, 10):\n",
        "        random_indexes = np.random.randint(iris_x.shape[0], size=j)\n",
        "        j_iris_x = iris_x[random_indexes]\n",
        "        j_iris_y = iris_y[random_indexes]\n",
        "\n",
        "        for k in range(j):\n",
        "            all = np.arange(j)\n",
        "            train_idx = all != k\n",
        "            test_idx = [k]\n",
        "            preds = KNN(j_iris_x[train_idx], j_iris_y[train_idx], j_iris_x[test_idx], ks)\n",
        "            returns[j] += err_rates(preds, j_iris_y[test_idx]) / j / N\n",
        "\n",
        "results = []\n",
        "for data_size, errs_k in returns.items():\n",
        "    results.append({'data_size': data_size, 'err_rate': errs_k})\n",
        "\n",
        "results_df = pd.DataFrame(results)\n",
        "print(results_df)\n",
        "plt.figure()\n",
        "sns.regplot(x='data_size', y='err_rate', data=results_df, order=2, x_estimator=np.mean)\n"
      ],
      "execution_count": null,
      "outputs": [
        {
          "output_type": "display_data",
          "data": {
            "application/vnd.jupyter.widget-view+json": {
              "model_id": "271a323602e94dae92c5c0ad2bc66fad",
              "version_minor": 0,
              "version_major": 2
            },
            "text/plain": [
              "HBox(children=(FloatProgress(value=0.0), HTML(value='')))"
            ]
          },
          "metadata": {
            "tags": []
          }
        },
        {
          "output_type": "stream",
          "text": [
            "\n",
            "    data_size  err_rate\n",
            "0          10  0.665000\n",
            "1          20  0.473000\n",
            "2          30  0.239667\n",
            "3          40  0.119750\n",
            "4          50  0.076400\n",
            "5          60  0.060333\n",
            "6          70  0.057857\n",
            "7          80  0.053625\n",
            "8          90  0.045333\n",
            "9         100  0.043100\n",
            "10        110  0.038000\n",
            "11        120  0.038083\n",
            "12        130  0.039231\n",
            "13        140  0.033214\n",
            "14        150  0.030733\n"
          ],
          "name": "stdout"
        },
        {
          "output_type": "execute_result",
          "data": {
            "text/plain": [
              "<matplotlib.axes._subplots.AxesSubplot at 0x7f1bd18c5358>"
            ]
          },
          "metadata": {
            "tags": []
          },
          "execution_count": 31
        },
        {
          "output_type": "display_data",
          "data": {
            "image/png": "[encoded data removed]",
            "text/plain": [
              "<Figure size 432x288 with 1 Axes>"
            ]
          },
          "metadata": {
            "tags": []
          }
        }
      ]
    },
    {
      "cell_type": "markdown",
      "metadata": {
        "id": "A86GnZpa33_0"
      },
      "source": [
        "#### Problem 5 [2p] \n",
        "\n",
        "Apply the K-Nearest Neighbors (K-NN) algorithm to the MNIST dataset. \n",
        "\n",
        "The MNIST (http://yann.lecun.com/exdb/mnist/) dataset consists of normalized (centered and stretched) scans of hand-written digits. Specifically, each element of the dataset is a 28 × 28 grayscale image, thus having 764 8-bit pixels. \n",
        "\n",
        "1. Display a few objects from each of the classes, paying attention to aesthetics and clarity of your presentation. **Note:** You already downloaded the dataset in \"Setup\" section. Please use the code below to get started.\n",
        "\n",
        "2. **[2p]** Apply a k-NN classifier to the MNIST dataset. First, divide the training set into two parts, which we will call training and validation. On MNIST use the first 50000 samples for training and the last 10000 for validation. Then find the optimal number of neighbors by assessing the accuracy on the validation set. You do not need to repeat this experiment multiple times. Finally, compute the accuracy on the test set obtained with the best previously chosen number of neighbors. On MNIST you should get about 3% errors. Pick a few mislabeled samples from the test dataset and plot them along with the correct ones. **Note:**\n",
        "  * MNIST is much larger than the Iris dataset. A good implementation may need a few minutes depending on your runtime type. Please optimize your algorithm:\n",
        "  * Compute the distances only once, then test for different values of k.\n",
        "  * Use vectorized expressions to compute the distance. It is possible to compute all distances between the training and testing points in one expression. Hint: think about the vectorized expression \\begin{equation}(X - Y)^T (X - Y)\\end{equation}\n",
        "  * You can use single precision numbers in computation.\n",
        "  * If your code is taking a long time to execute, please save its results before the lab session.\n",
        "\n",
        "**Note:** in NumPy, matrices have its own data type (dtype), which is retained during\n",
        "calculations. Please pay attention to it. I particular, do not subtract values of data types not\n",
        "having the sign bit, do not divide integers, etc. Results of such operations will not be\n",
        "automatically casted to types having the required precision."
      ]
    },
    {
      "cell_type": "code",
      "metadata": {
        "id": "3AvAeiDN33_1"
      },
      "source": [
        "with np.load('mnist.npz') as data:\n",
        "    mnist_full_train_data_uint8 = data['train_data']\n",
        "    mnist_full_train_labels_int64 = data['train_labels']\n",
        "    mnist_test_data_uint8 = data['test_data']\n",
        "    mnist_test_labels_int64 = data['test_labels']\n",
        "\n",
        "# Split train data into train and validation sets\n",
        "mnist_train_data_uint8 = mnist_full_train_data_uint8[:50000]\n",
        "mnist_train_labels_int64 = mnist_full_train_labels_int64[:50000]\n",
        "mnist_valid_data_uint8 = mnist_full_train_data_uint8[50000:]\n",
        "mnist_valid_labels_int64 = mnist_full_train_labels_int64[50000:]"
      ],
      "execution_count": null,
      "outputs": []
    },
    {
      "cell_type": "code",
      "metadata": {
        "id": "aenFc3L633_4",
        "outputId": "ce26cc0a-13ca-4768-85c2-fa0034beb69c",
        "colab": {
          "base_uri": "https://localhost:8080/",
          "height": 248
        }
      },
      "source": [
        "plot_mat(mnist_train_data_uint8[:20, None], cmap='gray')"
      ],
      "execution_count": null,
      "outputs": [
        {
          "output_type": "display_data",
          "data": {
            "image/png": "[encoded data removed]",
            "text/plain": [
              "<Figure size 432x288 with 1 Axes>"
            ]
          },
          "metadata": {
            "tags": []
          }
        }
      ]
    },
    {
      "cell_type": "code",
      "metadata": {
        "id": "ZK46uiW4-Yox"
      },
      "source": [
        "# MNIST is large.\n",
        "# Implement a batched KNN classifier, which processes the test data in small batches\n",
        "# and returns the error rates\n",
        "\n",
        "# The code should not run for more than a couple of minutes on the Colab runtime, \n",
        "# If it is slower, optimize the distance computation in KNN\n",
        "\n",
        "def batched_KNN(train_X, train_Y, test_X, ks, verbose=False, batch_size=200):\n",
        "    all_preds = {k: [] for k in ks}\n",
        "    for i in tqdm(range(0, test_X.shape[0], batch_size)):\n",
        "        batch_X = test_X[i:i + batch_size]\n",
        "        if verbose:\n",
        "            print(f\"Processing batch {i}:{i + batch_X.shape[0]}... \")\n",
        "\n",
        "        # TODO: run KNN on the batch and save the predictions\n",
        "        for k in all_preds.keys():\n",
        "            preds = KNN(train_X, train_Y, batch_X, ks)\n",
        "            # TODO: combine predictions from batches\n",
        "            all_preds[k] = np.concatenate((all_preds[k], preds[k]))\n",
        "    return all_preds"
      ],
      "execution_count": null,
      "outputs": []
    },
    {
      "cell_type": "code",
      "metadata": {
        "id": "OZB49qMMCP9i",
        "outputId": "9dc9d08d-1689-4cb1-e581-89f0daa252d5",
        "colab": {
          "base_uri": "https://localhost:8080/",
          "height": 335,
          "referenced_widgets": [
            "02f47b877f6f4d99a4d43300d5db7c7f",
            "bd65c95df090433eb5f16c0ddc004c15",
            "f1bcaa6a56c846b1aed754044b1586ff",
            "9c9fd89e4fea427ca69efb971d647f02",
            "0e3be32bd99c4d4d99ba07e5a5de38e5",
            "382a504708ef4f96b46d4b409f8bb422",
            "4175d18dd1c3481b8da869bf4ee78a76",
            "fd14b24b8cce47e8bb2aaffd2ac6ebe8"
          ]
        }
      },
      "source": [
        "# Now find the best k on the validation set\n",
        "def err_rates(preds, test_Y):\n",
        "    ret = {}\n",
        "    for k, preds_k in preds.items():\n",
        "        # TODO: fill in error count computation\n",
        "        assert(len(test_Y) == len(preds_k))\n",
        "        ret[k] = np.sum(preds_k != test_Y) / test_Y.shape[0]\n",
        "    return ret\n",
        "\n",
        "ks = [1, 3, 5, 7, 9]\n",
        "mnist_validation_preds = batched_KNN(\n",
        "    mnist_train_data_uint8.astype('float32').reshape(-1, 28*28), mnist_train_labels_int64,\n",
        "    mnist_valid_data_uint8.astype('float32').reshape(-1, 28*28),\n",
        "    ks)\n",
        "\n",
        "mnist_validation_errs = err_rates(mnist_validation_preds, mnist_valid_labels_int64)\n",
        "plt.plot(ks, [mnist_validation_errs[k] for k in ks])"
      ],
      "execution_count": null,
      "outputs": [
        {
          "output_type": "display_data",
          "data": {
            "application/vnd.jupyter.widget-view+json": {
              "model_id": "02f47b877f6f4d99a4d43300d5db7c7f",
              "version_minor": 0,
              "version_major": 2
            },
            "text/plain": [
              "HBox(children=(FloatProgress(value=0.0, max=50.0), HTML(value='')))"
            ]
          },
          "metadata": {
            "tags": []
          }
        },
        {
          "output_type": "stream",
          "text": [
            "\n"
          ],
          "name": "stdout"
        },
        {
          "output_type": "execute_result",
          "data": {
            "text/plain": [
              "[<matplotlib.lines.Line2D at 0x7f1bcfbc9278>]"
            ]
          },
          "metadata": {
            "tags": []
          },
          "execution_count": 27
        },
        {
          "output_type": "display_data",
          "data": {
            "image/png": "[encoded data removed]",
            "text/plain": [
              "<Figure size 432x288 with 1 Axes>"
            ]
          },
          "metadata": {
            "tags": []
          }
        }
      ]
    },
    {
      "cell_type": "code",
      "metadata": {
        "id": "l5j4eGVN34AR",
        "outputId": "45157ab6-b6ab-4067-933a-75a1e512ac54",
        "colab": {
          "base_uri": "https://localhost:8080/",
          "height": 118,
          "referenced_widgets": [
            "e1e2241ba2ce4155b0c22e25ab7b4c06",
            "b24e05bbcc8a49bb9638a74e665914af",
            "017ae0bb879d40129fe5a543130fe473",
            "0172f37055544de4accc6558e4acc826",
            "a013f0ef2b654f499ce447c0383b0fb7",
            "13f1d1aaa0674ec6ba51f97aa56c1e94",
            "91c68c1a9a1049049e544c96ee8466bd",
            "45b0a2303dbd447bae1e78ffc981d8da"
          ]
        }
      },
      "source": [
        "# Now use the best k to compute the test error\n",
        "\n",
        "best_K = 3\n",
        "\n",
        "mnist_test_preds = batched_KNN(\n",
        "    mnist_full_train_data_uint8.astype('float32').reshape(-1, 28*28), \n",
        "    mnist_full_train_labels_int64,\n",
        "    mnist_test_data_uint8.astype('float32').reshape(-1, 28*28), \n",
        "    [best_K])\n",
        "\n",
        "mnist_test_errs = err_rates(mnist_test_preds, mnist_test_labels_int64)\n",
        "print(f\"\\n\\nWhen k={best_K} the test error rate is {mnist_test_errs[best_K] * 100.0:.1f}%%\")"
      ],
      "execution_count": null,
      "outputs": [
        {
          "output_type": "display_data",
          "data": {
            "application/vnd.jupyter.widget-view+json": {
              "model_id": "e1e2241ba2ce4155b0c22e25ab7b4c06",
              "version_minor": 0,
              "version_major": 2
            },
            "text/plain": [
              "HBox(children=(FloatProgress(value=0.0, max=50.0), HTML(value='')))"
            ]
          },
          "metadata": {
            "tags": []
          }
        },
        {
          "output_type": "stream",
          "text": [
            "\n",
            "\n",
            "\n",
            "When k=3 the test error rate is 2.9%%\n"
          ],
          "name": "stdout"
        }
      ]
    },
    {
      "cell_type": "markdown",
      "metadata": {
        "id": "1qq8XLOt34AX"
      },
      "source": [
        "### Locality sensitive hashing\n",
        "\n",
        "Problem 4 was about speeding up the inference using loops implicitly present in matrix multiplication instead of explicit loops in Python. In this problem, we will explore a strategy to truly reduce the total number of computations required to find nearest neighbors without sacrificing too much accuracy.\n",
        "\n",
        "To speed up nearest neighbor search we will employ *Locality Sensitive Hashing (LSH)* functions. For a given distance metric, the locality sensitive hash should put items that are similar into the same bucket. Notice that this is essentially a design choice opposite to traditional cryptographic hash functions that should amplify the difference of similar inputs (typically we want that small perturbations of data result in large changes to the hash value).\n",
        "\n",
        "One of the simplest implementations of LSH approximates the cosine distance. Let $x\\in \\mathbb{R}^N$ and $y\\in \\mathbb{R}^N$ be two vectors. Their cosine distance is defined as:\n",
        "\n",
        "\\begin{equation}\n",
        "    d_\\text{cos}(x,y) = \\frac{x \\cdot y}{\\|x\\| \\|y\\|} = \\cos\\left(\\theta(x,y)\\right),\n",
        "\\end{equation}\n",
        "where $\\theta(x,y)$ is the unsigned angle between $x$ and $y$.\n",
        "\n",
        "We will construct a family $H$ of hash functions that are an LSH for angle distances (an approximation to cosine distance). Assume $p\\in \\mathbb{R}^N$ is a random vector (components are sampled from the normal distribution) of length 1. Then define the hash function $h(x) = \\text{sgn}(x\\cdot p)$, where $\\text{sgn()}$ is the sign function. It can be proven that:\n",
        "\n",
        "\\begin{equation}\n",
        "    p_{h\\in H}[h(x)=h(y)] = 1 - \\frac{\\theta(x,y)}{\\pi}.\n",
        "\\end{equation}\n",
        "\n",
        "The equation means that the probability of a hash collision grows as the the angle between two vectors gets smaller. Therefore, vectors that are close according to the cosine distance will be put with high probability into the same bin (we use the fact that for small $\\theta$ we can approximate $\\cos(\\theta) = 1 - \\theta/\\pi$.\n",
        "\n",
        "We will say that a family of randomly chosen hash functions $H$ is $(d_1, d_2, p_1, p_2)$-sensitive with respect to a distance metric $d$ if for any $x$ and $y$:\n",
        "1. If $d(x,y) \\leq d_1$ then $p_{h\\in H}[h(x)=h(y)] \\geq p_1$.\n",
        "2. If $d(x,y) \\geq d_2$ then $p_{h\\in H}[h(x)=h(y)] \\leq p_2$.\n",
        "\n",
        "For example, our family of randomly chosen hyperplanes is $(d_1, d_2, (1-d_1)/\\pi, (1-d_2)/\\pi)$-sensitive.\n",
        "\n",
        "Ideally, vectors should be placed into the same bin with a high probability if their distance is smaller than a threshold, and with a low probability if their distance is larger that the threshold. By combining hashing functions we can get closer to this ideal sensitivity.\n",
        "\n",
        "Given a family of hash functions $H$ with sensitivity $(d_1, d_2, p_1, p_2)$ we can construct a new family $H'$ by combining $r$ functions from $H$:\n",
        "1. AND: let $h=[h_1, h_2, \\ldots, h_r] \\in H'$ and $h(x)=h(y)$ if and only if $\\forall_i h_i(x)=h_i(y)$. Then $H'$ is $(d_1, d_2, (p_1)^r, (p_2)^r)$-sensitive.\n",
        "2. OR: let $h=[h_1, h_2, \\ldots, h_r] \\in H'$ and $h(x)=h(y)$ if and only if $\\exists_i h_i(x)=h_i(y)$. Then $H'$ is $(d_1, d_2, 1-(1-p_1)^r, 1-(1-p_2)^r)$-sensitive.\n",
        "\n",
        "AND makes all probabilities shrink, but properly choosing $r$ we can make the lower probability approach 0 while the higher does not. Conversely, OR makes all probabilities grow, we can make the upper probability approach 1 while the lower does not."
      ]
    },
    {
      "cell_type": "markdown",
      "metadata": {
        "id": "OutHmcfp8zLo"
      },
      "source": [
        "#### Problem 6 [1-3p bonus] \n",
        "\n",
        "1. **[1bp for exercises list]** **Note:** you can show sketches of proofs for this assignment.\n",
        "    1. Show that angle between vectors is a metric (https://en.wikipedia.org/wiki/Metric_(mathematics)).\n",
        "    \n",
        "    2. Show that $p_{h\\in H}[h(x)=h(y)] = 1 - \\frac{\\theta(x,y)}{\\pi}$ for $h$ computed using a randomly chosen hyperplane.\n",
        "\n",
        "    3. Show the properties of either AND or OR boosting of LSH.\n",
        "\n",
        "  Please show the solution to this problem dirung the Session for Homework 1, the bonus point will also be added to the points from Homework 1.\n",
        "\n",
        "3. **[1-3bp]** Reimplement k-Nearest Neighbors for MNIST classification using the cosine distance instead of the Euclidean distance. Choose a sensible value of $k$. Use Locality Sensitive Hashing to achieve an error rate no greater than $150\\%$ of the original error rate with at least a $90\\%$ speedup (i.e., by considering on average at most 5000 training samples per query image). For a few settings plot the speedup-vs-accuracy relation.\n",
        "\n",
        "  **Note:** points will be awarded based on ingenuity of your solution. Feel free to explore your own ideas!\n"
      ]
    },
    {
      "cell_type": "code",
      "metadata": {
        "id": "TfDUaFvAXVO2"
      },
      "source": [
        ""
      ],
      "execution_count": null,
      "outputs": []
    }
  ]
}