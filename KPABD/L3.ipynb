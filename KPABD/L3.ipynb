{
    "metadata": {
        "kernelspec": {
            "name": "SQL",
            "display_name": "SQL",
            "language": "sql"
        },
        "language_info": {
            "name": "sql",
            "version": ""
        }
    },
    "nbformat_minor": 2,
    "nbformat": 4,
    "cells": [
        {
            "cell_type": "markdown",
            "source": [
                "# Task 1\n",
                "\n",
                "Consider the following tables: Products(ID, ProductName), Prices(ProductID REF Products(ID), Currency REF Rates(Currency), Price), Rates(Currency, PricePLN). Note that a product price may not be declared in all known currencies, but it always is declared in PLN as a reference. Prepare a batch script to update the Prices table based on Rates table. In case there is a row in Prices which references a currency that no longer exists in Rates, the row should be removed. This task should be implemented using cursors."
            ],
            "metadata": {
                "azdata_cell_guid": "10b3ae21-222b-407e-a55e-7aa87189311d"
            }
        },
        {
            "cell_type": "code",
            "source": [
                "DROP TABLE IF EXISTS dbo.Prices\n",
                "DROP TABLE IF EXISTS dbo.Products\n",
                "DROP TABLE IF EXISTS dbo.Rates\n",
                "\n",
                "CREATE TABLE dbo.Products (\n",
                "    ID INT IDENTITY, \n",
                "    ProductName VARCHAR(200),\n",
                "    CONSTRAINT Products_PK PRIMARY KEY (ID)\n",
                ");\n",
                "\n",
                "CREATE TABLE dbo.Rates (\n",
                "    Currency VARCHAR(3),\n",
                "    PricePLN FLOAT,\n",
                "    CONSTRAINT currency_unique UNIQUE (Currency)\n",
                ");\n",
                "\n",
                "CREATE TABLE dbo.Prices (\n",
                "    ProductID INT,\n",
                "    Currency VARCHAR(3),\n",
                "    Price FLOAT,\n",
                "    CONSTRAINT currency_ProductID_unique_together UNIQUE (ProductID, Currency),\n",
                "    CONSTRAINT ProductID_FK FOREIGN KEY (ProductID) REFERENCES dbo.Products (ID) ON DELETE CASCADE,\n",
                "    CONSTRAINT Currency_FK FOREIGN KEY (Currency) REFERENCES dbo.Rates (Currency) ON DELETE CASCADE\n",
                ");\n",
                "\n",
                "SET IDENTITY_INSERT dbo.Products ON\n",
                "INSERT INTO dbo.Products (ID, ProductName) VALUES\n",
                "(1, 'car'),\n",
                "(2, 'book'),\n",
                "(3, 'window'),\n",
                "(4, 'vodka'),\n",
                "(5, 'snow'),\n",
                "(6, 'mushrooms')\n",
                "SET IDENTITY_INSERT dbo.Products OFF\n",
                "\n",
                "INSERT INTO dbo.Rates (Currency, PricePLN) VALUES\n",
                "('EUR', 4.20),\n",
                "('USD', 4.0),\n",
                "('PLN', 1.0),\n",
                "('GBP', 5),\n",
                "('RUB', 0.05)\n",
                "\n",
                "INSERT INTO dbo.Prices (ProductID, Currency, Price) VALUES\n",
                "(1, 'USD', 32000.0),\n",
                "(1, 'PLN', 130000.0),\n",
                "(1, 'EUR', 30000.0),\n",
                "(1, 'GBP', 22000.0),\n",
                "(2, 'PLN', 100.0),\n",
                "(2, 'EUR', 22.0),\n",
                "(2, 'USD', 26.0),\n",
                "(3, 'RUB', 100000.0),\n",
                "(3, 'PLN', 1000.0),\n",
                "(4, 'PLN', 60.0),\n",
                "(4, 'USD', 30.0),\n",
                "(5, 'USD', 40.0),\n",
                "(5, 'PLN', 350.0),\n",
                "(5, 'EUR', 38.0),\n",
                "(5, 'GBP', 35.0),\n",
                "(6, 'USD', 20.0),\n",
                "(6, 'PLN', 100.0),\n",
                "(6, 'EUR', 18.0),\n",
                "(6, 'GBP', 15.0)\n",
                "\n",
                "SELECT * FROM dbo.Products\n",
                "SELECT * FROM dbo.Rates\n",
                "SELECT * FROM dbo.Prices"
            ],
            "metadata": {
                "azdata_cell_guid": "2c5667f5-af5e-4051-9150-0fb52eba4d4f",
                "tags": []
            },
            "outputs": [
                {
                    "output_type": "display_data",
                    "data": {
                        "text/html": "(6 rows affected)"
                    },
                    "metadata": {}
                },
                {
                    "output_type": "display_data",
                    "data": {
                        "text/html": "(5 rows affected)"
                    },
                    "metadata": {}
                },
                {
                    "output_type": "display_data",
                    "data": {
                        "text/html": "(19 rows affected)"
                    },
                    "metadata": {}
                },
                {
                    "output_type": "display_data",
                    "data": {
                        "text/html": "(6 rows affected)"
                    },
                    "metadata": {}
                },
                {
                    "output_type": "display_data",
                    "data": {
                        "text/html": "(5 rows affected)"
                    },
                    "metadata": {}
                },
                {
                    "output_type": "display_data",
                    "data": {
                        "text/html": "(19 rows affected)"
                    },
                    "metadata": {}
                },
                {
                    "output_type": "display_data",
                    "data": {
                        "text/html": "Total execution time: 00:00:00.139"
                    },
                    "metadata": {}
                },
                {
                    "output_type": "execute_result",
                    "execution_count": 14,
                    "data": {
                        "application/vnd.dataresource+json": {
                            "schema": {
                                "fields": [
                                    {
                                        "name": "ID"
                                    },
                                    {
                                        "name": "ProductName"
                                    }
                                ]
                            },
                            "data": [
                                {
                                    "0": "1",
                                    "1": "car"
                                },
                                {
                                    "0": "2",
                                    "1": "book"
                                },
                                {
                                    "0": "3",
                                    "1": "window"
                                },
                                {
                                    "0": "4",
                                    "1": "vodka"
                                },
                                {
                                    "0": "5",
                                    "1": "snow"
                                },
                                {
                                    "0": "6",
                                    "1": "mushrooms"
                                }
                            ]
                        },
                        "text/html": "<table><tr><th>ID</th><th>ProductName</th></tr><tr><td>1</td><td>car</td></tr><tr><td>2</td><td>book</td></tr><tr><td>3</td><td>window</td></tr><tr><td>4</td><td>vodka</td></tr><tr><td>5</td><td>snow</td></tr><tr><td>6</td><td>mushrooms</td></tr></table>"
                    },
                    "metadata": {}
                },
                {
                    "output_type": "execute_result",
                    "execution_count": 14,
                    "data": {
                        "application/vnd.dataresource+json": {
                            "schema": {
                                "fields": [
                                    {
                                        "name": "Currency"
                                    },
                                    {
                                        "name": "PricePLN"
                                    }
                                ]
                            },
                            "data": [
                                {
                                    "0": "EUR",
                                    "1": "4.2"
                                },
                                {
                                    "0": "USD",
                                    "1": "4"
                                },
                                {
                                    "0": "PLN",
                                    "1": "1"
                                },
                                {
                                    "0": "GBP",
                                    "1": "5"
                                },
                                {
                                    "0": "RUB",
                                    "1": "0.05"
                                }
                            ]
                        },
                        "text/html": "<table><tr><th>Currency</th><th>PricePLN</th></tr><tr><td>EUR</td><td>4.2</td></tr><tr><td>USD</td><td>4</td></tr><tr><td>PLN</td><td>1</td></tr><tr><td>GBP</td><td>5</td></tr><tr><td>RUB</td><td>0.05</td></tr></table>"
                    },
                    "metadata": {}
                },
                {
                    "output_type": "execute_result",
                    "execution_count": 14,
                    "data": {
                        "application/vnd.dataresource+json": {
                            "schema": {
                                "fields": [
                                    {
                                        "name": "ProductID"
                                    },
                                    {
                                        "name": "Currency"
                                    },
                                    {
                                        "name": "Price"
                                    }
                                ]
                            },
                            "data": [
                                {
                                    "0": "1",
                                    "1": "USD",
                                    "2": "32000"
                                },
                                {
                                    "0": "1",
                                    "1": "PLN",
                                    "2": "130000"
                                },
                                {
                                    "0": "1",
                                    "1": "EUR",
                                    "2": "30000"
                                },
                                {
                                    "0": "1",
                                    "1": "GBP",
                                    "2": "22000"
                                },
                                {
                                    "0": "2",
                                    "1": "PLN",
                                    "2": "100"
                                },
                                {
                                    "0": "2",
                                    "1": "EUR",
                                    "2": "22"
                                },
                                {
                                    "0": "2",
                                    "1": "USD",
                                    "2": "26"
                                },
                                {
                                    "0": "3",
                                    "1": "RUB",
                                    "2": "100000"
                                },
                                {
                                    "0": "3",
                                    "1": "PLN",
                                    "2": "1000"
                                },
                                {
                                    "0": "4",
                                    "1": "PLN",
                                    "2": "60"
                                },
                                {
                                    "0": "4",
                                    "1": "USD",
                                    "2": "30"
                                },
                                {
                                    "0": "5",
                                    "1": "USD",
                                    "2": "40"
                                },
                                {
                                    "0": "5",
                                    "1": "PLN",
                                    "2": "350"
                                },
                                {
                                    "0": "5",
                                    "1": "EUR",
                                    "2": "38"
                                },
                                {
                                    "0": "5",
                                    "1": "GBP",
                                    "2": "35"
                                },
                                {
                                    "0": "6",
                                    "1": "USD",
                                    "2": "20"
                                },
                                {
                                    "0": "6",
                                    "1": "PLN",
                                    "2": "100"
                                },
                                {
                                    "0": "6",
                                    "1": "EUR",
                                    "2": "18"
                                },
                                {
                                    "0": "6",
                                    "1": "GBP",
                                    "2": "15"
                                }
                            ]
                        },
                        "text/html": "<table><tr><th>ProductID</th><th>Currency</th><th>Price</th></tr><tr><td>1</td><td>USD</td><td>32000</td></tr><tr><td>1</td><td>PLN</td><td>130000</td></tr><tr><td>1</td><td>EUR</td><td>30000</td></tr><tr><td>1</td><td>GBP</td><td>22000</td></tr><tr><td>2</td><td>PLN</td><td>100</td></tr><tr><td>2</td><td>EUR</td><td>22</td></tr><tr><td>2</td><td>USD</td><td>26</td></tr><tr><td>3</td><td>RUB</td><td>100000</td></tr><tr><td>3</td><td>PLN</td><td>1000</td></tr><tr><td>4</td><td>PLN</td><td>60</td></tr><tr><td>4</td><td>USD</td><td>30</td></tr><tr><td>5</td><td>USD</td><td>40</td></tr><tr><td>5</td><td>PLN</td><td>350</td></tr><tr><td>5</td><td>EUR</td><td>38</td></tr><tr><td>5</td><td>GBP</td><td>35</td></tr><tr><td>6</td><td>USD</td><td>20</td></tr><tr><td>6</td><td>PLN</td><td>100</td></tr><tr><td>6</td><td>EUR</td><td>18</td></tr><tr><td>6</td><td>GBP</td><td>15</td></tr></table>"
                    },
                    "metadata": {}
                }
            ],
            "execution_count": 17
        },
        {
            "cell_type": "code",
            "source": [
                "DECLARE prices_update CURSOR FOR SELECT ProductID as id, Currency as c, Price as p FROM dbo.Prices ORDER BY id\n",
                "DECLARE @id INT, @old_id INT = -1, @currency VARCHAR(3), @price FLOAT, @PLN_price FLOAT, @curr_price FLOAT\n",
                "\n",
                "OPEN prices_update\n",
                "FETCH NEXT from prices_update into @id, @currency, @price\n",
                "WHILE (@@FETCH_STATUS = 0)\n",
                "BEGIN\n",
                "    IF @currency != 'PLN'\n",
                "        IF @id != @old_id\n",
                "            SET @old_id = @id\n",
                "            SELECT @PLN_price = Price FROM dbo.Prices WHERE Currency = 'PLN' AND ProductID = @id\n",
                "\n",
                "        SELECT @curr_price = PricePLN FROM dbo.Rates WHERE Currency = @currency\n",
                "        UPDATE dbo.Prices SET Price = @PLN_price / @curr_price WHERE CURRENT OF prices_update\n",
                "\n",
                "    FETCH NEXT from prices_update into @id, @currency, @price\n",
                "END\n",
                "CLOSE prices_update\n",
                "DEALLOCATE prices_update\n",
                "\n",
                "SELECT * FROM dbo.Prices"
            ],
            "metadata": {
                "azdata_cell_guid": "2a0ebe98-e0b1-4208-aecd-49fe556080a6",
                "tags": []
            },
            "outputs": [
                {
                    "output_type": "display_data",
                    "data": {
                        "text/html": "(1 row affected)"
                    },
                    "metadata": {}
                },
                {
                    "output_type": "display_data",
                    "data": {
                        "text/html": "(1 row affected)"
                    },
                    "metadata": {}
                },
                {
                    "output_type": "display_data",
                    "data": {
                        "text/html": "(1 row affected)"
                    },
                    "metadata": {}
                },
                {
                    "output_type": "display_data",
                    "data": {
                        "text/html": "(1 row affected)"
                    },
                    "metadata": {}
                },
                {
                    "output_type": "display_data",
                    "data": {
                        "text/html": "(1 row affected)"
                    },
                    "metadata": {}
                },
                {
                    "output_type": "display_data",
                    "data": {
                        "text/html": "(1 row affected)"
                    },
                    "metadata": {}
                },
                {
                    "output_type": "display_data",
                    "data": {
                        "text/html": "(1 row affected)"
                    },
                    "metadata": {}
                },
                {
                    "output_type": "display_data",
                    "data": {
                        "text/html": "(1 row affected)"
                    },
                    "metadata": {}
                },
                {
                    "output_type": "display_data",
                    "data": {
                        "text/html": "(1 row affected)"
                    },
                    "metadata": {}
                },
                {
                    "output_type": "display_data",
                    "data": {
                        "text/html": "(1 row affected)"
                    },
                    "metadata": {}
                },
                {
                    "output_type": "display_data",
                    "data": {
                        "text/html": "(1 row affected)"
                    },
                    "metadata": {}
                },
                {
                    "output_type": "display_data",
                    "data": {
                        "text/html": "(1 row affected)"
                    },
                    "metadata": {}
                },
                {
                    "output_type": "display_data",
                    "data": {
                        "text/html": "(1 row affected)"
                    },
                    "metadata": {}
                },
                {
                    "output_type": "display_data",
                    "data": {
                        "text/html": "(1 row affected)"
                    },
                    "metadata": {}
                },
                {
                    "output_type": "display_data",
                    "data": {
                        "text/html": "(1 row affected)"
                    },
                    "metadata": {}
                },
                {
                    "output_type": "display_data",
                    "data": {
                        "text/html": "(1 row affected)"
                    },
                    "metadata": {}
                },
                {
                    "output_type": "display_data",
                    "data": {
                        "text/html": "(1 row affected)"
                    },
                    "metadata": {}
                },
                {
                    "output_type": "display_data",
                    "data": {
                        "text/html": "(1 row affected)"
                    },
                    "metadata": {}
                },
                {
                    "output_type": "display_data",
                    "data": {
                        "text/html": "(1 row affected)"
                    },
                    "metadata": {}
                },
                {
                    "output_type": "display_data",
                    "data": {
                        "text/html": "(19 rows affected)"
                    },
                    "metadata": {}
                },
                {
                    "output_type": "display_data",
                    "data": {
                        "text/html": "Total execution time: 00:00:00.189"
                    },
                    "metadata": {}
                },
                {
                    "output_type": "execute_result",
                    "execution_count": 15,
                    "data": {
                        "application/vnd.dataresource+json": {
                            "schema": {
                                "fields": [
                                    {
                                        "name": "ProductID"
                                    },
                                    {
                                        "name": "Currency"
                                    },
                                    {
                                        "name": "Price"
                                    }
                                ]
                            },
                            "data": [
                                {
                                    "0": "1",
                                    "1": "USD",
                                    "2": "32500"
                                },
                                {
                                    "0": "1",
                                    "1": "PLN",
                                    "2": "130000"
                                },
                                {
                                    "0": "1",
                                    "1": "EUR",
                                    "2": "30952.38095238095"
                                },
                                {
                                    "0": "1",
                                    "1": "GBP",
                                    "2": "26000"
                                },
                                {
                                    "0": "2",
                                    "1": "PLN",
                                    "2": "100"
                                },
                                {
                                    "0": "2",
                                    "1": "EUR",
                                    "2": "23.80952380952381"
                                },
                                {
                                    "0": "2",
                                    "1": "USD",
                                    "2": "25"
                                },
                                {
                                    "0": "3",
                                    "1": "RUB",
                                    "2": "20000"
                                },
                                {
                                    "0": "3",
                                    "1": "PLN",
                                    "2": "1000"
                                },
                                {
                                    "0": "4",
                                    "1": "PLN",
                                    "2": "60"
                                },
                                {
                                    "0": "4",
                                    "1": "USD",
                                    "2": "15"
                                },
                                {
                                    "0": "5",
                                    "1": "USD",
                                    "2": "87.5"
                                },
                                {
                                    "0": "5",
                                    "1": "PLN",
                                    "2": "350"
                                },
                                {
                                    "0": "5",
                                    "1": "EUR",
                                    "2": "83.33333333333333"
                                },
                                {
                                    "0": "5",
                                    "1": "GBP",
                                    "2": "70"
                                },
                                {
                                    "0": "6",
                                    "1": "USD",
                                    "2": "25"
                                },
                                {
                                    "0": "6",
                                    "1": "PLN",
                                    "2": "100"
                                },
                                {
                                    "0": "6",
                                    "1": "EUR",
                                    "2": "23.80952380952381"
                                },
                                {
                                    "0": "6",
                                    "1": "GBP",
                                    "2": "20"
                                }
                            ]
                        },
                        "text/html": "<table><tr><th>ProductID</th><th>Currency</th><th>Price</th></tr><tr><td>1</td><td>USD</td><td>32500</td></tr><tr><td>1</td><td>PLN</td><td>130000</td></tr><tr><td>1</td><td>EUR</td><td>30952.38095238095</td></tr><tr><td>1</td><td>GBP</td><td>26000</td></tr><tr><td>2</td><td>PLN</td><td>100</td></tr><tr><td>2</td><td>EUR</td><td>23.80952380952381</td></tr><tr><td>2</td><td>USD</td><td>25</td></tr><tr><td>3</td><td>RUB</td><td>20000</td></tr><tr><td>3</td><td>PLN</td><td>1000</td></tr><tr><td>4</td><td>PLN</td><td>60</td></tr><tr><td>4</td><td>USD</td><td>15</td></tr><tr><td>5</td><td>USD</td><td>87.5</td></tr><tr><td>5</td><td>PLN</td><td>350</td></tr><tr><td>5</td><td>EUR</td><td>83.33333333333333</td></tr><tr><td>5</td><td>GBP</td><td>70</td></tr><tr><td>6</td><td>USD</td><td>25</td></tr><tr><td>6</td><td>PLN</td><td>100</td></tr><tr><td>6</td><td>EUR</td><td>23.80952380952381</td></tr><tr><td>6</td><td>GBP</td><td>20</td></tr></table>"
                    },
                    "metadata": {}
                }
            ],
            "execution_count": 12
        },
        {
            "cell_type": "markdown",
            "source": [
                "# Task 3\n",
                "Consider the following tables: Cache(ID, UrlAddress, LastAccess), History(ID, UrlAddress, LastAccess) and Parameters(Name, Value). The meaning of fields of Cache and History tables is as follows:\n",
                "• ID — row identifier,\n",
                "• UrlAddress — the address of a website, \n",
                "• LastAccess — the time of the last visit with with an accuracy of a second.\n",
                "The Parameters table contains only one row with Name = max cache and Value set to the maximum size of the Cache table. At the time of inserting of a new row to Cache table the following conditions should be met:\n",
                "• If the cache already contains the address of the website being inserted, the last access time should be only modified,\n",
                " • Otherwise, the size of the cache should be compared to the value in the max cache parameter from the Parameters table. There are two cases: \n",
                "> – If it’s lower, the new row should be inserted.\n",
                "> \n",
                "> – Otherwise, determine a website for which the last access is the oldest (if there are more than one, pick any of them). The corresponding row should be transferred to the History table, but in case it refers to a website already present there, the last access time should be only modified.\n",
                "This task should be implemented using triggers."
            ],
            "metadata": {
                "azdata_cell_guid": "6cd21b39-dd95-4477-b5da-740a0c3c7141"
            }
        },
        {
            "cell_type": "code",
            "source": [
                "DROP TABLE IF EXISTS dbo.Cache\n",
                "DROP TABLE IF EXISTS dbo.History\n",
                "DROP TABLE IF EXISTS dbo.Parameters\n",
                "\n",
                "CREATE TABLE dbo.Cache (\n",
                "    ID INT IDENTITY, \n",
                "    UrlAddress VARCHAR(200),\n",
                "    LastAccess DATETIME,\n",
                "    CONSTRAINT Cache_ID_PK PRIMARY KEY (ID),\n",
                "    CONSTRAINT Cache_UrlAddress_unique UNIQUE (UrlAddress)\n",
                ");\n",
                "\n",
                "CREATE TABLE dbo.History (\n",
                "    ID INT IDENTITY, \n",
                "    UrlAddress VARCHAR(200),\n",
                "    LastAccess DATETIME,\n",
                "    CONSTRAINT History_ID_PK PRIMARY KEY (ID),\n",
                "    CONSTRAINT History_UrlAddress_unique UNIQUE (UrlAddress)\n",
                ");\n",
                "\n",
                "CREATE TABLE dbo.Parameters (\n",
                "    Name VARCHAR(20),\n",
                "    Value INT,\n",
                "    CONSTRAINT Parameters_Name_unique UNIQUE (Name)\n",
                ");\n",
                "\n",
                "INSERT INTO dbo.Parameters (Name, Value) VALUES\n",
                "('max_cache', 4)\n",
                "\n",
                "INSERT INTO dbo.Cache (UrlAddress, LastAccess) VALUES\n",
                "('https://github.com/', CONVERT(datetime, '16/11/2012 04:00:00', 103)),\n",
                "('https://google.com/', CONVERT(datetime, '16/11/2013 00:01:00', 103)),\n",
                "('https://facebook.com/', CONVERT(datetime, '16/11/2014 00:02:00', 103)),\n",
                "('https://amazon.com/', CONVERT(datetime, '16/11/2013 03:03:00', 103))\n",
                "\n",
                "INSERT INTO dbo.History (UrlAddress, LastAccess) VALUES\n",
                "('https://github.com/', CONVERT(datetime, '16/11/2012 00:00:00', 103)),\n",
                "('https://google.com/', CONVERT(datetime, '16/11/2012 00:00:00', 103)),\n",
                "('https://facebook.com/', CONVERT(datetime, '16/11/2012 00:00:00', 103)),\n",
                "('https://amazon.com/', CONVERT(datetime, '16/11/2012 00:00:00', 103)),\n",
                "('https://ii.uwr.pl/', CONVERT(datetime, '16/11/2012 00:00:00', 103)),\n",
                "('https://allegro.pl/', CONVERT(datetime, '16/11/2012 00:00:00', 103)),\n",
                "('https://godaddy.pl/', CONVERT(datetime, '16/11/2012 00:00:00', 103)),\n",
                "('https://home.pl/', CONVERT(datetime, '16/11/2012 00:00:00', 103))\n",
                "\n",
                "SELECT * FROM dbo.Parameters\n",
                "SELECT * FROM dbo.Cache\n",
                "SELECT * FROM dbo.History"
            ],
            "metadata": {
                "azdata_cell_guid": "36eb493b-42b9-4dc7-bb8a-dc9577b68fc4",
                "tags": []
            },
            "outputs": [
{
    "output_type": "display_data",
    "data": {
        "text/html": "(1 row affected)"
    },
    "metadata": {}
}, {
    "output_type": "display_data",
    "data": {
        "text/html": "(4 rows affected)"
    },
    "metadata": {}
}, {
    "output_type": "display_data",
    "data": {
        "text/html": "(8 rows affected)"
    },
    "metadata": {}
}, {
    "output_type": "display_data",
    "data": {
        "text/html": "(1 row affected)"
    },
    "metadata": {}
}, {
    "output_type": "display_data",
    "data": {
        "text/html": "(4 rows affected)"
    },
    "metadata": {}
}, {
    "output_type": "display_data",
    "data": {
        "text/html": "(8 rows affected)"
    },
    "metadata": {}
}, {
    "output_type": "display_data",
    "data": {
        "text/html": "Total execution time: 00:00:00.119"
    },
    "metadata": {}
}, {
    "output_type": "execute_result",
    "metadata": {},
    "execution_count": 55,
    "data": {
        "application/vnd.dataresource+json": {
            "schema": {
                "fields": [
                    {
                        "name": "Name"
                    },
                    {
                        "name": "Value"
                    }
                ]
            },
            "data": [
                {
                    "0": "max_cache",
                    "1": "4"
                }
            ]
        },
        "text/html": [
            "<table>",
            "<tr><th>Name</th><th>Value</th></tr>",
            "<tr><td>max_cache</td><td>4</td></tr>",
            "</table>"
        ]
    }
}, {
    "output_type": "execute_result",
    "metadata": {},
    "execution_count": 55,
    "data": {
        "application/vnd.dataresource+json": {
            "schema": {
                "fields": [
                    {
                        "name": "ID"
                    },
                    {
                        "name": "UrlAddress"
                    },
                    {
                        "name": "LastAccess"
                    }
                ]
            },
            "data": [
                {
                    "0": "1",
                    "1": "https://github.com/",
                    "2": "2012-11-16 04:00:00.000"
                },
                {
                    "0": "2",
                    "1": "https://google.com/",
                    "2": "2013-11-16 00:01:00.000"
                },
                {
                    "0": "3",
                    "1": "https://facebook.com/",
                    "2": "2014-11-16 00:02:00.000"
                },
                {
                    "0": "4",
                    "1": "https://amazon.com/",
                    "2": "2013-11-16 03:03:00.000"
                }
            ]
        },
        "text/html": [
            "<table>",
            "<tr><th>ID</th><th>UrlAddress</th><th>LastAccess</th></tr>",
            "<tr><td>1</td><td>https://github.com/</td><td>2012-11-16 04:00:00.000</td></tr>",
            "<tr><td>2</td><td>https://google.com/</td><td>2013-11-16 00:01:00.000</td></tr>",
            "<tr><td>3</td><td>https://facebook.com/</td><td>2014-11-16 00:02:00.000</td></tr>",
            "<tr><td>4</td><td>https://amazon.com/</td><td>2013-11-16 03:03:00.000</td></tr>",
            "</table>"
        ]
    }
}, {
    "output_type": "execute_result",
    "metadata": {},
    "execution_count": 55,
    "data": {
        "application/vnd.dataresource+json": {
            "schema": {
                "fields": [
                    {
                        "name": "ID"
                    },
                    {
                        "name": "UrlAddress"
                    },
                    {
                        "name": "LastAccess"
                    }
                ]
            },
            "data": [
                {
                    "0": "1",
                    "1": "https://github.com/",
                    "2": "2012-11-16 00:00:00.000"
                },
                {
                    "0": "2",
                    "1": "https://google.com/",
                    "2": "2012-11-16 00:00:00.000"
                },
                {
                    "0": "3",
                    "1": "https://facebook.com/",
                    "2": "2012-11-16 00:00:00.000"
                },
                {
                    "0": "4",
                    "1": "https://amazon.com/",
                    "2": "2012-11-16 00:00:00.000"
                },
                {
                    "0": "5",
                    "1": "https://ii.uwr.pl/",
                    "2": "2012-11-16 00:00:00.000"
                },
                {
                    "0": "6",
                    "1": "https://allegro.pl/",
                    "2": "2012-11-16 00:00:00.000"
                },
                {
                    "0": "7",
                    "1": "https://godaddy.pl/",
                    "2": "2012-11-16 00:00:00.000"
                },
                {
                    "0": "8",
                    "1": "https://home.pl/",
                    "2": "2012-11-16 00:00:00.000"
                }
            ]
        },
        "text/html": [
            "<table>",
            "<tr><th>ID</th><th>UrlAddress</th><th>LastAccess</th></tr>",
            "<tr><td>1</td><td>https://github.com/</td><td>2012-11-16 00:00:00.000</td></tr>",
            "<tr><td>2</td><td>https://google.com/</td><td>2012-11-16 00:00:00.000</td></tr>",
            "<tr><td>3</td><td>https://facebook.com/</td><td>2012-11-16 00:00:00.000</td></tr>",
            "<tr><td>4</td><td>https://amazon.com/</td><td>2012-11-16 00:00:00.000</td></tr>",
            "<tr><td>5</td><td>https://ii.uwr.pl/</td><td>2012-11-16 00:00:00.000</td></tr>",
            "<tr><td>6</td><td>https://allegro.pl/</td><td>2012-11-16 00:00:00.000</td></tr>",
            "<tr><td>7</td><td>https://godaddy.pl/</td><td>2012-11-16 00:00:00.000</td></tr>",
            "<tr><td>8</td><td>https://home.pl/</td><td>2012-11-16 00:00:00.000</td></tr>",
            "</table>"
        ]
    }
}
],
            "execution_count": 4
        },
        {
            "cell_type": "code",
            "source": [
                "DROP trigger IF EXISTS cache_or_history"
            ],
            "metadata": {
                "azdata_cell_guid": "cddabc16-f45a-47fb-a6a0-57dbc915fc25"
            },
            "outputs": [
{
    "output_type": "display_data",
    "data": {
        "text/html": "Commands completed successfully."
    },
    "metadata": {}
}, {
    "output_type": "display_data",
    "data": {
        "text/html": "Total execution time: 00:00:00.036"
    },
    "metadata": {}
}
],
            "execution_count": 22
        },
        {
            "cell_type": "code",
            "source": [
                "CREATE TRIGGER cache_or_history\n",
                "ON dbo.Cache INSTEAD OF INSERT\n",
                "AS\n",
                "BEGIN\n",
                "    DECLARE distribute_inserted_data CURSOR FOR SELECT UrlAddress, LastAccess FROM INSERTED\n",
                "    DECLARE @UrlAddress VARCHAR(200), @LastAccess DATETIME,\n",
                "            @rows_no INT, @max_rows_no INT,\n",
                "            @url_cnt INT = 0,\n",
                "            @OldestUrlAddress VARCHAR(200), @OldestLastAccess DATETIME\n",
                "\n",
                "    SELECT TOP 1 @max_rows_no = Value FROM dbo.Parameters;\n",
                "\n",
                "    OPEN distribute_inserted_data\n",
                "    FETCH NEXT from distribute_inserted_data into @UrlAddress, @LastAccess\n",
                "    WHILE (@@FETCH_STATUS = 0)\n",
                "    BEGIN\n",
                "        SET @url_cnt = 0\n",
                "        SELECT @url_cnt = COUNT(ID) FROM dbo.Cache WHERE UrlAddress = @UrlAddress\n",
                "        IF @url_cnt = 1\n",
                "        BEGIN\n",
                "            PRINT 'This url already is in cache so just updating it.'\n",
                "            UPDATE dbo.Cache SET LastAccess = @LastAccess WHERE UrlAddress = @UrlAddress\n",
                "        END\n",
                "        ELSE\n",
                "        BEGIN\n",
                "            SELECT @rows_no = COUNT(*) FROM dbo.Cache\n",
                "            IF @rows_no < @max_rows_no\n",
                "            BEGIN\n",
                "                PRINT 'This url is not in cache so adding it.'\n",
                "                INSERT INTO dbo.Cache VALUES (@UrlAddress, @LastAccess)\n",
                "            END\n",
                "            ELSE\n",
                "            BEGIN\n",
                "                SELECT TOP 1 @OldestUrlAddress = UrlAddress, @OldestLastAccess = LastAccess FROM dbo.Cache ORDER BY LastAccess DESC\n",
                "                DELETE FROM dbo.Cache WHERE UrlAddress = @OldestUrlAddress\n",
                "\n",
                "                SET @url_cnt = 0\n",
                "                SELECT @url_cnt = COUNT(ID) FROM dbo.History WHERE UrlAddress = @OldestUrlAddress\n",
                "                IF @url_cnt = 1\n",
                "                BEGIN\n",
                "                    PRINT 'Cache is full lets update url in the history'\n",
                "                    UPDATE dbo.History SET LastAccess = @OldestLastAccess WHERE UrlAddress = @OldestUrlAddress\n",
                "                    INSERT INTO dbo.Cache VALUES (@UrlAddress, @LastAccess)\n",
                "                END\n",
                "                ELSE\n",
                "                BEGIN\n",
                "                    PRINT 'Cache is full lets add new to the history'\n",
                "                    INSERT INTO dbo.History VALUES (@OldestUrlAddress, @OldestLastAccess)\n",
                "                    INSERT INTO dbo.Cache VALUES (@UrlAddress, @LastAccess)\n",
                "                END\n",
                "            END\n",
                "        END\n",
                "        FETCH NEXT from distribute_inserted_data into @UrlAddress, @LastAccess\n",
                "    END\n",
                "    CLOSE distribute_inserted_data\n",
                "    DEALLOCATE distribute_inserted_data\n",
                "END"
            ],
            "metadata": {
                "azdata_cell_guid": "30f1c409-ca22-4019-9798-5e08317bdc9f"
            },
            "outputs": [
{
    "output_type": "display_data",
    "data": {
        "text/html": "Commands completed successfully."
    },
    "metadata": {}
}, {
    "output_type": "display_data",
    "data": {
        "text/html": "Total execution time: 00:00:00.043"
    },
    "metadata": {}
}
],
            "execution_count": 24
        },
        {
            "cell_type": "code",
            "source": [
                "SELECT * FROM dbo.Cache\n",
                "SELECT * FROM dbo.History\n",
                "SELECT * FROM dbo.Parameters"
            ],
            "metadata": {
                "azdata_cell_guid": "e6c40b28-8610-4cc2-ab26-fb2f1555ef5f"
            },
            "outputs": [
{
    "output_type": "display_data",
    "data": {
        "text/html": "(4 rows affected)"
    },
    "metadata": {}
}, {
    "output_type": "display_data",
    "data": {
        "text/html": "(8 rows affected)"
    },
    "metadata": {}
}, {
    "output_type": "display_data",
    "data": {
        "text/html": "(1 row affected)"
    },
    "metadata": {}
}, {
    "output_type": "display_data",
    "data": {
        "text/html": "Total execution time: 00:00:00.050"
    },
    "metadata": {}
}, {
    "output_type": "execute_result",
    "metadata": {},
    "execution_count": 47,
    "data": {
        "application/vnd.dataresource+json": {
            "schema": {
                "fields": [
                    {
                        "name": "ID"
                    },
                    {
                        "name": "UrlAddress"
                    },
                    {
                        "name": "LastAccess"
                    }
                ]
            },
            "data": [
                {
                    "0": "1",
                    "1": "https://github.com/",
                    "2": "2012-11-16 04:00:00.000"
                },
                {
                    "0": "2",
                    "1": "https://google.com/",
                    "2": "2013-11-16 00:01:00.000"
                },
                {
                    "0": "3",
                    "1": "https://facebook.com/",
                    "2": "2014-11-16 00:02:00.000"
                },
                {
                    "0": "4",
                    "1": "https://amazon.com/",
                    "2": "2013-11-16 03:03:00.000"
                }
            ]
        },
        "text/html": [
            "<table>",
            "<tr><th>ID</th><th>UrlAddress</th><th>LastAccess</th></tr>",
            "<tr><td>1</td><td>https://github.com/</td><td>2012-11-16 04:00:00.000</td></tr>",
            "<tr><td>2</td><td>https://google.com/</td><td>2013-11-16 00:01:00.000</td></tr>",
            "<tr><td>3</td><td>https://facebook.com/</td><td>2014-11-16 00:02:00.000</td></tr>",
            "<tr><td>4</td><td>https://amazon.com/</td><td>2013-11-16 03:03:00.000</td></tr>",
            "</table>"
        ]
    }
}, {
    "output_type": "execute_result",
    "metadata": {},
    "execution_count": 47,
    "data": {
        "application/vnd.dataresource+json": {
            "schema": {
                "fields": [
                    {
                        "name": "ID"
                    },
                    {
                        "name": "UrlAddress"
                    },
                    {
                        "name": "LastAccess"
                    }
                ]
            },
            "data": [
                {
                    "0": "1",
                    "1": "https://github.com/",
                    "2": "2012-11-16 00:00:00.000"
                },
                {
                    "0": "2",
                    "1": "https://google.com/",
                    "2": "2012-11-16 00:00:00.000"
                },
                {
                    "0": "3",
                    "1": "https://facebook.com/",
                    "2": "2012-11-16 00:00:00.000"
                },
                {
                    "0": "4",
                    "1": "https://amazon.com/",
                    "2": "2012-11-16 00:00:00.000"
                },
                {
                    "0": "5",
                    "1": "https://ii.uwr.pl/",
                    "2": "2012-11-16 00:00:00.000"
                },
                {
                    "0": "6",
                    "1": "https://allegro.pl/",
                    "2": "2012-11-16 00:00:00.000"
                },
                {
                    "0": "7",
                    "1": "https://godaddy.pl/",
                    "2": "2012-11-16 00:00:00.000"
                },
                {
                    "0": "8",
                    "1": "https://home.pl/",
                    "2": "2012-11-16 00:00:00.000"
                }
            ]
        },
        "text/html": [
            "<table>",
            "<tr><th>ID</th><th>UrlAddress</th><th>LastAccess</th></tr>",
            "<tr><td>1</td><td>https://github.com/</td><td>2012-11-16 00:00:00.000</td></tr>",
            "<tr><td>2</td><td>https://google.com/</td><td>2012-11-16 00:00:00.000</td></tr>",
            "<tr><td>3</td><td>https://facebook.com/</td><td>2012-11-16 00:00:00.000</td></tr>",
            "<tr><td>4</td><td>https://amazon.com/</td><td>2012-11-16 00:00:00.000</td></tr>",
            "<tr><td>5</td><td>https://ii.uwr.pl/</td><td>2012-11-16 00:00:00.000</td></tr>",
            "<tr><td>6</td><td>https://allegro.pl/</td><td>2012-11-16 00:00:00.000</td></tr>",
            "<tr><td>7</td><td>https://godaddy.pl/</td><td>2012-11-16 00:00:00.000</td></tr>",
            "<tr><td>8</td><td>https://home.pl/</td><td>2012-11-16 00:00:00.000</td></tr>",
            "</table>"
        ]
    }
}, {
    "output_type": "execute_result",
    "metadata": {},
    "execution_count": 47,
    "data": {
        "application/vnd.dataresource+json": {
            "schema": {
                "fields": [
                    {
                        "name": "Name"
                    },
                    {
                        "name": "Value"
                    }
                ]
            },
            "data": [
                {
                    "0": "max_cache",
                    "1": "4"
                }
            ]
        },
        "text/html": [
            "<table>",
            "<tr><th>Name</th><th>Value</th></tr>",
            "<tr><td>max_cache</td><td>4</td></tr>",
            "</table>"
        ]
    }
}
],
            "execution_count": 12
        },
        {
            "cell_type": "code",
            "source": [
                "INSERT INTO dbo.Cache VALUES ('https://github.com/', CONVERT(datetime, '16/11/2012 00:22:22', 103))\n",
                "SELECT * FROM dbo.Cache\n",
                "SELECT * FROM dbo.History"
            ],
            "metadata": {
                "azdata_cell_guid": "6e7e92b9-b436-4548-8748-90825ca77d0e"
            },
            "outputs": [
{
    "output_type": "display_data",
    "data": {
        "text/html": "This url already is in cache so just updating it."
    },
    "metadata": {}
}, {
    "output_type": "display_data",
    "data": {
        "text/html": "(1 row affected)"
    },
    "metadata": {}
}, {
    "output_type": "display_data",
    "data": {
        "text/html": "(1 row affected)"
    },
    "metadata": {}
}, {
    "output_type": "display_data",
    "data": {
        "text/html": "(4 rows affected)"
    },
    "metadata": {}
}, {
    "output_type": "display_data",
    "data": {
        "text/html": "(8 rows affected)"
    },
    "metadata": {}
}, {
    "output_type": "display_data",
    "data": {
        "text/html": "Total execution time: 00:00:00.074"
    },
    "metadata": {}
}, {
    "output_type": "execute_result",
    "metadata": {},
    "execution_count": 58,
    "data": {
        "application/vnd.dataresource+json": {
            "schema": {
                "fields": [
                    {
                        "name": "ID"
                    },
                    {
                        "name": "UrlAddress"
                    },
                    {
                        "name": "LastAccess"
                    }
                ]
            },
            "data": [
                {
                    "0": "1",
                    "1": "https://github.com/",
                    "2": "2012-11-16 00:22:22.000"
                },
                {
                    "0": "2",
                    "1": "https://google.com/",
                    "2": "2013-11-16 00:01:00.000"
                },
                {
                    "0": "3",
                    "1": "https://facebook.com/",
                    "2": "2014-11-16 00:02:00.000"
                },
                {
                    "0": "4",
                    "1": "https://amazon.com/",
                    "2": "2013-11-16 03:03:00.000"
                }
            ]
        },
        "text/html": [
            "<table>",
            "<tr><th>ID</th><th>UrlAddress</th><th>LastAccess</th></tr>",
            "<tr><td>1</td><td>https://github.com/</td><td>2012-11-16 00:22:22.000</td></tr>",
            "<tr><td>2</td><td>https://google.com/</td><td>2013-11-16 00:01:00.000</td></tr>",
            "<tr><td>3</td><td>https://facebook.com/</td><td>2014-11-16 00:02:00.000</td></tr>",
            "<tr><td>4</td><td>https://amazon.com/</td><td>2013-11-16 03:03:00.000</td></tr>",
            "</table>"
        ]
    }
}, {
    "output_type": "execute_result",
    "metadata": {},
    "execution_count": 58,
    "data": {
        "application/vnd.dataresource+json": {
            "schema": {
                "fields": [
                    {
                        "name": "ID"
                    },
                    {
                        "name": "UrlAddress"
                    },
                    {
                        "name": "LastAccess"
                    }
                ]
            },
            "data": [
                {
                    "0": "1",
                    "1": "https://github.com/",
                    "2": "2012-11-16 00:00:00.000"
                },
                {
                    "0": "2",
                    "1": "https://google.com/",
                    "2": "2012-11-16 00:00:00.000"
                },
                {
                    "0": "3",
                    "1": "https://facebook.com/",
                    "2": "2012-11-16 00:00:00.000"
                },
                {
                    "0": "4",
                    "1": "https://amazon.com/",
                    "2": "2012-11-16 00:00:00.000"
                },
                {
                    "0": "5",
                    "1": "https://ii.uwr.pl/",
                    "2": "2012-11-16 00:00:00.000"
                },
                {
                    "0": "6",
                    "1": "https://allegro.pl/",
                    "2": "2012-11-16 00:00:00.000"
                },
                {
                    "0": "7",
                    "1": "https://godaddy.pl/",
                    "2": "2012-11-16 00:00:00.000"
                },
                {
                    "0": "8",
                    "1": "https://home.pl/",
                    "2": "2012-11-16 00:00:00.000"
                }
            ]
        },
        "text/html": [
            "<table>",
            "<tr><th>ID</th><th>UrlAddress</th><th>LastAccess</th></tr>",
            "<tr><td>1</td><td>https://github.com/</td><td>2012-11-16 00:00:00.000</td></tr>",
            "<tr><td>2</td><td>https://google.com/</td><td>2012-11-16 00:00:00.000</td></tr>",
            "<tr><td>3</td><td>https://facebook.com/</td><td>2012-11-16 00:00:00.000</td></tr>",
            "<tr><td>4</td><td>https://amazon.com/</td><td>2012-11-16 00:00:00.000</td></tr>",
            "<tr><td>5</td><td>https://ii.uwr.pl/</td><td>2012-11-16 00:00:00.000</td></tr>",
            "<tr><td>6</td><td>https://allegro.pl/</td><td>2012-11-16 00:00:00.000</td></tr>",
            "<tr><td>7</td><td>https://godaddy.pl/</td><td>2012-11-16 00:00:00.000</td></tr>",
            "<tr><td>8</td><td>https://home.pl/</td><td>2012-11-16 00:00:00.000</td></tr>",
            "</table>"
        ]
    }
}
],
            "execution_count": 25
        },
        {
            "cell_type": "code",
            "source": [
                "INSERT INTO dbo.Cache VALUES ('https://some.pl/', CONVERT(datetime, '16/11/2015 00:40:22', 103))\n",
                "SELECT * FROM dbo.Cache\n",
                "SELECT * FROM dbo.History"
            ],
            "metadata": {
                "azdata_cell_guid": "16015918-a98e-4836-8fba-bb0b46d9a8fb"
            },
            "outputs": [
{
    "output_type": "display_data",
    "data": {
        "text/html": "(1 row affected)"
    },
    "metadata": {}
}, {
    "output_type": "display_data",
    "data": {
        "text/html": "https://facebook.com/"
    },
    "metadata": {}
}, {
    "output_type": "display_data",
    "data": {
        "text/html": "1"
    },
    "metadata": {}
}, {
    "output_type": "display_data",
    "data": {
        "text/html": "Cache is full lets update url in the history"
    },
    "metadata": {}
}, {
    "output_type": "display_data",
    "data": {
        "text/html": "(1 row affected)"
    },
    "metadata": {}
}, {
    "output_type": "display_data",
    "data": {
        "text/html": "(1 row affected)"
    },
    "metadata": {}
}, {
    "output_type": "display_data",
    "data": {
        "text/html": "(1 row affected)"
    },
    "metadata": {}
}, {
    "output_type": "display_data",
    "data": {
        "text/html": "(4 rows affected)"
    },
    "metadata": {}
}, {
    "output_type": "display_data",
    "data": {
        "text/html": "(8 rows affected)"
    },
    "metadata": {}
}, {
    "output_type": "display_data",
    "data": {
        "text/html": "Total execution time: 00:00:00.058"
    },
    "metadata": {}
}, {
    "output_type": "execute_result",
    "metadata": {},
    "execution_count": 59,
    "data": {
        "application/vnd.dataresource+json": {
            "schema": {
                "fields": [
                    {
                        "name": "ID"
                    },
                    {
                        "name": "UrlAddress"
                    },
                    {
                        "name": "LastAccess"
                    }
                ]
            },
            "data": [
                {
                    "0": "1",
                    "1": "https://github.com/",
                    "2": "2012-11-16 00:22:22.000"
                },
                {
                    "0": "2",
                    "1": "https://google.com/",
                    "2": "2013-11-16 00:01:00.000"
                },
                {
                    "0": "4",
                    "1": "https://amazon.com/",
                    "2": "2013-11-16 03:03:00.000"
                },
                {
                    "0": "5",
                    "1": "https://some.pl/",
                    "2": "2015-11-16 00:40:22.000"
                }
            ]
        },
        "text/html": [
            "<table>",
            "<tr><th>ID</th><th>UrlAddress</th><th>LastAccess</th></tr>",
            "<tr><td>1</td><td>https://github.com/</td><td>2012-11-16 00:22:22.000</td></tr>",
            "<tr><td>2</td><td>https://google.com/</td><td>2013-11-16 00:01:00.000</td></tr>",
            "<tr><td>4</td><td>https://amazon.com/</td><td>2013-11-16 03:03:00.000</td></tr>",
            "<tr><td>5</td><td>https://some.pl/</td><td>2015-11-16 00:40:22.000</td></tr>",
            "</table>"
        ]
    }
}, {
    "output_type": "execute_result",
    "metadata": {},
    "execution_count": 59,
    "data": {
        "application/vnd.dataresource+json": {
            "schema": {
                "fields": [
                    {
                        "name": "ID"
                    },
                    {
                        "name": "UrlAddress"
                    },
                    {
                        "name": "LastAccess"
                    }
                ]
            },
            "data": [
                {
                    "0": "1",
                    "1": "https://github.com/",
                    "2": "2012-11-16 00:00:00.000"
                },
                {
                    "0": "2",
                    "1": "https://google.com/",
                    "2": "2012-11-16 00:00:00.000"
                },
                {
                    "0": "3",
                    "1": "https://facebook.com/",
                    "2": "2014-11-16 00:02:00.000"
                },
                {
                    "0": "4",
                    "1": "https://amazon.com/",
                    "2": "2012-11-16 00:00:00.000"
                },
                {
                    "0": "5",
                    "1": "https://ii.uwr.pl/",
                    "2": "2012-11-16 00:00:00.000"
                },
                {
                    "0": "6",
                    "1": "https://allegro.pl/",
                    "2": "2012-11-16 00:00:00.000"
                },
                {
                    "0": "7",
                    "1": "https://godaddy.pl/",
                    "2": "2012-11-16 00:00:00.000"
                },
                {
                    "0": "8",
                    "1": "https://home.pl/",
                    "2": "2012-11-16 00:00:00.000"
                }
            ]
        },
        "text/html": [
            "<table>",
            "<tr><th>ID</th><th>UrlAddress</th><th>LastAccess</th></tr>",
            "<tr><td>1</td><td>https://github.com/</td><td>2012-11-16 00:00:00.000</td></tr>",
            "<tr><td>2</td><td>https://google.com/</td><td>2012-11-16 00:00:00.000</td></tr>",
            "<tr><td>3</td><td>https://facebook.com/</td><td>2014-11-16 00:02:00.000</td></tr>",
            "<tr><td>4</td><td>https://amazon.com/</td><td>2012-11-16 00:00:00.000</td></tr>",
            "<tr><td>5</td><td>https://ii.uwr.pl/</td><td>2012-11-16 00:00:00.000</td></tr>",
            "<tr><td>6</td><td>https://allegro.pl/</td><td>2012-11-16 00:00:00.000</td></tr>",
            "<tr><td>7</td><td>https://godaddy.pl/</td><td>2012-11-16 00:00:00.000</td></tr>",
            "<tr><td>8</td><td>https://home.pl/</td><td>2012-11-16 00:00:00.000</td></tr>",
            "</table>"
        ]
    }
}
],
            "execution_count": null
        }
    ]
}