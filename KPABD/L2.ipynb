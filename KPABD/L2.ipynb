{
    "metadata": {
        "kernelspec": {
            "name": "SQL",
            "display_name": "SQL",
            "language": "sql"
        },
        "language_info": {
            "name": "sql",
            "version": ""
        }
    },
    "nbformat_minor": 2,
    "nbformat": 4,
    "cells": [
        {
            "cell_type": "code",
            "source": [
                "DROP TABLE IF EXISTS Wypozyczenie;\n",
                "\n",
                "DROP TABLE IF EXISTS Egzemplarz;\n",
                "\n",
                "DROP TABLE IF EXISTS Czytelnik;\n",
                "\n",
                "DROP TABLE IF EXISTS Ksiazka;\n",
                "\n",
                "CREATE TABLE Ksiazka\n",
                "( Ksiazka_ID INT IDENTITY\n",
                ", ISBN VARCHAR(20)\n",
                ", Tytul VARCHAR(300)\n",
                ", Autor VARCHAR(200)\n",
                ", Rok_Wydania INT\n",
                ", Cena DECIMAL(10,2)\n",
                ", Wypozyczona_Ostatni_Miesiac BIT\n",
                ", CONSTRAINT Ksiazka_PK PRIMARY KEY (Ksiazka_ID)\n",
                ", CONSTRAINT Ksiazka_UK_ISBN UNIQUE (ISBN)\n",
                ");\n",
                "\n",
                "CREATE TABLE Egzemplarz\n",
                "( Egzemplarz_ID INT IDENTITY\n",
                ", Sygnatura CHAR(8)\n",
                ", Ksiazka_ID INT\n",
                ", CONSTRAINT Egzemplarz_PK PRIMARY KEY (Egzemplarz_ID)\n",
                ", CONSTRAINT Egzemplarz_UK_Sygnatura UNIQUE (Sygnatura)\n",
                ", CONSTRAINT Egzemplarz_FK FOREIGN KEY (Ksiazka_ID) REFERENCES Ksiazka (Ksiazka_ID) ON DELETE CASCADE\n",
                ");\n",
                "\n",
                "CREATE TABLE Czytelnik\n",
                "( Czytelnik_ID INT IDENTITY\n",
                ", PESEL CHAR(11)\n",
                ", Nazwisko VARCHAR(30)\n",
                ", Miasto VARCHAR(30)\n",
                ", Data_Urodzenia DATE\n",
                ", Ostatnie_Wypozyczenie DATE\n",
                ", CONSTRAINT Czytelnik_PK PRIMARY KEY (Czytelnik_ID)\n",
                ", CONSTRAINT Czytelnik_UK_PESEL UNIQUE (PESEL)\n",
                ");\n",
                "\n",
                "CREATE TABLE Wypozyczenie\n",
                "( Wypozyczenie_ID INT IDENTITY\n",
                ", Czytelnik_ID INT\n",
                ", Egzemplarz_ID INT\n",
                ", Data DATE\n",
                ", Liczba_Dni INT\n",
                ", CONSTRAINT Wypozyczenie_PK PRIMARY KEY (Wypozyczenie_ID)\n",
                ", CONSTRAINT Wypozyczenie_FK_Czytelnik FOREIGN KEY (Czytelnik_ID) REFERENCES Czytelnik (Czytelnik_ID) ON DELETE CASCADE\n",
                ", CONSTRAINT Wypozyczenie_FK_Egzemplarz FOREIGN KEY (Egzemplarz_ID) REFERENCES Egzemplarz (Egzemplarz_ID) ON DELETE CASCADE\n",
                ");\n",
                "\n",
                "SET IDENTITY_INSERT Ksiazka ON\n",
                "INSERT INTO Ksiazka (Ksiazka_ID,ISBN,Tytul,Autor,Rok_Wydania,Cena) VALUES\n",
                "(1,'83-246-0279-8','Microsoft Access. Podrêcznik administratora','Helen Feddema',2006,69),\n",
                "(2,'83-246-0653-X','SQL Server 2005. Programowanie. Od podstaw','Robert Vieira',2007,97),\n",
                "(3,'978-83-246-0549-1','SQL Server 2005. Wycinij wszystko','Eric L. Brown',2007,57),\n",
                "(4,'978-83-246-1258-1','PHP, MySQL i MVC. Tworzenie witryn WWW opartych na bazie danych','W³odzimierz Gajda',2010,79),\n",
                "(5,'978-83-246-2060-9','Access 2007 PL. Seria praktyk','Andrew Unsworth',2009,39),\n",
                "(6,'978-83-246-2188-0','Czysty kod. Podrêcznik dobrego programisty','Robert C. Martin',2010,67);\n",
                "SET IDENTITY_INSERT Ksiazka OFF\n",
                "\n",
                "SET IDENTITY_INSERT Egzemplarz ON\n",
                "INSERT INTO Egzemplarz (Egzemplarz_ID,Ksiazka_ID,Sygnatura) VALUES\n",
                "(1,5,'S0001'),\n",
                "(2,5,'S0002'),\n",
                "(3,1,'S0003'),\n",
                "(4,1,'S0004'),\n",
                "(5,1,'S0005'),\n",
                "-- (6,2,'S0006'),\n",
                "(7,3,'S0007'),\n",
                "(8,3,'S0008'),\n",
                "(9,3,'S0009'),\n",
                "(10,3,'S0010'),\n",
                "(11,6,'S0011'),\n",
                "(12,6,'S0012'),\n",
                "(13,4,'S0013'),\n",
                "(14,4,'S0014'),\n",
                "(15,4,'S0015');\n",
                "SET IDENTITY_INSERT Egzemplarz OFF\n",
                "\n",
                "SET IDENTITY_INSERT Czytelnik ON\n",
                "INSERT INTO Czytelnik (CZYTELNIK_ID,PESEL,NAZWISKO,MIASTO,DATA_URODZENIA) VALUES\n",
                "(1,'55101011111','Kowalski','Wroc³aw','1955-10-10'),\n",
                "(2,'60101033333','Maliniak','Wroc³aw','1960-10-10'),\n",
                "(3,'65120122222','Nowak','Warszawa','1965-12-01');\n",
                "SET IDENTITY_INSERT Czytelnik OFF\n",
                "\n",
                "SET IDENTITY_INSERT Wypozyczenie ON\n",
                "INSERT INTO Wypozyczenie (Wypozyczenie_ID,Czytelnik_ID,Egzemplarz_ID,Data,Liczba_Dni) VALUES\n",
                "(1,1,3,'2020-02-01',12),\n",
                "(2,1,4,'2020-01-05',20),\n",
                "(3,1,15,'2020-01-21',45),\n",
                "(4,2,8,'2020-01-13',7),\n",
                "(5,3,4,'2020-02-01',14),\n",
                "(6,3,12,'2020-02-02',10),\n",
                "(7,3,12,'2020-02-12',3),\n",
                "(8,3,12,'2020-02-16',4),\n",
                "(9,1,12,'2020-02-20',2),\n",
                "(10,2,12,'2020-02-22',5),\n",
                "(11,2,12,'2020-02-28',12),\n",
                "(12,1,12,'2020-03-10',8),\n",
                "(13,3,12,'2020-03-15',4);\n",
                "SET IDENTITY_INSERT Wypozyczenie OFF"
            ],
            "metadata": {
                "azdata_cell_guid": "eb57162a-f66e-4615-8dc1-0fb2300902a6"
            },
            "outputs": [
                {
                    "output_type": "display_data",
                    "data": {
                        "text/html": "(6 rows affected)"
                    },
                    "metadata": {}
                },
                {
                    "output_type": "display_data",
                    "data": {
                        "text/html": "(14 rows affected)"
                    },
                    "metadata": {}
                },
                {
                    "output_type": "display_data",
                    "data": {
                        "text/html": "(3 rows affected)"
                    },
                    "metadata": {}
                },
                {
                    "output_type": "display_data",
                    "data": {
                        "text/html": "(13 rows affected)"
                    },
                    "metadata": {}
                },
                {
                    "output_type": "display_data",
                    "data": {
                        "text/html": "Total execution time: 00:00:01.022"
                    },
                    "metadata": {}
                }
            ],
            "execution_count": 1
        },
        {
            "cell_type": "markdown",
            "source": [
                "# Task 1\n",
                "\n",
                "Create a T-SQL function taking as an input a number of days and returning in result a table (PESEL, specimens number) which consists of readers list keeping at least one specimen not shorter that the number of days provided as the input. In the second result column please provide the number of all specimens currently being hold by a reader."
            ],
            "metadata": {
                "azdata_cell_guid": "eea179f8-3ea3-4cbc-ad30-cf67d350f67a"
            }
        },
        {
            "cell_type": "code",
            "source": [
                "DROP FUNCTION IF EXISTS task1"
            ],
            "metadata": {
                "azdata_cell_guid": "f8173ca9-9200-4986-bb89-10d378629ba6"
            },
            "outputs": [
                {
                    "output_type": "display_data",
                    "data": {
                        "text/html": "Commands completed successfully."
                    },
                    "metadata": {}
                },
                {
                    "output_type": "display_data",
                    "data": {
                        "text/html": "Total execution time: 00:00:00.061"
                    },
                    "metadata": {}
                }
            ],
            "execution_count": 40
        },
        {
            "cell_type": "code",
            "source": [
                "-- CREATE FUNCTION task1 (@days_no int) RETURNS TABLE(PESEL CHAR(11), speciments INT)\n",
                "CREATE FUNCTION task1 (@days_no INT) RETURNS TABLE\n",
                "AS\n",
                "RETURN\n",
                "    SELECT c.PESEL, COUNT(w.Wypozyczenie_ID) as speciments\n",
                "    FROM dbo.Czytelnik c, dbo.Wypozyczenie w\n",
                "    WHERE DATEDIFF(day, w.[Data], cast(getdate() as Date)) >= @days_no\n",
                "    GROUP BY c.PESEL, c.Czytelnik_ID"
            ],
            "metadata": {
                "azdata_cell_guid": "5db7dc84-ce02-4cdd-bd50-60a859d2d070",
                "tags": []
            },
            "outputs": [
                {
                    "output_type": "display_data",
                    "data": {
                        "text/html": "Commands completed successfully."
                    },
                    "metadata": {}
                },
                {
                    "output_type": "display_data",
                    "data": {
                        "text/html": "Total execution time: 00:00:00.043"
                    },
                    "metadata": {}
                }
            ],
            "execution_count": 41
        },
        {
            "cell_type": "code",
            "source": [
                "SELECT * FROM task1(100)"
            ],
            "metadata": {
                "azdata_cell_guid": "23d5c716-5ac5-47b6-98d7-7b992817cca6"
            },
            "outputs": [
                {
                    "output_type": "display_data",
                    "data": {
                        "text/html": "(3 rows affected)"
                    },
                    "metadata": {}
                },
                {
                    "output_type": "display_data",
                    "data": {
                        "text/html": "Total execution time: 00:00:00.036"
                    },
                    "metadata": {}
                },
                {
                    "output_type": "execute_result",
                    "metadata": {},
                    "execution_count": 5,
                    "data": {
                        "application/vnd.dataresource+json": {
                            "schema": {
                                "fields": [
                                    {
                                        "name": "PESEL"
                                    },
                                    {
                                        "name": "speciments"
                                    }
                                ]
                            },
                            "data": [
                                {
                                    "0": "55101011111",
                                    "1": "13"
                                },
                                {
                                    "0": "60101033333",
                                    "1": "13"
                                },
                                {
                                    "0": "65120122222",
                                    "1": "13"
                                }
                            ]
                        },
                        "text/html": [
                            "<table>",
                            "<tr><th>PESEL</th><th>speciments</th></tr>",
                            "<tr><td>55101011111</td><td>13</td></tr>",
                            "<tr><td>60101033333</td><td>13</td></tr>",
                            "<tr><td>65120122222</td><td>13</td></tr>",
                            "</table>"
                        ]
                    }
                }
            ],
            "execution_count": 5
        },
        {
            "cell_type": "markdown",
            "source": [
                "# Task 2\n",
                "\n",
                "Create tables firstnames(PK id, firstname), lastnames(PK id, lastname) and fldata(PK firstname, PK lastname) where PK indicates the columns which should constitute the primary keys. Generate test data into tables firstnames and lastnames, then create a procedure which takes n as an input and in result (1) removes the current content, (2) inserts n random pairs (firstname, lastname) into the table fldata. In case n is larger than the number all possible pairs, an appropriate error should be communicate using THROW. Moreover, as primary key is defined on both columns (firstname,lastname) generation procedure needs to ensure that each pair is generated only once."
            ],
            "metadata": {
                "azdata_cell_guid": "80e322e6-03d7-452d-9c1c-6b8a90a18dd0"
            }
        },
        {
            "cell_type": "code",
            "source": [
                "-- create tables\n",
                "DROP TABLE IF EXISTS firstnames\n",
                "DROP TABLE IF EXISTS lastnames\n",
                "DROP TABLE IF EXISTS fldata\n",
                "\n",
                "CREATE TABLE firstnames (\n",
                "    id INT IDENTITY,\n",
                "    firstname VARCHAR(30),\n",
                "    CONSTRAINT Firstnames_id_PK PRIMARY KEY (id),\n",
                ");\n",
                "\n",
                "CREATE TABLE lastnames (\n",
                "    id INT IDENTITY,\n",
                "    lastname VARCHAR(30),\n",
                "    CONSTRAINT Lastnames_id_PK PRIMARY KEY (id),\n",
                ");\n",
                "\n",
                "CREATE TABLE fldata (\n",
                "    firstname VARCHAR(30),\n",
                "    lastname VARCHAR(30),\n",
                "    CONSTRAINT PK_Person_task2 PRIMARY KEY (firstname, lastname)\n",
                ");\n",
                "\n",
                "INSERT INTO firstnames (firstname) VALUES\n",
                "('Karol'),\n",
                "('Piotr'),\n",
                "('Maciej'),\n",
                "('Szymon'),\n",
                "('Paweł'),\n",
                "('Jacek'),\n",
                "('Marcin'),\n",
                "('Kamil'),\n",
                "('Norbert'),\n",
                "('Maciej'),\n",
                "('Adam'),\n",
                "('Dawid'),\n",
                "('Daniel');\n",
                "\n",
                "INSERT INTO lastnames (lastname) VALUES\n",
                "('Guzikowski'),\n",
                "('Mały'),\n",
                "('Nowak'),\n",
                "('Kowalski'),\n",
                "('Łysek'),\n",
                "('Kowalczyk'),\n",
                "('Osiński'),\n",
                "('Prus'),\n",
                "('Sienkiewicz'),\n",
                "('Ryba');"
            ],
            "metadata": {
                "azdata_cell_guid": "4fe88d04-099e-4ab1-b7d1-d911967b59b0"
            },
            "outputs": [
                {
                    "output_type": "display_data",
                    "data": {
                        "text/html": "(13 rows affected)"
                    },
                    "metadata": {}
                },
                {
                    "output_type": "display_data",
                    "data": {
                        "text/html": "(10 rows affected)"
                    },
                    "metadata": {}
                },
                {
                    "output_type": "display_data",
                    "data": {
                        "text/html": "Total execution time: 00:00:00.104"
                    },
                    "metadata": {}
                }
            ],
            "execution_count": 6
        },
        {
            "cell_type": "code",
            "source": [
                "DROP PROCEDURE IF EXISTS task2"
            ],
            "metadata": {
                "azdata_cell_guid": "7acbcea1-2256-420a-9328-a66b38f97e92"
            },
            "outputs": [
                {
                    "output_type": "display_data",
                    "data": {
                        "text/html": "Commands completed successfully."
                    },
                    "metadata": {}
                },
                {
                    "output_type": "display_data",
                    "data": {
                        "text/html": "Total execution time: 00:00:00.042"
                    },
                    "metadata": {}
                }
            ],
            "execution_count": 11
        },
        {
            "cell_type": "code",
            "source": [
                "CREATE PROCEDURE task2 @n INT\n",
                "AS\n",
                "BEGIN\n",
                "    DELETE FROM fldata\n",
                "    DECLARE @i INT = 1, @ready_pairs INT = 0\n",
                "    BEGIN TRY\n",
                "        WHILE @ready_pairs <= @n\n",
                "        BEGIN\n",
                "            DECLARE @j INT = 1, @max INT\n",
                "            SELECT @max = COUNT(lastname) FROM lastnames\n",
                "            WHILE @ready_pairs <= @n AND @j <= @max\n",
                "            BEGIN\n",
                "                DECLARE @fname VARCHAR(30), @lname VARCHAR(30)\n",
                "                SELECT @fname = firstname FROM firstnames WHERE id = @i\n",
                "                SELECT @lname = lastname FROM lastnames WHERE id = @j\n",
                "                INSERT INTO fldata (firstname, lastname) VALUES (@fname, @lname)\n",
                "                SET @j = @j + 1\n",
                "                SET @ready_pairs = @ready_pairs + 1\n",
                "            END\n",
                "            SET @i = @i + 1\n",
                "        END\n",
                "    END TRY\n",
                "    BEGIN CATCH\n",
                "        PRINT('n is too big!');\n",
                "        THROW;\n",
                "    END CATCH;\n",
                "END"
            ],
            "metadata": {
                "azdata_cell_guid": "21e86d8c-641d-4792-9862-7c0b76f8a8fa"
            },
            "outputs": [
                {
                    "output_type": "display_data",
                    "data": {
                        "text/html": "Commands completed successfully."
                    },
                    "metadata": {}
                },
                {
                    "output_type": "display_data",
                    "data": {
                        "text/html": "Total execution time: 00:00:00.041"
                    },
                    "metadata": {}
                }
            ],
            "execution_count": 12
        },
        {
            "cell_type": "code",
            "source": [
                "EXEC task2 @n = 10000\n",
                "SELECT * FROM fldata"
            ],
            "metadata": {
                "azdata_cell_guid": "1bd0124c-b18f-4471-ae51-c135f248f060"
            },
            "outputs": [
                {
                    "output_type": "display_data",
                    "data": {
                        "text/html": "(41 rows affected)"
                    },
                    "metadata": {}
                },
                {
                    "output_type": "display_data",
                    "data": {
                        "text/html": "(1 row affected)"
                    },
                    "metadata": {}
                },
                {
                    "output_type": "display_data",
                    "data": {
                        "text/html": "(1 row affected)"
                    },
                    "metadata": {}
                },
                {
                    "output_type": "display_data",
                    "data": {
                        "text/html": "(1 row affected)"
                    },
                    "metadata": {}
                },
                {
                    "output_type": "display_data",
                    "data": {
                        "text/html": "(1 row affected)"
                    },
                    "metadata": {}
                },
                {
                    "output_type": "display_data",
                    "data": {
                        "text/html": "(1 row affected)"
                    },
                    "metadata": {}
                },
                {
                    "output_type": "display_data",
                    "data": {
                        "text/html": "(1 row affected)"
                    },
                    "metadata": {}
                },
                {
                    "output_type": "display_data",
                    "data": {
                        "text/html": "(1 row affected)"
                    },
                    "metadata": {}
                },
                {
                    "output_type": "display_data",
                    "data": {
                        "text/html": "(1 row affected)"
                    },
                    "metadata": {}
                },
                {
                    "output_type": "display_data",
                    "data": {
                        "text/html": "(1 row affected)"
                    },
                    "metadata": {}
                },
                {
                    "output_type": "display_data",
                    "data": {
                        "text/html": "(1 row affected)"
                    },
                    "metadata": {}
                },
                {
                    "output_type": "display_data",
                    "data": {
                        "text/html": "(1 row affected)"
                    },
                    "metadata": {}
                },
                {
                    "output_type": "display_data",
                    "data": {
                        "text/html": "(1 row affected)"
                    },
                    "metadata": {}
                },
                {
                    "output_type": "display_data",
                    "data": {
                        "text/html": "(1 row affected)"
                    },
                    "metadata": {}
                },
                {
                    "output_type": "display_data",
                    "data": {
                        "text/html": "(1 row affected)"
                    },
                    "metadata": {}
                },
                {
                    "output_type": "display_data",
                    "data": {
                        "text/html": "(1 row affected)"
                    },
                    "metadata": {}
                },
                {
                    "output_type": "display_data",
                    "data": {
                        "text/html": "(1 row affected)"
                    },
                    "metadata": {}
                },
                {
                    "output_type": "display_data",
                    "data": {
                        "text/html": "(1 row affected)"
                    },
                    "metadata": {}
                },
                {
                    "output_type": "display_data",
                    "data": {
                        "text/html": "(1 row affected)"
                    },
                    "metadata": {}
                },
                {
                    "output_type": "display_data",
                    "data": {
                        "text/html": "(1 row affected)"
                    },
                    "metadata": {}
                },
                {
                    "output_type": "display_data",
                    "data": {
                        "text/html": "(1 row affected)"
                    },
                    "metadata": {}
                },
                {
                    "output_type": "display_data",
                    "data": {
                        "text/html": "(1 row affected)"
                    },
                    "metadata": {}
                },
                {
                    "output_type": "display_data",
                    "data": {
                        "text/html": "(1 row affected)"
                    },
                    "metadata": {}
                },
                {
                    "output_type": "display_data",
                    "data": {
                        "text/html": "(1 row affected)"
                    },
                    "metadata": {}
                },
                {
                    "output_type": "display_data",
                    "data": {
                        "text/html": "(1 row affected)"
                    },
                    "metadata": {}
                },
                {
                    "output_type": "display_data",
                    "data": {
                        "text/html": "(1 row affected)"
                    },
                    "metadata": {}
                },
                {
                    "output_type": "display_data",
                    "data": {
                        "text/html": "(1 row affected)"
                    },
                    "metadata": {}
                },
                {
                    "output_type": "display_data",
                    "data": {
                        "text/html": "(1 row affected)"
                    },
                    "metadata": {}
                },
                {
                    "output_type": "display_data",
                    "data": {
                        "text/html": "(1 row affected)"
                    },
                    "metadata": {}
                },
                {
                    "output_type": "display_data",
                    "data": {
                        "text/html": "(1 row affected)"
                    },
                    "metadata": {}
                },
                {
                    "output_type": "display_data",
                    "data": {
                        "text/html": "(1 row affected)"
                    },
                    "metadata": {}
                },
                {
                    "output_type": "display_data",
                    "data": {
                        "text/html": "(1 row affected)"
                    },
                    "metadata": {}
                },
                {
                    "output_type": "display_data",
                    "data": {
                        "text/html": "(1 row affected)"
                    },
                    "metadata": {}
                },
                {
                    "output_type": "display_data",
                    "data": {
                        "text/html": "(1 row affected)"
                    },
                    "metadata": {}
                },
                {
                    "output_type": "display_data",
                    "data": {
                        "text/html": "(1 row affected)"
                    },
                    "metadata": {}
                },
                {
                    "output_type": "display_data",
                    "data": {
                        "text/html": "(1 row affected)"
                    },
                    "metadata": {}
                },
                {
                    "output_type": "display_data",
                    "data": {
                        "text/html": "(1 row affected)"
                    },
                    "metadata": {}
                },
                {
                    "output_type": "display_data",
                    "data": {
                        "text/html": "(1 row affected)"
                    },
                    "metadata": {}
                },
                {
                    "output_type": "display_data",
                    "data": {
                        "text/html": "(1 row affected)"
                    },
                    "metadata": {}
                },
                {
                    "output_type": "display_data",
                    "data": {
                        "text/html": "(1 row affected)"
                    },
                    "metadata": {}
                },
                {
                    "output_type": "display_data",
                    "data": {
                        "text/html": "(1 row affected)"
                    },
                    "metadata": {}
                },
                {
                    "output_type": "display_data",
                    "data": {
                        "text/html": "(1 row affected)"
                    },
                    "metadata": {}
                },
                {
                    "output_type": "display_data",
                    "data": {
                        "text/html": "(1 row affected)"
                    },
                    "metadata": {}
                },
                {
                    "output_type": "display_data",
                    "data": {
                        "text/html": "(1 row affected)"
                    },
                    "metadata": {}
                },
                {
                    "output_type": "display_data",
                    "data": {
                        "text/html": "(1 row affected)"
                    },
                    "metadata": {}
                },
                {
                    "output_type": "display_data",
                    "data": {
                        "text/html": "(1 row affected)"
                    },
                    "metadata": {}
                },
                {
                    "output_type": "display_data",
                    "data": {
                        "text/html": "(1 row affected)"
                    },
                    "metadata": {}
                },
                {
                    "output_type": "display_data",
                    "data": {
                        "text/html": "(1 row affected)"
                    },
                    "metadata": {}
                },
                {
                    "output_type": "display_data",
                    "data": {
                        "text/html": "(1 row affected)"
                    },
                    "metadata": {}
                },
                {
                    "output_type": "display_data",
                    "data": {
                        "text/html": "(1 row affected)"
                    },
                    "metadata": {}
                },
                {
                    "output_type": "display_data",
                    "data": {
                        "text/html": "(1 row affected)"
                    },
                    "metadata": {}
                },
                {
                    "output_type": "display_data",
                    "data": {
                        "text/html": "(1 row affected)"
                    },
                    "metadata": {}
                },
                {
                    "output_type": "display_data",
                    "data": {
                        "text/html": "(1 row affected)"
                    },
                    "metadata": {}
                },
                {
                    "output_type": "display_data",
                    "data": {
                        "text/html": "(1 row affected)"
                    },
                    "metadata": {}
                },
                {
                    "output_type": "display_data",
                    "data": {
                        "text/html": "(1 row affected)"
                    },
                    "metadata": {}
                },
                {
                    "output_type": "display_data",
                    "data": {
                        "text/html": "(1 row affected)"
                    },
                    "metadata": {}
                },
                {
                    "output_type": "display_data",
                    "data": {
                        "text/html": "(1 row affected)"
                    },
                    "metadata": {}
                },
                {
                    "output_type": "display_data",
                    "data": {
                        "text/html": "(1 row affected)"
                    },
                    "metadata": {}
                },
                {
                    "output_type": "display_data",
                    "data": {
                        "text/html": "(1 row affected)"
                    },
                    "metadata": {}
                },
                {
                    "output_type": "display_data",
                    "data": {
                        "text/html": "(1 row affected)"
                    },
                    "metadata": {}
                },
                {
                    "output_type": "display_data",
                    "data": {
                        "text/html": "(1 row affected)"
                    },
                    "metadata": {}
                },
                {
                    "output_type": "display_data",
                    "data": {
                        "text/html": "(1 row affected)"
                    },
                    "metadata": {}
                },
                {
                    "output_type": "display_data",
                    "data": {
                        "text/html": "(1 row affected)"
                    },
                    "metadata": {}
                },
                {
                    "output_type": "display_data",
                    "data": {
                        "text/html": "(1 row affected)"
                    },
                    "metadata": {}
                },
                {
                    "output_type": "display_data",
                    "data": {
                        "text/html": "(1 row affected)"
                    },
                    "metadata": {}
                },
                {
                    "output_type": "display_data",
                    "data": {
                        "text/html": "(1 row affected)"
                    },
                    "metadata": {}
                },
                {
                    "output_type": "display_data",
                    "data": {
                        "text/html": "(1 row affected)"
                    },
                    "metadata": {}
                },
                {
                    "output_type": "display_data",
                    "data": {
                        "text/html": "(1 row affected)"
                    },
                    "metadata": {}
                },
                {
                    "output_type": "display_data",
                    "data": {
                        "text/html": "(1 row affected)"
                    },
                    "metadata": {}
                },
                {
                    "output_type": "display_data",
                    "data": {
                        "text/html": "(1 row affected)"
                    },
                    "metadata": {}
                },
                {
                    "output_type": "display_data",
                    "data": {
                        "text/html": "(1 row affected)"
                    },
                    "metadata": {}
                },
                {
                    "output_type": "display_data",
                    "data": {
                        "text/html": "(1 row affected)"
                    },
                    "metadata": {}
                },
                {
                    "output_type": "display_data",
                    "data": {
                        "text/html": "(1 row affected)"
                    },
                    "metadata": {}
                },
                {
                    "output_type": "display_data",
                    "data": {
                        "text/html": "(1 row affected)"
                    },
                    "metadata": {}
                },
                {
                    "output_type": "display_data",
                    "data": {
                        "text/html": "(1 row affected)"
                    },
                    "metadata": {}
                },
                {
                    "output_type": "display_data",
                    "data": {
                        "text/html": "(1 row affected)"
                    },
                    "metadata": {}
                },
                {
                    "output_type": "display_data",
                    "data": {
                        "text/html": "(1 row affected)"
                    },
                    "metadata": {}
                },
                {
                    "output_type": "display_data",
                    "data": {
                        "text/html": "(1 row affected)"
                    },
                    "metadata": {}
                },
                {
                    "output_type": "display_data",
                    "data": {
                        "text/html": "(1 row affected)"
                    },
                    "metadata": {}
                },
                {
                    "output_type": "display_data",
                    "data": {
                        "text/html": "(1 row affected)"
                    },
                    "metadata": {}
                },
                {
                    "output_type": "display_data",
                    "data": {
                        "text/html": "(1 row affected)"
                    },
                    "metadata": {}
                },
                {
                    "output_type": "display_data",
                    "data": {
                        "text/html": "(1 row affected)"
                    },
                    "metadata": {}
                },
                {
                    "output_type": "display_data",
                    "data": {
                        "text/html": "(1 row affected)"
                    },
                    "metadata": {}
                },
                {
                    "output_type": "display_data",
                    "data": {
                        "text/html": "(1 row affected)"
                    },
                    "metadata": {}
                },
                {
                    "output_type": "display_data",
                    "data": {
                        "text/html": "(1 row affected)"
                    },
                    "metadata": {}
                },
                {
                    "output_type": "display_data",
                    "data": {
                        "text/html": "(1 row affected)"
                    },
                    "metadata": {}
                },
                {
                    "output_type": "display_data",
                    "data": {
                        "text/html": "(1 row affected)"
                    },
                    "metadata": {}
                },
                {
                    "output_type": "display_data",
                    "data": {
                        "text/html": "(1 row affected)"
                    },
                    "metadata": {}
                },
                {
                    "output_type": "display_data",
                    "data": {
                        "text/html": "(1 row affected)"
                    },
                    "metadata": {}
                },
                {
                    "output_type": "display_data",
                    "data": {
                        "text/html": "(1 row affected)"
                    },
                    "metadata": {}
                },
                {
                    "output_type": "display_data",
                    "data": {
                        "text/html": "(1 row affected)"
                    },
                    "metadata": {}
                },
                {
                    "output_type": "display_data",
                    "data": {
                        "text/html": "(0 rows affected)"
                    },
                    "metadata": {}
                },
                {
                    "output_type": "display_data",
                    "data": {
                        "text/html": "n is too big!"
                    },
                    "metadata": {}
                },
                {
                    "output_type": "error",
                    "evalue": "Msg 2627, Level 14, State 1, Procedure task2, Line 16\nViolation of PRIMARY KEY constraint 'PK_Person_task2'. Cannot insert duplicate key in object 'dbo.fldata'. The duplicate key value is (Maciej, Guzikowski).",
                    "ename": "",
                    "traceback": []
                },
                {
                    "output_type": "display_data",
                    "data": {
                        "text/html": "Total execution time: 00:00:00.555"
                    },
                    "metadata": {}
                }
            ],
            "execution_count": 13
        },
        {
            "cell_type": "markdown",
            "source": [
                "# Task 3\n",
                "\n",
                "Create procedure taking a table (czytelnik id) of readers IDs as an input and returning in result a table (reader id,sum days) which provides the total sum of number of days a specific reader has borrowed all specimens so far."
            ],
            "metadata": {
                "azdata_cell_guid": "e75f7293-1e22-42ba-8a98-468508313d9f"
            }
        },
        {
            "cell_type": "code",
            "source": [
                "DROP TYPE IF EXISTS task3type\n",
                "\n",
                "CREATE TYPE task3type AS TABLE (\n",
                "    czytelnik_id INT\n",
                ");"
            ],
            "metadata": {
                "azdata_cell_guid": "0cff27da-6388-4640-8892-886cf3806a32",
                "tags": []
            },
            "outputs": [
                {
                    "output_type": "error",
                    "ename": "",
                    "evalue": "Msg 3732, Level 16, State 1, Line 1\nCannot drop type 'task3type' because it is being referenced by object 'task3'. There may be other objects that reference this type.",
                    "traceback": []
                },
                {
                    "output_type": "display_data",
                    "data": {
                        "text/html": "Total execution time: 00:00:00.049"
                    },
                    "metadata": {}
                }
            ],
            "execution_count": 42
        },
        {
            "cell_type": "code",
            "source": [
                "DROP FUNCTION IF EXISTS task3"
            ],
            "metadata": {
                "azdata_cell_guid": "bdd975f0-38c5-47c1-a1da-c82459c75d55"
            },
            "outputs": [
                {
                    "output_type": "display_data",
                    "data": {
                        "text/html": "Commands completed successfully."
                    },
                    "metadata": {}
                },
                {
                    "output_type": "display_data",
                    "data": {
                        "text/html": "Total execution time: 00:00:00.045"
                    },
                    "metadata": {}
                }
            ],
            "execution_count": 47
        },
        {
            "cell_type": "code",
            "source": [
                "CREATE FUNCTION task3 (\n",
                "    @TableType task3type READONLY\n",
                ")\n",
                "RETURNS @tablica TABLE(\n",
                "    reader_id INT,\n",
                "    sum_days INT\n",
                ")\n",
                "BEGIN\n",
                "    DECLARE @idColumn INT\n",
                "    SELECT @idColumn = min(czytelnik_id) from @TableType\n",
                "    WHILE @idColumn IS NOT NULL\n",
                "    BEGIN\n",
                "        DECLARE @sum_days INT\n",
                "        SELECT @sum_days = SUM(liczba_dni) FROM Wypozyczenie WHERE Czytelnik_ID = @idColumn\n",
                "        INSERT INTO @tablica (reader_id, sum_days) VALUES (@idColumn, @sum_days)\n",
                "        SELECT @idColumn = min(czytelnik_id) from @TableType WHERE czytelnik_id > @idColumn \n",
                "    END\n",
                "    RETURN\n",
                "END"
            ],
            "metadata": {
                "azdata_cell_guid": "70af05ca-bf87-4025-889b-8c81a8f644be",
                "tags": [
                    "hide_input"
                ]
            },
            "outputs": [
                {
                    "output_type": "display_data",
                    "data": {
                        "text/html": "Commands completed successfully."
                    },
                    "metadata": {}
                },
                {
                    "output_type": "display_data",
                    "data": {
                        "text/html": "Total execution time: 00:00:00.050"
                    },
                    "metadata": {}
                }
            ],
            "execution_count": 48
        },
        {
            "cell_type": "code",
            "source": [
                "DECLARE @task3type1 task3type\n",
                "\n",
                "INSERT INTO @task3type1 (czytelnik_id) VALUES\n",
                "(1),\n",
                "(2),\n",
                "(3);\n",
                "\n",
                "SELECT * FROM task3(@task3type1)"
            ],
            "metadata": {
                "azdata_cell_guid": "72f79281-984d-4576-b40f-17812f9cc1b7"
            },
            "outputs": [
                {
                    "output_type": "display_data",
                    "data": {
                        "text/html": "(3 rows affected)"
                    },
                    "metadata": {}
                },
                {
                    "output_type": "display_data",
                    "data": {
                        "text/html": "(3 rows affected)"
                    },
                    "metadata": {}
                },
                {
                    "output_type": "display_data",
                    "data": {
                        "text/html": "Total execution time: 00:00:00.058"
                    },
                    "metadata": {}
                },
                {
                    "output_type": "execute_result",
                    "execution_count": 55,
                    "data": {
                        "application/vnd.dataresource+json": {
                            "schema": {
                                "fields": [
                                    {
                                        "name": "reader_id"
                                    },
                                    {
                                        "name": "sum_days"
                                    }
                                ]
                            },
                            "data": [
                                {
                                    "0": "1",
                                    "1": "87"
                                },
                                {
                                    "0": "2",
                                    "1": "24"
                                },
                                {
                                    "0": "3",
                                    "1": "35"
                                }
                            ]
                        },
                        "text/html": "<table><tr><th>reader_id</th><th>sum_days</th></tr><tr><td>1</td><td>87</td></tr><tr><td>2</td><td>24</td></tr><tr><td>3</td><td>35</td></tr></table>"
                    },
                    "metadata": {}
                }
            ],
            "execution_count": null
        }
    ]
}