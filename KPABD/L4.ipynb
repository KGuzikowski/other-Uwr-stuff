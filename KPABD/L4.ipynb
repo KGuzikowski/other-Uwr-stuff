{
    "metadata": {
        "kernelspec": {
            "name": "SQL",
            "display_name": "SQL",
            "language": "sql"
        },
        "language_info": {
            "name": "sql",
            "version": ""
        }
    },
    "nbformat_minor": 2,
    "nbformat": 4,
    "cells": [
        {
            "cell_type": "markdown",
            "source": [
                "# Task 2"
            ],
            "metadata": {
                "azdata_cell_guid": "00d91b9b-c9d6-4c62-960e-0505e2d886af"
            }
        },
        {
            "cell_type": "code",
            "source": [
                "-- Base table:\n",
                "DROP TABLE IF EXISTS AppointmentsBase\n",
                "\n",
                "CREATE TABLE dbo.AppointmentsBase (\n",
                "    ID INT IDENTITY, \n",
                "    Patient VARCHAR(100),\n",
                "    PatientAddress VARCHAR(200),\n",
                "    AppointmentTimeAndLocation VARCHAR(200),\n",
                "    Price DECIMAL(10, 2),\n",
                "    Physician VARCHAR(100),\n",
                "    AppointmentCause VARCHAR(200),\n",
                "    CONSTRAINT AppointmentsBase_PK PRIMARY KEY (ID)\n",
                ");\n",
                "\n",
                "INSERT INTO dbo.AppointmentsBase VALUES\n",
                "('Jan Kot', '6 Dolna Street, 44-444 Bór', '2029-02-01 12:30, room 12', 300.0, 'Oleg Wyrwiząb', 'Dental: Denture fitting in (. . . )'),\n",
                "('Maria Mysz', '9 Górna Street, 55-555 Las', '2030-01-04 11:45, room 7',  150.0, 'Ewa Ciarka', 'Dermatology: Birthmark inspection (. . . )')\n",
                "\n",
                "SELECT * FROM dbo.AppointmentsBase\n",
                "\n",
                ""
            ],
            "metadata": {
                "azdata_cell_guid": "68652d1e-44f8-4dbd-baa4-45f697235609"
            },
            "outputs": [
                {
                    "output_type": "display_data",
                    "data": {
                        "text/html": "(2 rows affected)"
                    },
                    "metadata": {}
                },
                {
                    "output_type": "display_data",
                    "data": {
                        "text/html": "(2 rows affected)"
                    },
                    "metadata": {}
                },
                {
                    "output_type": "display_data",
                    "data": {
                        "text/html": "Total execution time: 00:00:00.066"
                    },
                    "metadata": {}
                },
                {
                    "output_type": "execute_result",
                    "metadata": {},
                    "execution_count": 14,
                    "data": {
                        "application/vnd.dataresource+json": {
                            "schema": {
                                "fields": [
                                    {
                                        "name": "ID"
                                    },
                                    {
                                        "name": "Patient"
                                    },
                                    {
                                        "name": "PatientAddress"
                                    },
                                    {
                                        "name": "AppointmentTimeAndLocation"
                                    },
                                    {
                                        "name": "Price"
                                    },
                                    {
                                        "name": "Physician"
                                    },
                                    {
                                        "name": "AppointmentCause"
                                    }
                                ]
                            },
                            "data": [
                                {
                                    "0": "1",
                                    "1": "Jan Kot",
                                    "2": "6 Dolna Street, 44-444 Bór",
                                    "3": "2029-02-01 12:30, room 12",
                                    "4": "300.00",
                                    "5": "Oleg Wyrwizab",
                                    "6": "Dental: Denture fitting in (. . . )"
                                },
                                {
                                    "0": "2",
                                    "1": "Maria Mysz",
                                    "2": "9 Górna Street, 55-555 Las",
                                    "3": "2030-01-04 11:45, room 7",
                                    "4": "150.00",
                                    "5": "Ewa Ciarka",
                                    "6": "Dermatology: Birthmark inspection (. . . )"
                                }
                            ]
                        },
                        "text/html": [
                            "<table>",
                            "<tr><th>ID</th><th>Patient</th><th>PatientAddress</th><th>AppointmentTimeAndLocation</th><th>Price</th><th>Physician</th><th>AppointmentCause</th></tr>",
                            "<tr><td>1</td><td>Jan Kot</td><td>6 Dolna Street, 44-444 Bór</td><td>2029-02-01 12:30, room 12</td><td>300.00</td><td>Oleg Wyrwizab</td><td>Dental: Denture fitting in (. . . )</td></tr>",
                            "<tr><td>2</td><td>Maria Mysz</td><td>9 Górna Street, 55-555 Las</td><td>2030-01-04 11:45, room 7</td><td>150.00</td><td>Ewa Ciarka</td><td>Dermatology: Birthmark inspection (. . . )</td></tr>",
                            "</table>"
                        ]
                    }
                }
            ],
            "execution_count": 14
        },
        {
            "cell_type": "code",
            "source": [
                "-- 1NF table:\n",
                "DROP TABLE IF EXISTS dbo.Appointments1NF\n",
                "\n",
                "CREATE TABLE dbo.Appointments1NF (\n",
                "    ID INT IDENTITY, \n",
                "    Patient VARCHAR(100),\n",
                "    PatientAddress VARCHAR(100),\n",
                "    PatientPostalCode VARCHAR(6),\n",
                "    PatientCity VARCHAR(6),\n",
                "    AppointmentTime DATETIME,\n",
                "    AppointmentLocation VARCHAR(10),\n",
                "    Price DECIMAL(10, 2),\n",
                "    Physician VARCHAR(100),\n",
                "    AppointmentType VARCHAR(50),\n",
                "    AppointmentCause VARCHAR(200),\n",
                "    CONSTRAINT Appointments1NF_PK PRIMARY KEY (ID)\n",
                ");\n",
                "\n",
                "INSERT INTO dbo.Appointments1NF VALUES\n",
                "('Jan Kot', '6 Dolna Street', '44-444', 'Bór', CONVERT(datetime, '01/02/2029 12:30:00', 103), 'room 12', 300.0, 'Oleg Wyrwiząb', 'Dental', 'Denture fitting in (. . . )'),\n",
                "('Maria Mysz', '9 Górna Street', '55-555', 'Las', CONVERT(datetime, '04/01/2030 11:45:00', 103), 'room 7', 150.0, 'Ewa Ciarka', 'Dermatology', 'Birthmark inspection (. . . )')\n",
                "\n",
                "SELECT * FROM dbo.Appointments1NF\n",
                ""
            ],
            "metadata": {
                "azdata_cell_guid": "ebc3885f-42d8-418d-b2bc-3926b37d277a"
            },
            "outputs": [
                {
                    "output_type": "display_data",
                    "data": {
                        "text/html": "(2 rows affected)"
                    },
                    "metadata": {}
                },
                {
                    "output_type": "display_data",
                    "data": {
                        "text/html": "(2 rows affected)"
                    },
                    "metadata": {}
                },
                {
                    "output_type": "display_data",
                    "data": {
                        "text/html": "Total execution time: 00:00:00.064"
                    },
                    "metadata": {}
                },
                {
                    "output_type": "execute_result",
                    "metadata": {},
                    "execution_count": 15,
                    "data": {
                        "application/vnd.dataresource+json": {
                            "schema": {
                                "fields": [
                                    {
                                        "name": "ID"
                                    },
                                    {
                                        "name": "Patient"
                                    },
                                    {
                                        "name": "PatientAddress"
                                    },
                                    {
                                        "name": "PatientPostalCode"
                                    },
                                    {
                                        "name": "PatientCity"
                                    },
                                    {
                                        "name": "AppointmentTime"
                                    },
                                    {
                                        "name": "AppointmentLocation"
                                    },
                                    {
                                        "name": "Price"
                                    },
                                    {
                                        "name": "Physician"
                                    },
                                    {
                                        "name": "AppointmentType"
                                    },
                                    {
                                        "name": "AppointmentCause"
                                    }
                                ]
                            },
                            "data": [
                                {
                                    "0": "1",
                                    "1": "Jan Kot",
                                    "2": "6 Dolna Street",
                                    "3": "44-444",
                                    "4": "Bór",
                                    "5": "2029-02-01 12:30:00.000",
                                    "6": "room 12",
                                    "7": "300.00",
                                    "8": "Oleg Wyrwizab",
                                    "9": "Dental",
                                    "10": "Denture fitting in (. . . )"
                                },
                                {
                                    "0": "2",
                                    "1": "Maria Mysz",
                                    "2": "9 Górna Street",
                                    "3": "55-555",
                                    "4": "Las",
                                    "5": "2030-01-04 11:45:00.000",
                                    "6": "room 7",
                                    "7": "150.00",
                                    "8": "Ewa Ciarka",
                                    "9": "Dermatology",
                                    "10": "Birthmark inspection (. . . )"
                                }
                            ]
                        },
                        "text/html": [
                            "<table>",
                            "<tr><th>ID</th><th>Patient</th><th>PatientAddress</th><th>PatientPostalCode</th><th>PatientCity</th><th>AppointmentTime</th><th>AppointmentLocation</th><th>Price</th><th>Physician</th><th>AppointmentType</th><th>AppointmentCause</th></tr>",
                            "<tr><td>1</td><td>Jan Kot</td><td>6 Dolna Street</td><td>44-444</td><td>Bór</td><td>2029-02-01 12:30:00.000</td><td>room 12</td><td>300.00</td><td>Oleg Wyrwizab</td><td>Dental</td><td>Denture fitting in (. . . )</td></tr>",
                            "<tr><td>2</td><td>Maria Mysz</td><td>9 Górna Street</td><td>55-555</td><td>Las</td><td>2030-01-04 11:45:00.000</td><td>room 7</td><td>150.00</td><td>Ewa Ciarka</td><td>Dermatology</td><td>Birthmark inspection (. . . )</td></tr>",
                            "</table>"
                        ]
                    }
                }
            ],
            "execution_count": 15
        },
        {
            "cell_type": "code",
            "source": [
                "-- 3NF tables:\n",
                "DROP TABLE IF EXISTS dbo.Appointments2NF\n",
                "DROP TABLE IF EXISTS dbo.Clients2NF\n",
                "\n",
                "CREATE TABLE dbo.Clients2NF (\n",
                "    ID INT IDENTITY, \n",
                "    Patient VARCHAR(100),\n",
                "    PatientAddress VARCHAR(100),\n",
                "    PatientPostalCode VARCHAR(6),\n",
                "    PatientCity VARCHAR(6),\n",
                "    CONSTRAINT Clients2NF_PK PRIMARY KEY (ID)\n",
                ");\n",
                "\n",
                "CREATE TABLE dbo.Appointments2NF (\n",
                "    ID INT IDENTITY, \n",
                "    PatientID INT,\n",
                "    AppointmentTime DATETIME,\n",
                "    AppointmentLocation VARCHAR(10),\n",
                "    Price DECIMAL(10, 2),\n",
                "    Physician VARCHAR(100),\n",
                "    AppointmentType VARCHAR(50),\n",
                "    AppointmentCause VARCHAR(200),\n",
                "    CONSTRAINT Appointments2NF_PK PRIMARY KEY (ID),\n",
                "    CONSTRAINT PatientID_FK FOREIGN KEY (PatientID) REFERENCES dbo.Clients2NF (ID) ON DELETE CASCADE\n",
                ");\n",
                "\n",
                "INSERT INTO dbo.Clients2NF VALUES\n",
                "('Jan Kot', '6 Dolna Street', '44-444', 'Bór'),\n",
                "('Maria Mysz', '9 Górna Street', '55-555', 'Las')\n",
                "\n",
                "INSERT INTO dbo.Appointments2NF VALUES\n",
                "(1, CONVERT(datetime, '01/02/2029 12:30:00', 103), 'room 12', 300.0, 'Oleg Wyrwiząb', 'Dental', 'Denture fitting in (. . . )'),\n",
                "(2, CONVERT(datetime, '04/01/2030 11:45:00', 103), 'room 7', 150.0, 'Ewa Ciarka', 'Dermatology', 'Birthmark inspection (. . . )')\n",
                "\n",
                "SELECT * FROM dbo.Clients2NF\n",
                "SELECT * FROM dbo.Appointments2NF\n",
                ""
            ],
            "metadata": {
                "azdata_cell_guid": "d9ef2b91-56e9-4b14-80bc-23dab72283f8"
            },
            "outputs": [
{
    "output_type": "display_data",
    "data": {
        "text/html": "(2 rows affected)"
    },
    "metadata": {}
}, {
    "output_type": "display_data",
    "data": {
        "text/html": "(2 rows affected)"
    },
    "metadata": {}
}, {
    "output_type": "display_data",
    "data": {
        "text/html": "(2 rows affected)"
    },
    "metadata": {}
}, {
    "output_type": "display_data",
    "data": {
        "text/html": "(2 rows affected)"
    },
    "metadata": {}
}, {
    "output_type": "display_data",
    "data": {
        "text/html": "Total execution time: 00:00:00.099"
    },
    "metadata": {}
}, {
    "output_type": "execute_result",
    "metadata": {},
    "execution_count": 20,
    "data": {
        "application/vnd.dataresource+json": {
            "schema": {
                "fields": [
                    {
                        "name": "ID"
                    },
                    {
                        "name": "Patient"
                    },
                    {
                        "name": "PatientAddress"
                    },
                    {
                        "name": "PatientPostalCode"
                    },
                    {
                        "name": "PatientCity"
                    }
                ]
            },
            "data": [
                {
                    "0": "1",
                    "1": "Jan Kot",
                    "2": "6 Dolna Street",
                    "3": "44-444",
                    "4": "Bór"
                },
                {
                    "0": "2",
                    "1": "Maria Mysz",
                    "2": "9 Górna Street",
                    "3": "55-555",
                    "4": "Las"
                }
            ]
        },
        "text/html": [
            "<table>",
            "<tr><th>ID</th><th>Patient</th><th>PatientAddress</th><th>PatientPostalCode</th><th>PatientCity</th></tr>",
            "<tr><td>1</td><td>Jan Kot</td><td>6 Dolna Street</td><td>44-444</td><td>Bór</td></tr>",
            "<tr><td>2</td><td>Maria Mysz</td><td>9 Górna Street</td><td>55-555</td><td>Las</td></tr>",
            "</table>"
        ]
    }
}, {
    "output_type": "execute_result",
    "metadata": {},
    "execution_count": 20,
    "data": {
        "application/vnd.dataresource+json": {
            "schema": {
                "fields": [
                    {
                        "name": "ID"
                    },
                    {
                        "name": "PatientID"
                    },
                    {
                        "name": "AppointmentTime"
                    },
                    {
                        "name": "AppointmentLocation"
                    },
                    {
                        "name": "Price"
                    },
                    {
                        "name": "Physician"
                    },
                    {
                        "name": "AppointmentType"
                    },
                    {
                        "name": "AppointmentCause"
                    }
                ]
            },
            "data": [
                {
                    "0": "1",
                    "1": "1",
                    "2": "2029-02-01 12:30:00.000",
                    "3": "room 12",
                    "4": "300.00",
                    "5": "Oleg Wyrwizab",
                    "6": "Dental",
                    "7": "Denture fitting in (. . . )"
                },
                {
                    "0": "2",
                    "1": "2",
                    "2": "2030-01-04 11:45:00.000",
                    "3": "room 7",
                    "4": "150.00",
                    "5": "Ewa Ciarka",
                    "6": "Dermatology",
                    "7": "Birthmark inspection (. . . )"
                }
            ]
        },
        "text/html": [
            "<table>",
            "<tr><th>ID</th><th>PatientID</th><th>AppointmentTime</th><th>AppointmentLocation</th><th>Price</th><th>Physician</th><th>AppointmentType</th><th>AppointmentCause</th></tr>",
            "<tr><td>1</td><td>1</td><td>2029-02-01 12:30:00.000</td><td>room 12</td><td>300.00</td><td>Oleg Wyrwizab</td><td>Dental</td><td>Denture fitting in (. . . )</td></tr>",
            "<tr><td>2</td><td>2</td><td>2030-01-04 11:45:00.000</td><td>room 7</td><td>150.00</td><td>Ewa Ciarka</td><td>Dermatology</td><td>Birthmark inspection (. . . )</td></tr>",
            "</table>"
        ]
    }
}
],
            "execution_count": null
        },
        {
            "cell_type": "markdown",
            "source": [
                "Stack overflow ([https://stackoverflow.com/questions/6023091/normalisation-2nf-vs-3nf](https://stackoverflow.com/questions/6023091/normalisation-2nf-vs-3nf)) says:\n",
                "\"<span style=\"background-color: rgb(255, 255, 255); color: rgb(36, 39, 41); font-family: Arial, &quot;Helvetica Neue&quot;, Helvetica, sans-serif; font-size: 15px;\">You have achieved the 3rd NF when there are no relations between the key and other columns that don't depend on it.</span>\"\n",
                "So I have 2 ideas:\n",
                "1. Let's remove \"AppointmentLocation\" since only having physican name is sufficient enough and let's also remove \"AppointmentType\" because we can figure it out from \"AppointmentCause\"\n",
                "2. Create separate table for physician (here \"AppointmentLocation\" could be stored).\n",
                "I will implement only the first option."
            ],
            "metadata": {
                "azdata_cell_guid": "ad7514d9-cbdc-42a7-8358-3243d463db35"
            }
        },
        {
            "cell_type": "code",
            "source": [
                "-- 2NF tables:\n",
                "DROP TABLE IF EXISTS dbo.Appointments3NF\n",
                "DROP TABLE IF EXISTS dbo.Clients3NF\n",
                "\n",
                "CREATE TABLE dbo.Clients3NF (\n",
                "    ID INT IDENTITY, \n",
                "    Patient VARCHAR(100),\n",
                "    PatientAddress VARCHAR(100),\n",
                "    PatientPostalCode VARCHAR(6),\n",
                "    PatientCity VARCHAR(6),\n",
                "    CONSTRAINT Clients3NF_PK PRIMARY KEY (ID)\n",
                ");\n",
                "\n",
                "CREATE TABLE dbo.Appointments3NF (\n",
                "    ID INT IDENTITY, \n",
                "    PatientID INT,\n",
                "    AppointmentTime DATETIME,\n",
                "    Price DECIMAL(10, 2),\n",
                "    Physician VARCHAR(100),\n",
                "    AppointmentCause VARCHAR(200),\n",
                "    CONSTRAINT Appointments3NF_PK PRIMARY KEY (ID),\n",
                "    CONSTRAINT secNFPatientID_FK FOREIGN KEY (PatientID) REFERENCES dbo.Clients3NF (ID) ON DELETE CASCADE\n",
                ");\n",
                "\n",
                "INSERT INTO dbo.Clients3NF VALUES\n",
                "('Jan Kot', '6 Dolna Street', '44-444', 'Bór'),\n",
                "('Maria Mysz', '9 Górna Street', '55-555', 'Las')\n",
                "\n",
                "INSERT INTO dbo.Appointments3NF VALUES\n",
                "(1, CONVERT(datetime, '01/02/2029 12:30:00', 103), 300.0, 'Oleg Wyrwiząb', 'Denture fitting in (. . . )'),\n",
                "(2, CONVERT(datetime, '04/01/2030 11:45:00', 103), 150.0, 'Ewa Ciarka', 'Birthmark inspection (. . . )')\n",
                "\n",
                "SELECT * FROM dbo.Clients3NF\n",
                "SELECT * FROM dbo.Appointments3NF\n",
                ""
            ],
            "metadata": {
                "azdata_cell_guid": "e154f1b6-8476-4c37-a060-cf668c9a6fc8"
            },
            "outputs": [
{
    "output_type": "display_data",
    "data": {
        "text/html": "(2 rows affected)"
    },
    "metadata": {}
}, {
    "output_type": "display_data",
    "data": {
        "text/html": "(2 rows affected)"
    },
    "metadata": {}
}, {
    "output_type": "display_data",
    "data": {
        "text/html": "(2 rows affected)"
    },
    "metadata": {}
}, {
    "output_type": "display_data",
    "data": {
        "text/html": "(2 rows affected)"
    },
    "metadata": {}
}, {
    "output_type": "display_data",
    "data": {
        "text/html": "Total execution time: 00:00:00.087"
    },
    "metadata": {}
}, {
    "output_type": "execute_result",
    "metadata": {},
    "execution_count": 21,
    "data": {
        "application/vnd.dataresource+json": {
            "schema": {
                "fields": [
                    {
                        "name": "ID"
                    },
                    {
                        "name": "Patient"
                    },
                    {
                        "name": "PatientAddress"
                    },
                    {
                        "name": "PatientPostalCode"
                    },
                    {
                        "name": "PatientCity"
                    }
                ]
            },
            "data": [
                {
                    "0": "1",
                    "1": "Jan Kot",
                    "2": "6 Dolna Street",
                    "3": "44-444",
                    "4": "Bór"
                },
                {
                    "0": "2",
                    "1": "Maria Mysz",
                    "2": "9 Górna Street",
                    "3": "55-555",
                    "4": "Las"
                }
            ]
        },
        "text/html": [
            "<table>",
            "<tr><th>ID</th><th>Patient</th><th>PatientAddress</th><th>PatientPostalCode</th><th>PatientCity</th></tr>",
            "<tr><td>1</td><td>Jan Kot</td><td>6 Dolna Street</td><td>44-444</td><td>Bór</td></tr>",
            "<tr><td>2</td><td>Maria Mysz</td><td>9 Górna Street</td><td>55-555</td><td>Las</td></tr>",
            "</table>"
        ]
    }
}, {
    "output_type": "execute_result",
    "metadata": {},
    "execution_count": 21,
    "data": {
        "application/vnd.dataresource+json": {
            "schema": {
                "fields": [
                    {
                        "name": "ID"
                    },
                    {
                        "name": "PatientID"
                    },
                    {
                        "name": "AppointmentTime"
                    },
                    {
                        "name": "Price"
                    },
                    {
                        "name": "Physician"
                    },
                    {
                        "name": "AppointmentCause"
                    }
                ]
            },
            "data": [
                {
                    "0": "1",
                    "1": "1",
                    "2": "2029-02-01 12:30:00.000",
                    "3": "300.00",
                    "4": "Oleg Wyrwizab",
                    "5": "Denture fitting in (. . . )"
                },
                {
                    "0": "2",
                    "1": "2",
                    "2": "2030-01-04 11:45:00.000",
                    "3": "150.00",
                    "4": "Ewa Ciarka",
                    "5": "Birthmark inspection (. . . )"
                }
            ]
        },
        "text/html": [
            "<table>",
            "<tr><th>ID</th><th>PatientID</th><th>AppointmentTime</th><th>Price</th><th>Physician</th><th>AppointmentCause</th></tr>",
            "<tr><td>1</td><td>1</td><td>2029-02-01 12:30:00.000</td><td>300.00</td><td>Oleg Wyrwizab</td><td>Denture fitting in (. . . )</td></tr>",
            "<tr><td>2</td><td>2</td><td>2030-01-04 11:45:00.000</td><td>150.00</td><td>Ewa Ciarka</td><td>Birthmark inspection (. . . )</td></tr>",
            "</table>"
        ]
    }
}
],
            "execution_count": 18
        }
    ]
}